{
  "nbformat": 4,
  "nbformat_minor": 0,
  "metadata": {
    "colab": {
      "provenance": [],
      "authorship_tag": "ABX9TyMx7w0zQa3EnC4R8Qxibjj7",
      "include_colab_link": true
    },
    "kernelspec": {
      "name": "python3",
      "display_name": "Python 3"
    },
    "language_info": {
      "name": "python"
    }
  },
  "cells": [
    {
      "cell_type": "markdown",
      "metadata": {
        "id": "view-in-github",
        "colab_type": "text"
      },
      "source": [
        "<a href=\"https://colab.research.google.com/github/johyunkang/MLwithPythonCookbook/blob/main/11_%EB%AA%A8%EB%8D%B8%ED%8F%89%EA%B0%80.ipynb\" target=\"_parent\"><img src=\"https://colab.research.google.com/assets/colab-badge.svg\" alt=\"Open In Colab\"/></a>"
      ]
    },
    {
      "cell_type": "markdown",
      "source": [
        "# Chapter 11 모델평가"
      ],
      "metadata": {
        "id": "ApNg6w9ejLmg"
      }
    },
    {
      "cell_type": "markdown",
      "source": [
        "## 11.1 교차검증 모델 만들기"
      ],
      "metadata": {
        "id": "5ZAUkMV6jOxh"
      }
    },
    {
      "cell_type": "code",
      "execution_count": 15,
      "metadata": {
        "colab": {
          "base_uri": "https://localhost:8080/"
        },
        "id": "pJwDCYkVjJ1g",
        "outputId": "7c8515a5-ab2f-4fe9-8128-7fb17f3be30e"
      },
      "outputs": [
        {
          "output_type": "stream",
          "name": "stdout",
          "text": [
            "features shape: (1797, 64)\n",
            "features sample: [[ 0.  0.  5. 13.  9.  1.  0.  0.  0.  0. 13. 15. 10. 15.  5.  0.  0.  3.\n",
            "  15.  2.  0. 11.  8.  0.  0.  4. 12.  0.  0.  8.  8.  0.  0.  5.  8.  0.\n",
            "   0.  9.  8.  0.  0.  4. 11.  0.  1. 12.  7.  0.  0.  2. 14.  5. 10. 12.\n",
            "   0.  0.  0.  0.  6. 13. 10.  0.  0.  0.]\n",
            " [ 0.  0.  0. 12. 13.  5.  0.  0.  0.  0.  0. 11. 16.  9.  0.  0.  0.  0.\n",
            "   3. 15. 16.  6.  0.  0.  0.  7. 15. 16. 16.  2.  0.  0.  0.  0.  1. 16.\n",
            "  16.  3.  0.  0.  0.  0.  1. 16. 16.  6.  0.  0.  0.  0.  1. 16. 16.  6.\n",
            "   0.  0.  0.  0.  0. 11. 16. 10.  0.  0.]\n",
            " [ 0.  0.  0.  4. 15. 12.  0.  0.  0.  0.  3. 16. 15. 14.  0.  0.  0.  0.\n",
            "   8. 13.  8. 16.  0.  0.  0.  0.  1.  6. 15. 11.  0.  0.  0.  1.  8. 13.\n",
            "  15.  1.  0.  0.  0.  9. 16. 16.  5.  0.  0.  0.  0.  3. 13. 16. 16. 11.\n",
            "   5.  0.  0.  0.  0.  3. 11. 16.  9.  0.]]\n",
            "\n",
            "\n",
            "target shape: (1797,)\n",
            "target sample: [0 1 2]\n",
            "\n",
            "\n",
            "평균 계산(KFold): 0.9693916821849783\n",
            "[0.97777778 0.98888889 0.96111111 0.94444444 0.97777778 0.98333333\n",
            " 0.95555556 0.98882682 0.97765363 0.93854749]\n",
            "\n",
            "\n",
            "평균 계산(StratifiedKFold): 0.9666076970825573\n",
            "[0.96666667 0.97222222 0.98333333 0.95555556 0.96666667 0.95\n",
            " 0.97777778 0.96089385 0.96648045 0.96648045]\n"
          ]
        }
      ],
      "source": [
        "from sklearn import datasets\n",
        "from sklearn import metrics\n",
        "from sklearn.model_selection import KFold, cross_val_score, StratifiedKFold\n",
        "from sklearn.pipeline import make_pipeline\n",
        "from sklearn.linear_model import LogisticRegression\n",
        "from sklearn.preprocessing import StandardScaler\n",
        "\n",
        "# 데이터셋 로드\n",
        "digits = datasets.load_digits()\n",
        "\n",
        "# 특성 행렬을 만들기\n",
        "features = digits.data\n",
        "print('features shape:', features.shape)\n",
        "print('features sample:', features[:3])\n",
        "\n",
        "# 타깃벡터\n",
        "target = digits.target\n",
        "print('\\n\\ntarget shape:', target.shape)\n",
        "print('target sample:', target[:3])\n",
        "\n",
        "scaler = StandardScaler()\n",
        "lr = LogisticRegression()\n",
        "\n",
        "# 표준화 후 로지스틱회귀 파이프라인 생성\n",
        "pipeline = make_pipeline(scaler, lr)\n",
        "\n",
        "# K-폴드 교차검증\n",
        "kf = KFold(n_splits=10, shuffle=True, random_state=1)\n",
        "skf = StratifiedKFold(n_splits=10, shuffle=True, random_state=1)\n",
        "\n",
        "cv_result = cross_val_score(pipeline, # 파이프라인\n",
        "                            features, # 특성행렬\n",
        "                            target,   # 타깃\n",
        "                            cv = kf,  # 교차검증 기법\n",
        "                            scoring='accuracy', # 평가지표\n",
        "                            n_jobs = -1 # 모든 CPU 사용\n",
        "                            )\n",
        "\n",
        "# 평균 계산\n",
        "print('\\n\\n평균 계산(KFold):', cv_result.mean())\n",
        "print(cv_result)\n",
        "\n",
        "cv_result = cross_val_score(pipeline, # 파이프라인\n",
        "                            features, # 특성행렬\n",
        "                            target,   # 타깃\n",
        "                            cv = skf,  # 교차검증 기법\n",
        "                            scoring='accuracy', # 평가지표\n",
        "                            n_jobs = -1 # 모든 CPU 사용\n",
        "                            )\n",
        "\n",
        "# 평균 계산\n",
        "print('\\n\\n평균 계산(StratifiedKFold):', cv_result.mean())\n",
        "print(cv_result)"
      ]
    },
    {
      "cell_type": "markdown",
      "source": [
        "## 11.2 기본 회귀 모델 만들기 "
      ],
      "metadata": {
        "id": "_RI0FZJno2nC"
      }
    },
    {
      "cell_type": "markdown",
      "source": [
        "과제 : 다른 모델과 비교하기 위해 기본 회귀 모델을 만들고 싶습니다\n",
        "\n",
        "해결 : `DummyRegressor`를 사용하여 기본 모델로 사용할 간단한 더미 모델을 만듭니다."
      ],
      "metadata": {
        "id": "Anucmg8io7B3"
      }
    },
    {
      "cell_type": "code",
      "source": [
        "from sklearn.datasets import load_boston\n",
        "from sklearn.dummy import DummyRegressor\n",
        "from sklearn.model_selection import train_test_split\n",
        "import warnings\n",
        "warnings.filterwarnings(action='ignore') # 경고 무시\n",
        "# warnings.filterwarnings(action='default') # 경고 나오게 \n",
        "\n",
        "boston = load_boston()\n",
        "\n",
        "features, target = boston.data, boston.target\n",
        "print('features shape:', features.shape)\n",
        "print('features sample:', features[:3])\n",
        "print('\\n\\ntarget shape:', target.shape)\n",
        "print('target sample:', target[:3])\n",
        "\n",
        "x_train, x_test, y_train, y_test = train_test_split(features, target, random_state=0)\n",
        "\n",
        "# 더미 회귀모델을 만듭니다.\n",
        "dummy = DummyRegressor(strategy='mean')\n",
        "\n",
        "# 더미 회귀모델 훈련\n",
        "dummy.fit(x_train, y_train)\n",
        "\n",
        "# R2 점수 계산\n",
        "r2 = dummy.score(x_test, y_test)\n",
        "print('R2 score:', r2)"
      ],
      "metadata": {
        "colab": {
          "base_uri": "https://localhost:8080/"
        },
        "id": "PzDf40-xpFH1",
        "outputId": "a3ba4df5-d046-430a-8745-07757b8c1a72"
      },
      "execution_count": 20,
      "outputs": [
        {
          "output_type": "stream",
          "name": "stdout",
          "text": [
            "features shape: (506, 13)\n",
            "features sample: [[6.3200e-03 1.8000e+01 2.3100e+00 0.0000e+00 5.3800e-01 6.5750e+00\n",
            "  6.5200e+01 4.0900e+00 1.0000e+00 2.9600e+02 1.5300e+01 3.9690e+02\n",
            "  4.9800e+00]\n",
            " [2.7310e-02 0.0000e+00 7.0700e+00 0.0000e+00 4.6900e-01 6.4210e+00\n",
            "  7.8900e+01 4.9671e+00 2.0000e+00 2.4200e+02 1.7800e+01 3.9690e+02\n",
            "  9.1400e+00]\n",
            " [2.7290e-02 0.0000e+00 7.0700e+00 0.0000e+00 4.6900e-01 7.1850e+00\n",
            "  6.1100e+01 4.9671e+00 2.0000e+00 2.4200e+02 1.7800e+01 3.9283e+02\n",
            "  4.0300e+00]]\n",
            "\n",
            "\n",
            "target shape: (506,)\n",
            "target sample: [24.  21.6 34.7]\n",
            "R2 score: -0.001119359203955339\n"
          ]
        }
      ]
    },
    {
      "cell_type": "markdown",
      "source": [
        "다른 모델을 훈련하고 평가하여 성능점수 비교"
      ],
      "metadata": {
        "id": "EC7XXePNq-VI"
      }
    },
    {
      "cell_type": "code",
      "source": [
        "from sklearn.linear_model import LinearRegression\n",
        "\n",
        "ols = LinearRegression()\n",
        "ols.fit(x_train, y_train)\n",
        "# R2 계산\n",
        "r2_ols = ols.score(x_test, y_test)\n",
        "print('r2 score:', r2_ols)"
      ],
      "metadata": {
        "colab": {
          "base_uri": "https://localhost:8080/"
        },
        "id": "Fg5zN8o7rA14",
        "outputId": "15ecb362-b063-492c-de92-c4a5d43a7337"
      },
      "execution_count": 21,
      "outputs": [
        {
          "output_type": "stream",
          "name": "stdout",
          "text": [
            "r2 score: 0.635463843320211\n"
          ]
        }
      ]
    },
    {
      "cell_type": "markdown",
      "source": [
        "## 11.4 이진 분류기의 예측 평가하기 "
      ],
      "metadata": {
        "id": "06rd-mWNsmoM"
      }
    },
    {
      "cell_type": "code",
      "source": [
        "# p.288"
      ],
      "metadata": {
        "id": "l8LCEJHtspOj"
      },
      "execution_count": null,
      "outputs": []
    }
  ]
}