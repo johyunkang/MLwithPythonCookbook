{
  "nbformat": 4,
  "nbformat_minor": 0,
  "metadata": {
    "colab": {
      "provenance": [],
      "authorship_tag": "ABX9TyPilvNNmwT7mcnykEqknBhv",
      "include_colab_link": true
    },
    "kernelspec": {
      "name": "python3",
      "display_name": "Python 3"
    },
    "language_info": {
      "name": "python"
    }
  },
  "cells": [
    {
      "cell_type": "markdown",
      "metadata": {
        "id": "view-in-github",
        "colab_type": "text"
      },
      "source": [
        "<a href=\"https://colab.research.google.com/github/johyunkang/MLwithPythonCookbook/blob/main/11_%EB%AA%A8%EB%8D%B8%ED%8F%89%EA%B0%80.ipynb\" target=\"_parent\"><img src=\"https://colab.research.google.com/assets/colab-badge.svg\" alt=\"Open In Colab\"/></a>"
      ]
    },
    {
      "cell_type": "markdown",
      "source": [
        "# Chapter 11 모델평가"
      ],
      "metadata": {
        "id": "ApNg6w9ejLmg"
      }
    },
    {
      "cell_type": "markdown",
      "source": [
        "## 11.1 교차검증 모델 만들기"
      ],
      "metadata": {
        "id": "5ZAUkMV6jOxh"
      }
    },
    {
      "cell_type": "code",
      "execution_count": 1,
      "metadata": {
        "colab": {
          "base_uri": "https://localhost:8080/"
        },
        "id": "pJwDCYkVjJ1g",
        "outputId": "0c7b659a-cccf-4652-b1c4-89f763e151af"
      },
      "outputs": [
        {
          "output_type": "stream",
          "name": "stdout",
          "text": [
            "features shape: (1797, 64)\n",
            "features sample: [[ 0.  0.  5. 13.  9.  1.  0.  0.  0.  0. 13. 15. 10. 15.  5.  0.  0.  3.\n",
            "  15.  2.  0. 11.  8.  0.  0.  4. 12.  0.  0.  8.  8.  0.  0.  5.  8.  0.\n",
            "   0.  9.  8.  0.  0.  4. 11.  0.  1. 12.  7.  0.  0.  2. 14.  5. 10. 12.\n",
            "   0.  0.  0.  0.  6. 13. 10.  0.  0.  0.]\n",
            " [ 0.  0.  0. 12. 13.  5.  0.  0.  0.  0.  0. 11. 16.  9.  0.  0.  0.  0.\n",
            "   3. 15. 16.  6.  0.  0.  0.  7. 15. 16. 16.  2.  0.  0.  0.  0.  1. 16.\n",
            "  16.  3.  0.  0.  0.  0.  1. 16. 16.  6.  0.  0.  0.  0.  1. 16. 16.  6.\n",
            "   0.  0.  0.  0.  0. 11. 16. 10.  0.  0.]\n",
            " [ 0.  0.  0.  4. 15. 12.  0.  0.  0.  0.  3. 16. 15. 14.  0.  0.  0.  0.\n",
            "   8. 13.  8. 16.  0.  0.  0.  0.  1.  6. 15. 11.  0.  0.  0.  1.  8. 13.\n",
            "  15.  1.  0.  0.  0.  9. 16. 16.  5.  0.  0.  0.  0.  3. 13. 16. 16. 11.\n",
            "   5.  0.  0.  0.  0.  3. 11. 16.  9.  0.]]\n",
            "\n",
            "\n",
            "target shape: (1797,)\n",
            "target sample: [0 1 2]\n",
            "\n",
            "\n",
            "평균 계산(KFold): 0.9693916821849783\n",
            "[0.97777778 0.98888889 0.96111111 0.94444444 0.97777778 0.98333333\n",
            " 0.95555556 0.98882682 0.97765363 0.93854749]\n",
            "\n",
            "\n",
            "평균 계산(StratifiedKFold): 0.9666076970825573\n",
            "[0.96666667 0.97222222 0.98333333 0.95555556 0.96666667 0.95\n",
            " 0.97777778 0.96089385 0.96648045 0.96648045]\n"
          ]
        }
      ],
      "source": [
        "from sklearn import datasets\n",
        "from sklearn import metrics\n",
        "from sklearn.model_selection import KFold, cross_val_score, StratifiedKFold\n",
        "from sklearn.pipeline import make_pipeline\n",
        "from sklearn.linear_model import LogisticRegression\n",
        "from sklearn.preprocessing import StandardScaler\n",
        "\n",
        "# 데이터셋 로드\n",
        "digits = datasets.load_digits()\n",
        "\n",
        "# 특성 행렬을 만들기\n",
        "features = digits.data\n",
        "print('features shape:', features.shape)\n",
        "print('features sample:', features[:3])\n",
        "\n",
        "# 타깃벡터\n",
        "target = digits.target\n",
        "print('\\n\\ntarget shape:', target.shape)\n",
        "print('target sample:', target[:3])\n",
        "\n",
        "scaler = StandardScaler()\n",
        "lr = LogisticRegression()\n",
        "\n",
        "# 표준화 후 로지스틱회귀 파이프라인 생성\n",
        "pipeline = make_pipeline(scaler, lr)\n",
        "\n",
        "# K-폴드 교차검증\n",
        "kf = KFold(n_splits=10, shuffle=True, random_state=1)\n",
        "skf = StratifiedKFold(n_splits=10, shuffle=True, random_state=1)\n",
        "\n",
        "cv_result = cross_val_score(pipeline, # 파이프라인\n",
        "                            features, # 특성행렬\n",
        "                            target,   # 타깃\n",
        "                            cv = kf,  # 교차검증 기법\n",
        "                            scoring='accuracy', # 평가지표\n",
        "                            n_jobs = -1 # 모든 CPU 사용\n",
        "                            )\n",
        "\n",
        "# 평균 계산\n",
        "print('\\n\\n평균 계산(KFold):', cv_result.mean())\n",
        "print(cv_result)\n",
        "\n",
        "cv_result = cross_val_score(pipeline, # 파이프라인\n",
        "                            features, # 특성행렬\n",
        "                            target,   # 타깃\n",
        "                            cv = skf,  # 교차검증 기법\n",
        "                            scoring='accuracy', # 평가지표\n",
        "                            n_jobs = -1 # 모든 CPU 사용\n",
        "                            )\n",
        "\n",
        "# 평균 계산\n",
        "print('\\n\\n평균 계산(StratifiedKFold):', cv_result.mean())\n",
        "print(cv_result)"
      ]
    },
    {
      "cell_type": "markdown",
      "source": [
        "## 11.2 기본 회귀 모델 만들기 "
      ],
      "metadata": {
        "id": "_RI0FZJno2nC"
      }
    },
    {
      "cell_type": "markdown",
      "source": [
        "과제 : 다른 모델과 비교하기 위해 기본 회귀 모델을 만들고 싶습니다\n",
        "\n",
        "해결 : `DummyRegressor`를 사용하여 기본 모델로 사용할 간단한 더미 모델을 만듭니다."
      ],
      "metadata": {
        "id": "Anucmg8io7B3"
      }
    },
    {
      "cell_type": "code",
      "source": [
        "from sklearn.datasets import load_boston\n",
        "from sklearn.dummy import DummyRegressor\n",
        "from sklearn.model_selection import train_test_split\n",
        "import warnings\n",
        "warnings.filterwarnings(action='ignore') # 경고 무시\n",
        "# warnings.filterwarnings(action='default') # 경고 나오게 \n",
        "\n",
        "boston = load_boston()\n",
        "\n",
        "features, target = boston.data, boston.target\n",
        "print('features shape:', features.shape)\n",
        "print('features sample:', features[:3])\n",
        "print('\\n\\ntarget shape:', target.shape)\n",
        "print('target sample:', target[:3])\n",
        "\n",
        "x_train, x_test, y_train, y_test = train_test_split(features, target, random_state=0)\n",
        "\n",
        "# 더미 회귀모델을 만듭니다.\n",
        "dummy = DummyRegressor(strategy='mean')\n",
        "\n",
        "# 더미 회귀모델 훈련\n",
        "dummy.fit(x_train, y_train)\n",
        "\n",
        "# R2 점수 계산\n",
        "r2 = dummy.score(x_test, y_test)\n",
        "print('R2 score:', r2)"
      ],
      "metadata": {
        "colab": {
          "base_uri": "https://localhost:8080/"
        },
        "id": "PzDf40-xpFH1",
        "outputId": "dcbf6514-c2f0-473e-c707-01cca0b36252"
      },
      "execution_count": 2,
      "outputs": [
        {
          "output_type": "stream",
          "name": "stdout",
          "text": [
            "features shape: (506, 13)\n",
            "features sample: [[6.3200e-03 1.8000e+01 2.3100e+00 0.0000e+00 5.3800e-01 6.5750e+00\n",
            "  6.5200e+01 4.0900e+00 1.0000e+00 2.9600e+02 1.5300e+01 3.9690e+02\n",
            "  4.9800e+00]\n",
            " [2.7310e-02 0.0000e+00 7.0700e+00 0.0000e+00 4.6900e-01 6.4210e+00\n",
            "  7.8900e+01 4.9671e+00 2.0000e+00 2.4200e+02 1.7800e+01 3.9690e+02\n",
            "  9.1400e+00]\n",
            " [2.7290e-02 0.0000e+00 7.0700e+00 0.0000e+00 4.6900e-01 7.1850e+00\n",
            "  6.1100e+01 4.9671e+00 2.0000e+00 2.4200e+02 1.7800e+01 3.9283e+02\n",
            "  4.0300e+00]]\n",
            "\n",
            "\n",
            "target shape: (506,)\n",
            "target sample: [24.  21.6 34.7]\n",
            "R2 score: -0.001119359203955339\n"
          ]
        }
      ]
    },
    {
      "cell_type": "markdown",
      "source": [
        "다른 모델을 훈련하고 평가하여 성능점수 비교"
      ],
      "metadata": {
        "id": "EC7XXePNq-VI"
      }
    },
    {
      "cell_type": "code",
      "source": [
        "from sklearn.linear_model import LinearRegression\n",
        "\n",
        "ols = LinearRegression()\n",
        "ols.fit(x_train, y_train)\n",
        "# R2 계산\n",
        "r2_ols = ols.score(x_test, y_test)\n",
        "print('r2 score:', r2_ols)"
      ],
      "metadata": {
        "colab": {
          "base_uri": "https://localhost:8080/"
        },
        "id": "Fg5zN8o7rA14",
        "outputId": "1fd17e1e-eaba-4ac2-e42c-715265d04894"
      },
      "execution_count": 3,
      "outputs": [
        {
          "output_type": "stream",
          "name": "stdout",
          "text": [
            "r2 score: 0.635463843320211\n"
          ]
        }
      ]
    },
    {
      "cell_type": "markdown",
      "source": [
        "## 11.4 이진 분류기의 예측 평가하기 "
      ],
      "metadata": {
        "id": "06rd-mWNsmoM"
      }
    },
    {
      "cell_type": "markdown",
      "source": [
        "과제 : 훈련된 분류 모델의 품질을 평가하고 싶습니다.\n",
        "\n",
        "해결 : 사이킷런의 `cross_val_score` 함수를 사용하여 교차검증을 수행할 때 `scoring` 매개 변수에 선능지표 중 하나를 선택 가능\n",
        "\n",
        "- 정밀도(precision), 재현율(recall), F1\n",
        "\n",
        "- 정확도 $= \\dfrac {TP + TN} {TP+TN+FP+FN}$\n",
        "\n",
        "- FP : Type1 에러. 양성 클래스로 예측한 것 중에서 실제는 음성 클래스인 샘플 개수\n",
        "\n",
        "- FN : Type2 에러. 음성 클래스로 예측한 것 중에서 실제 양성 클래스인 샘플 개수"
      ],
      "metadata": {
        "id": "xhbmklbCpnhD"
      }
    },
    {
      "cell_type": "markdown",
      "source": [
        "`make_classification` 파라미터 설명\n",
        "- n_samples : 표본 데이터의 수, 디폴트 100\n",
        "- n_features : 독립 변수의 수, 디폴트 20\n",
        "- n_informative : 독립 변수 중 종속 변수와 상관 관계가 있는 성분의 수, 디폴트 2\n",
        "- n_redundant : 독립 변수 중 다른 독립 변수의 선형 조합으로 나타나는 성분의 수, 디폴트 2\n",
        "- n_repeated : 독립 변수 중 단순 중복된 성분의 수, 디폴트 0\n",
        "- n_classes : 종속 변수의 클래스 수, 디폴트 2\n",
        "- n_clusters_per_class : 클래스 당 클러스터의 수, 디폴트 2\n",
        "- weights : 각 클래스에 할당된 표본 수\n",
        "- random_state : 난수 발생 시드"
      ],
      "metadata": {
        "id": "3LwBvXJys_qk"
      }
    },
    {
      "cell_type": "code",
      "source": [
        "from sklearn.model_selection import cross_val_score\n",
        "from sklearn.linear_model import LogisticRegression\n",
        "from sklearn.datasets import make_classification\n",
        "\n",
        "# 특성 행렬과 타깃 벡터 생성\n",
        "x, y = make_classification(n_samples=1000, n_features=3, n_informative=3,\n",
        "                           n_redundant=0, n_classes=2, random_state=1)\n",
        "\n",
        "print('x shape:', x.shape)\n",
        "print('y shape:', y.shape)\n",
        "print('x sample:', x[:3])\n",
        "print('y sample:', y[:3])\n",
        "\n",
        "logit = LogisticRegression()\n",
        "accu = cross_val_score(logit, x, y, scoring='accuracy')\n",
        "print('\\n정확도(accuracy):', accu)"
      ],
      "metadata": {
        "id": "l8LCEJHtspOj",
        "colab": {
          "base_uri": "https://localhost:8080/"
        },
        "outputId": "b613aa46-30fd-4d59-92e7-ac8bcd5ebca3"
      },
      "execution_count": 4,
      "outputs": [
        {
          "output_type": "stream",
          "name": "stdout",
          "text": [
            "x shape: (1000, 3)\n",
            "y shape: (1000,)\n",
            "x sample: [[-0.80141251  2.42988093  0.69276514]\n",
            " [-1.44629062 -0.62026815  1.56596609]\n",
            " [ 0.970616    0.88966077  1.94673411]]\n",
            "y sample: [1 1 0]\n",
            "\n",
            "정확도(accuracy): [0.87 0.88 0.85 0.93 0.9 ]\n"
          ]
        }
      ]
    },
    {
      "cell_type": "markdown",
      "source": [
        "정밀도 : 양성으로 예측한 샘플 중 진짜 양성 클래스의 비율\n",
        "\n",
        "정밀도 $= \\dfrac {TP} {TP + FP}$"
      ],
      "metadata": {
        "id": "N2w3Da2tt6pj"
      }
    },
    {
      "cell_type": "code",
      "source": [
        "prec = cross_val_score(logit, x, y, scoring='precision')\n",
        "print('정밀도(precision):', prec)"
      ],
      "metadata": {
        "colab": {
          "base_uri": "https://localhost:8080/"
        },
        "id": "VedrJkjUuFK2",
        "outputId": "eefc95df-b97e-4b24-bcec-d57504f5addc"
      },
      "execution_count": 5,
      "outputs": [
        {
          "output_type": "stream",
          "name": "stdout",
          "text": [
            "정밀도(precision): [0.83035714 0.86538462 0.8125     0.9673913  0.86238532]\n"
          ]
        }
      ]
    },
    {
      "cell_type": "markdown",
      "source": [
        "재현율 : 진짜 양성 샘플 중에서 양성으로 예측한 비율\n",
        "\n",
        "재현율 $= \\dfrac {TP} {TP+FN}$"
      ],
      "metadata": {
        "id": "0B0Cfqz_uR1f"
      }
    },
    {
      "cell_type": "code",
      "source": [
        "recall = cross_val_score(logit, x, y, scoring='recall')\n",
        "print('재현율(recall):', recall)"
      ],
      "metadata": {
        "colab": {
          "base_uri": "https://localhost:8080/"
        },
        "id": "_yl9Xmqduij5",
        "outputId": "ecaf3a5d-8829-4aec-ad46-b68aa3ee7782"
      },
      "execution_count": 6,
      "outputs": [
        {
          "output_type": "stream",
          "name": "stdout",
          "text": [
            "재현율(recall): [0.93       0.9        0.91       0.89       0.94949495]\n"
          ]
        }
      ]
    },
    {
      "cell_type": "markdown",
      "source": [
        "정밀도와 재현율은 서로 균형을 맞춰야 함\n",
        "\n",
        "이를 좀 더 직관적으로 이해하기 위해 F1 점수가 만들어 짐\n",
        "\n",
        "F1은 정밀도와 재현율의 조화평균(harmonic mean)임\n",
        "\n",
        "$F1 = 2 \\times \\dfrac {precision \\times recall} {precision + recall}$"
      ],
      "metadata": {
        "id": "a_dxRpnQvg2S"
      }
    },
    {
      "cell_type": "code",
      "source": [
        "f1 = cross_val_score(logit, x, y, scoring='f1')\n",
        "print('F1 score:', f1)"
      ],
      "metadata": {
        "colab": {
          "base_uri": "https://localhost:8080/"
        },
        "id": "b79APek3v4Eg",
        "outputId": "20931525-337a-4088-a156-b286f0e63e96"
      },
      "execution_count": 7,
      "outputs": [
        {
          "output_type": "stream",
          "name": "stdout",
          "text": [
            "F1 score: [0.87735849 0.88235294 0.85849057 0.92708333 0.90384615]\n"
          ]
        }
      ]
    },
    {
      "cell_type": "markdown",
      "source": [
        "`cross_validate` (sklearn ver 0.19 추가) 는 `cross_val_score`와 비슷하지만 여러 개의 평가 지표를 추가할 수 있음"
      ],
      "metadata": {
        "id": "ELSrJlPBweq4"
      }
    },
    {
      "cell_type": "code",
      "source": [
        "from sklearn.model_selection import cross_validate\n",
        "\n",
        "rt_cv = cross_validate(logit, x, y, scoring=['accuracy', 'f1'])\n",
        "print('cross_validate 결과\\n', rt_cv)\n",
        "print('\\ncross_validate 결과 type:', type(rt_cv))\n",
        "print('\\ndict keys 추출:', rt_cv.keys())\n",
        "print('\\nkey fit_time 만 추출:', rt_cv['fit_time'])"
      ],
      "metadata": {
        "colab": {
          "base_uri": "https://localhost:8080/"
        },
        "id": "tT339ELNwoKl",
        "outputId": "79ca7eed-bb3d-4ac7-ef2c-8d18c10781e2"
      },
      "execution_count": 8,
      "outputs": [
        {
          "output_type": "stream",
          "name": "stdout",
          "text": [
            "cross_validate 결과\n",
            " {'fit_time': array([0.0167253 , 0.0069263 , 0.00899673, 0.00873089, 0.00806737]), 'score_time': array([0.00742984, 0.0030241 , 0.0031085 , 0.00245857, 0.00467753]), 'test_accuracy': array([0.87, 0.88, 0.85, 0.93, 0.9 ]), 'test_f1': array([0.87735849, 0.88235294, 0.85849057, 0.92708333, 0.90384615])}\n",
            "\n",
            "cross_validate 결과 type: <class 'dict'>\n",
            "\n",
            "dict keys 추출: dict_keys(['fit_time', 'score_time', 'test_accuracy', 'test_f1'])\n",
            "\n",
            "key fit_time 만 추출: [0.0167253  0.0069263  0.00899673 0.00873089 0.00806737]\n"
          ]
        }
      ]
    },
    {
      "cell_type": "markdown",
      "source": [
        "## 11.5 이진 분류기 임곗값 평가하기 (ROC 커브, AUROC)"
      ],
      "metadata": {
        "id": "Lpqa7MKEyEVt"
      }
    },
    {
      "cell_type": "markdown",
      "source": [
        "과제 : 이진 분류기를 여러 가지 확률 임곗값으로 평가하고 싶습니다.\n",
        "\n",
        "해결 : ROC (receving operating chracteristic) 곡선을 이용하여 품질 평가"
      ],
      "metadata": {
        "id": "uR5-5oygyJei"
      }
    },
    {
      "cell_type": "code",
      "source": [
        "from matplotlib import pyplot as plt\n",
        "from sklearn.datasets import make_classification\n",
        "from sklearn.linear_model import LogisticRegression\n",
        "from sklearn.metrics import roc_curve, roc_auc_score\n",
        "from sklearn.model_selection import train_test_split\n",
        "\n",
        "x, y = make_classification(n_samples=10_000, n_features=10, n_classes=2,\n",
        "                           n_informative=3, random_state=3)\n",
        "print('x shape:', x.shape)\n",
        "print('y shape:', y.shape)\n",
        "print('x sample:', x[:3])\n",
        "print('y sample:', y[:3])\n",
        "\n",
        "x_train, x_test, y_train, y_test = train_test_split(x, y, test_size=0.1, random_state=1)\n",
        "logit = LogisticRegression()\n",
        "\n",
        "logit.fit(x_train, y_train)\n",
        "\n",
        "# 예측확률 계산\n",
        "y_proba = logit.predict_proba(x_test)[:, 1]\n",
        "\n",
        "# 진짜 양성 비율과 거짓 양성 비율을 계산\n",
        "false_positive_rate, true_positive_rate, threshold = roc_curve(y_test, y_proba)\n",
        "\n",
        "# ROC 곡선\n",
        "plt.title('ROC (Receiver Operating Characteristic)')\n",
        "plt.plot(false_positive_rate, true_positive_rate)\n",
        "plt.plot([0, 1], ls='--')\n",
        "plt.plot([0, 0], [1, 0], c=\"0.7\") # c=0.7 : gray color 수직선\n",
        "plt.plot([1, 1], c='0.7')         # c=0.7 : gray color 수평선\n",
        "plt.ylabel('TPR')\n",
        "plt.xlabel('FPR')\n",
        "plt.show()"
      ],
      "metadata": {
        "colab": {
          "base_uri": "https://localhost:8080/",
          "height": 456
        },
        "id": "5IiY2PbYyaCv",
        "outputId": "66c3eaa9-a5e1-4103-e531-063a5567fba6"
      },
      "execution_count": 9,
      "outputs": [
        {
          "output_type": "stream",
          "name": "stdout",
          "text": [
            "x shape: (10000, 10)\n",
            "y shape: (10000,)\n",
            "x sample: [[ 0.95113083  0.10088996  0.59922172 -0.57727406 -1.27124436  1.57065196\n",
            "  -0.01500449  1.31616396 -1.00534424 -1.87957819]\n",
            " [ 0.71901417  0.98935259 -1.58166774 -0.86235827 -0.99428269  1.83633119\n",
            "   1.14487266  1.25305604  0.87268006  0.81333374]\n",
            " [ 0.53683917  1.0822293  -1.27721296  1.35144769  1.35246266 -0.79009656\n",
            "   1.30122471 -0.15950734  0.0940172  -1.54091607]]\n",
            "y sample: [1 1 0]\n"
          ]
        },
        {
          "output_type": "display_data",
          "data": {
            "text/plain": [
              "<Figure size 432x288 with 1 Axes>"
            ],
            "image/png": "[encoded data removed]"
          },
          "metadata": {
            "needs_background": "light"
          }
        }
      ]
    },
    {
      "cell_type": "code",
      "source": [
        "print('FPR shape:', false_positive_rate.shape)\n",
        "print('FPR value:', false_positive_rate[:3])\n",
        "print('\\nTPR shape:', true_positive_rate.shape)\n",
        "print('TPR value:', true_positive_rate[:3])\n",
        "\n",
        "\n",
        "sample = logit.predict_proba(x_test)\n",
        "print('sample shape:', sample.shape)\n",
        "print('sample val:', sample[:3])\n",
        "print('y_proba shape:', y_proba.shape)\n",
        "print('y_proba sample:', y_proba[:3])"
      ],
      "metadata": {
        "colab": {
          "base_uri": "https://localhost:8080/"
        },
        "id": "13LC_V2s5T6q",
        "outputId": "b3ca386b-2e8d-4826-bf93-dc7faa35f3ef"
      },
      "execution_count": 10,
      "outputs": [
        {
          "output_type": "stream",
          "name": "stdout",
          "text": [
            "FPR shape: (236,)\n",
            "FPR value: [0. 0. 0.]\n",
            "\n",
            "TPR shape: (236,)\n",
            "TPR value: [0.         0.00204082 0.13265306]\n",
            "sample shape: (1000, 2)\n",
            "sample val: [[0.86891533 0.13108467]\n",
            " [0.46315541 0.53684459]\n",
            " [0.03395355 0.96604645]]\n",
            "y_proba shape: (1000,)\n",
            "y_proba sample: [0.13108467 0.53684459 0.96604645]\n"
          ]
        }
      ]
    },
    {
      "cell_type": "code",
      "source": [
        "# classes_ 를 이용하여 클래스를 확인\n",
        "logit.classes_"
      ],
      "metadata": {
        "id": "-MMFGGLmjTUc",
        "colab": {
          "base_uri": "https://localhost:8080/"
        },
        "outputId": "db0c30e1-0ffb-404b-dcb2-54bddaf71887"
      },
      "execution_count": 11,
      "outputs": [
        {
          "output_type": "execute_result",
          "data": {
            "text/plain": [
              "array([0, 1])"
            ]
          },
          "metadata": {},
          "execution_count": 11
        }
      ]
    },
    {
      "cell_type": "markdown",
      "source": [
        "$진짜 양성 비율(TPR) = \\dfrac{진짜양성} {진짜양성 + 거짓음성} = \\dfrac {TP} {TP + FN} = RECALL$\n",
        "\n",
        "$거짓 양성 비율 (FPR) = \\dfrac {거짓양성} {거짓양성 + 진짜음성} = \\dfrac {FP} {FP + TN}$\n",
        "\n",
        "\n",
        "ROC 곡선은 확률 임곗값마다 TPR 과 FPR을 나타냅니다.\n",
        "\n",
        "예를 들어 해결에서 임곗값이 0.5일 때 TPR은 0.81, FPR은 0.15 입니다."
      ],
      "metadata": {
        "id": "KXQfC3xpoNNH"
      }
    },
    {
      "cell_type": "code",
      "source": [
        "print('임곗값:', threshold[116])\n",
        "print('진짜양성비율(TPR) : ', true_positive_rate[116])\n",
        "print('거짓양성비율 (FPR) :', false_positive_rate[116])"
      ],
      "metadata": {
        "colab": {
          "base_uri": "https://localhost:8080/"
        },
        "id": "gm6KFeg5o_Kz",
        "outputId": "7f9c5821-5293-4eb3-8d0c-cc78a7e9a83c"
      },
      "execution_count": 12,
      "outputs": [
        {
          "output_type": "stream",
          "name": "stdout",
          "text": [
            "임곗값: 0.5331715230155316\n",
            "진짜양성비율(TPR) :  0.810204081632653\n",
            "거짓양성비율 (FPR) : 0.14901960784313725\n"
          ]
        }
      ]
    },
    {
      "cell_type": "markdown",
      "source": [
        "임곗값을 **80%로 증가**시키면 (즉, 샘플을 양성으로 예측하기 위해 모델이 확신하는 정도를 증가시키면) TPR과 FPR이 크게 **감소**합니다."
      ],
      "metadata": {
        "id": "47n8ZmoSphiM"
      }
    },
    {
      "cell_type": "code",
      "source": [
        "idx = 45\n",
        "print('임곗값:', threshold[idx])\n",
        "print('TPR:', true_positive_rate[idx])\n",
        "print('FPR:', false_positive_rate[idx])"
      ],
      "metadata": {
        "colab": {
          "base_uri": "https://localhost:8080/"
        },
        "id": "g-CMLg18ppEZ",
        "outputId": "b2b239ce-df10-4e05-8634-294c8b76c229"
      },
      "execution_count": 13,
      "outputs": [
        {
          "output_type": "stream",
          "name": "stdout",
          "text": [
            "임곗값: 0.818913387665929\n",
            "TPR: 0.5448979591836735\n",
            "FPR: 0.047058823529411764\n"
          ]
        }
      ]
    },
    {
      "cell_type": "code",
      "source": [
        "import numpy as np\n",
        "print(type(threshold[0]))\n",
        "print('len:', len(threshold))\n",
        "print(236 - (236 * 0.8))\n",
        "# print(np.round(threshold * 100, 4))"
      ],
      "metadata": {
        "colab": {
          "base_uri": "https://localhost:8080/"
        },
        "id": "LHdh_8ybq5_C",
        "outputId": "e19c4773-9b88-40f9-ba0e-18050bc7e48a"
      },
      "execution_count": 14,
      "outputs": [
        {
          "output_type": "stream",
          "name": "stdout",
          "text": [
            "<class 'numpy.float64'>\n",
            "len: 236\n",
            "47.19999999999999\n"
          ]
        }
      ]
    },
    {
      "cell_type": "markdown",
      "source": [
        "`roc_auc_score` 함수를 이용하여 AUCROC를 계산 가능\n",
        "\n",
        "AUCROC가 1에 가까울수록 더 좋은 모델임"
      ],
      "metadata": {
        "id": "d8Zd0JoCsd2c"
      }
    },
    {
      "cell_type": "code",
      "source": [
        "# ROC 곡선 아래 면적을 계산\n",
        "print(roc_auc_score(y_test, y_proba))"
      ],
      "metadata": {
        "colab": {
          "base_uri": "https://localhost:8080/"
        },
        "id": "tLw9-O2eskMB",
        "outputId": "1967d36c-f2e8-454d-f515-1b408f14d3b3"
      },
      "execution_count": 15,
      "outputs": [
        {
          "output_type": "stream",
          "name": "stdout",
          "text": [
            "0.9073389355742297\n"
          ]
        }
      ]
    },
    {
      "cell_type": "markdown",
      "source": [
        "TPR은 재현율(recall)의 다른 이름\n",
        "\n",
        "ROC 곡선 외에 정밀도_재현율_곡선을 그려 모델을 평가할 수도 있음\n",
        "\n",
        "`precision_recall_curve` 함수를 사용해 임계점 마다 정밀도와 재현율을 계산하여 정밀도 재현율 곡선을 그림"
      ],
      "metadata": {
        "id": "x_6JTVTNtVhe"
      }
    },
    {
      "cell_type": "code",
      "source": [
        "from sklearn.metrics import precision_recall_curve\n",
        "\n",
        "# TPR 과 FPR을 계산\n",
        "precision, recall, threshold = precision_recall_curve(y_test, y_proba)\n",
        "\n",
        "plt.title('Precision Recall Curve')\n",
        "plt.plot(precision, recall)\n",
        "plt.plot([0, 1], ls='--')\n",
        "plt.plot([1,1], c='0.7')\n",
        "plt.plot([1,1], [1,0], c='0.7')\n",
        "plt.xlabel('precision')\n",
        "plt.ylabel('recall')\n",
        "plt.show()"
      ],
      "metadata": {
        "colab": {
          "base_uri": "https://localhost:8080/",
          "height": 295
        },
        "id": "3UJBbAsTtmt-",
        "outputId": "412ec635-227a-48f6-c3ab-4b3ba3bdaea1"
      },
      "execution_count": 16,
      "outputs": [
        {
          "output_type": "display_data",
          "data": {
            "text/plain": [
              "<Figure size 432x288 with 1 Axes>"
            ],
            "image/png": "[encoded data removed]"
          },
          "metadata": {
            "needs_background": "light"
          }
        }
      ]
    },
    {
      "cell_type": "markdown",
      "source": [
        "위의 **정밀도 재현율 곡선**에서는 오른쪽 맨 위에 가까울수록 더 좋은 모델임.\n",
        "\n",
        "이 곡선의 아래 면적을 **평균 정밀도**라고 부르며 `average_precision_score` 함수를 사용해 계산할 수 있음"
      ],
      "metadata": {
        "id": "wtlAMoElukYR"
      }
    },
    {
      "cell_type": "code",
      "source": [
        "from sklearn.metrics import average_precision_score\n",
        "\n",
        "# 평균 정밀도를 계산\n",
        "average_precision_score(y_test, y_proba)"
      ],
      "metadata": {
        "colab": {
          "base_uri": "https://localhost:8080/"
        },
        "id": "_M-g29gQuy8u",
        "outputId": "b828e46f-08d1-444f-dedc-f26e23f617c6"
      },
      "execution_count": 17,
      "outputs": [
        {
          "output_type": "execute_result",
          "data": {
            "text/plain": [
              "0.8984128719848977"
            ]
          },
          "metadata": {},
          "execution_count": 17
        }
      ]
    },
    {
      "cell_type": "markdown",
      "source": [
        "아래와 같이 `cross_validate` 함수의 `scoring`에 ROCAUC와 평균정밀도를 평가 지표로 지정 가능"
      ],
      "metadata": {
        "id": "RQzkEboUvAtF"
      }
    },
    {
      "cell_type": "code",
      "source": [
        "rt_cv = cross_validate(logit, x, y, scoring=['roc_auc', 'average_precision'])\n",
        "print('roc_auc:', rt_cv['test_roc_auc'])\n",
        "print('average_precision:', rt_cv['test_average_precision'])\n",
        "print('전체 결과\\n', rt_cv)"
      ],
      "metadata": {
        "colab": {
          "base_uri": "https://localhost:8080/"
        },
        "id": "5tjB9A8WvHw8",
        "outputId": "16a94337-a5b4-47de-b8f5-2cff59cee10c"
      },
      "execution_count": 18,
      "outputs": [
        {
          "output_type": "stream",
          "name": "stdout",
          "text": [
            "roc_auc: [0.9007689 0.918251  0.90882   0.915359  0.90261  ]\n",
            "average_precision: [0.90028629 0.90967443 0.90296471 0.91135611 0.88797021]\n",
            "전체 결과\n",
            " {'fit_time': array([0.04500008, 0.05154991, 0.04343963, 0.02941537, 0.02503538]), 'score_time': array([0.01020527, 0.00748062, 0.00803423, 0.00626588, 0.00528455]), 'test_roc_auc': array([0.9007689, 0.918251 , 0.90882  , 0.915359 , 0.90261  ]), 'test_average_precision': array([0.90028629, 0.90967443, 0.90296471, 0.91135611, 0.88797021])}\n"
          ]
        }
      ]
    },
    {
      "cell_type": "markdown",
      "source": [
        "## 11.6 다중클래스 분류기 예측 평가하기"
      ],
      "metadata": {
        "id": "h0mb1xjJvtPN"
      }
    },
    {
      "cell_type": "markdown",
      "source": [
        "과제 : 세 개 이상의 클래스를 예측하는 모델의 성능을 평가\n",
        "해결 : 두 개 이상의 클래스를 다룰수 있는 평가 지표로 교차 검증을 수행"
      ],
      "metadata": {
        "id": "fsk0Qg5c5aOm"
      }
    },
    {
      "cell_type": "code",
      "source": [
        "from sklearn.model_selection import cross_val_score\n",
        "from sklearn.linear_model import LogisticRegression\n",
        "from sklearn.datasets import make_classification\n",
        "\n",
        "x, y = make_classification(n_samples = 10_000, n_features=3, n_informative=3,\n",
        "                           n_redundant=0, n_classes=3, random_state=1)\n",
        "\n",
        "print('x shape:', x.shape)\n",
        "print('y shape:', y.shape)\n",
        "print('x sample:', x[:3])\n",
        "print('y sample:', y[:10])\n",
        "\n",
        "logit = LogisticRegression()\n",
        "\n",
        "# 정확도를 사용하여 교차검증 진행\n",
        "rt_accu = cross_val_score(logit, x, y, scoring='accuracy')\n",
        "print('\\n정확도 교차검증 결과:', rt_accu)"
      ],
      "metadata": {
        "id": "hHX50BxuvwXR",
        "colab": {
          "base_uri": "https://localhost:8080/"
        },
        "outputId": "6257e220-fbab-43c5-ca31-519686bd7bc7"
      },
      "execution_count": 23,
      "outputs": [
        {
          "output_type": "stream",
          "name": "stdout",
          "text": [
            "x shape: (10000, 3)\n",
            "y shape: (10000,)\n",
            "x sample: [[ 1.42064208  0.13762112 -0.59146314]\n",
            " [-0.47392561 -1.85160956 -0.95168678]\n",
            " [-0.85558805  0.24697099  1.62360395]]\n",
            "y sample: [0 1 1 0 1 1 2 2 1 1]\n",
            "정확도 교차검증 결과: [0.841  0.829  0.8265 0.8155 0.82  ]\n"
          ]
        }
      ]
    },
    {
      "cell_type": "markdown",
      "source": [
        "클래스의 샘플이 균형 잡혀 있을 때 이진 클래스와 같이 **정확도**는 간단하고 해석이 용이한 평가 지표\n",
        "\n",
        "그러나 클래스의 샘플의 수가 불균형한 경우는 다른 평가 지표를 사용하는 것이 낫습니다."
      ],
      "metadata": {
        "id": "8fnIKSrw659p"
      }
    },
    {
      "cell_type": "code",
      "source": [
        "# 마크로 평균 F1 점수를 사용하여 교차검증을 수행\n",
        "rt_f1_macro = cross_val_score(logit, x, y, scoring='f1_macro', cv=3) # cv: 교차검증 횟수(default:5)\n",
        "print('f1 macro 교차검증 결과:', rt_f1_macro)"
      ],
      "metadata": {
        "colab": {
          "base_uri": "https://localhost:8080/"
        },
        "id": "v4OXT52e7Rii",
        "outputId": "cbb25959-36e4-4945-d8b0-c5c332a8fbcc"
      },
      "execution_count": 25,
      "outputs": [
        {
          "output_type": "stream",
          "name": "stdout",
          "text": [
            "f1 macro 교차검증 결과: [0.83477937 0.82931964 0.81275734]\n"
          ]
        }
      ]
    },
    {
      "cell_type": "markdown",
      "source": [
        "위 코드에서 `_macro`는 클래스별 평가 점수를 평균하는 방법을 나타냄\n",
        "- macro : 각 클래스를 동등한 가중치로 클래스별 측정 점수를 평균\n",
        "- weighted : 샘플 개수에 비례하여 각 클래스별 측점 점수를 평균\n",
        "- micro : 클래스별로 TP, TN, FP, FN을 모두 더하여 계산함"
      ],
      "metadata": {
        "id": "eh3oGE8X70ue"
      }
    },
    {
      "cell_type": "markdown",
      "source": [
        "## 11.7 분류기 성능 시각화"
      ],
      "metadata": {
        "id": "Wvl24sgg8Ojt"
      }
    },
    {
      "cell_type": "markdown",
      "source": [
        "과제 : 테스트 데이터의 예측 클래스와 진짜 클래스를 바탕으로 모델의 품질을 시각적으로 비교하고 싶음\n",
        "\n",
        "해결 : 오차 행렬 (confusion matrix)를 사용해 예측 클래스와 진짜 클래스를 비교"
      ],
      "metadata": {
        "id": "woSTQbKr8ujX"
      }
    },
    {
      "cell_type": "code",
      "source": [
        "from matplotlib import pyplot as plt\n",
        "import seaborn as sns\n",
        "from sklearn import datasets\n",
        "from sklearn.linear_model import LogisticRegression\n",
        "from sklearn.model_selection import train_test_split\n",
        "from sklearn.metrics import confusion_matrix\n",
        "import pandas as pd\n",
        "\n",
        "iris = datasets.load_iris()\n",
        "x = iris.data\n",
        "y = iris.target\n",
        "class_names = iris.target_names\n",
        "\n",
        "x_train, x_test, y_train, y_test = train_test_split(x, y, random_state=1)\n",
        "\n",
        "logit = LogisticRegression()\n",
        "\n",
        "y_predict = logit.fit(x_train, y_train).predict(x_test)\n",
        "\n",
        "# 오차행렬 생성\n",
        "matrix = confusion_matrix(y_test, y_predict)\n",
        "\n",
        "df = pd.DataFrame(matrix, index=class_names, columns=class_names)\n",
        "display(df)\n",
        "# annot: True 일 시 각 셀안에 해당 값(숫자)을 표시함\n",
        "sns.heatmap(df, annot=True, cbar=None, cmap='Blues')\n",
        "plt.title('Confusion Matrix')\n",
        "plt.tight_layout()\n",
        "plt.ylabel('True Class')\n",
        "plt.xlabel('Predicted Class')\n",
        "plt.figure(figsize=(18,15))\n",
        "plt.show()\n",
        "\n",
        "sns.heatmap(df, annot=False, cbar=None, cmap='Blues')\n",
        "plt.title('Confusion Matrix')\n",
        "plt.tight_layout()\n",
        "plt.ylabel('True Class')\n",
        "plt.xlabel('Predicted Class')\n",
        "plt.figure(figsize=(18,15))\n",
        "plt.show()"
      ],
      "metadata": {
        "colab": {
          "base_uri": "https://localhost:8080/",
          "height": 767
        },
        "id": "OlryC9mh84Ys",
        "outputId": "af68dcbc-b7c1-419f-dbdd-28728fcac6d2"
      },
      "execution_count": 36,
      "outputs": [
        {
          "output_type": "display_data",
          "data": {
            "text/plain": [
              "            setosa  versicolor  virginica\n",
              "setosa          13           0          0\n",
              "versicolor       0          15          1\n",
              "virginica        0           0          9"
            ],
            "text/html": [
              "\n",
              "  <div id=\"df-9ec99762-ebfe-40b4-9c3d-1f593bfec248\">\n",
              "    <div class=\"colab-df-container\">\n",
              "      <div>\n",
              "<style scoped>\n",
              "    .dataframe tbody tr th:only-of-type {\n",
              "        vertical-align: middle;\n",
              "    }\n",
              "\n",
              "    .dataframe tbody tr th {\n",
              "        vertical-align: top;\n",
              "    }\n",
              "\n",
              "    .dataframe thead th {\n",
              "        text-align: right;\n",
              "    }\n",
              "</style>\n",
              "<table border=\"1\" class=\"dataframe\">\n",
              "  <thead>\n",
              "    <tr style=\"text-align: right;\">\n",
              "      <th></th>\n",
              "      <th>setosa</th>\n",
              "      <th>versicolor</th>\n",
              "      <th>virginica</th>\n",
              "    </tr>\n",
              "  </thead>\n",
              "  <tbody>\n",
              "    <tr>\n",
              "      <th>setosa</th>\n",
              "      <td>13</td>\n",
              "      <td>0</td>\n",
              "      <td>0</td>\n",
              "    </tr>\n",
              "    <tr>\n",
              "      <th>versicolor</th>\n",
              "      <td>0</td>\n",
              "      <td>15</td>\n",
              "      <td>1</td>\n",
              "    </tr>\n",
              "    <tr>\n",
              "      <th>virginica</th>\n",
              "      <td>0</td>\n",
              "      <td>0</td>\n",
              "      <td>9</td>\n",
              "    </tr>\n",
              "  </tbody>\n",
              "</table>\n",
              "</div>\n",
              "      <button class=\"colab-df-convert\" onclick=\"convertToInteractive('df-9ec99762-ebfe-40b4-9c3d-1f593bfec248')\"\n",
              "              title=\"Convert this dataframe to an interactive table.\"\n",
              "              style=\"display:none;\">\n",
              "        \n",
              "  <svg xmlns=\"http://www.w3.org/2000/svg\" height=\"24px\"viewBox=\"0 0 24 24\"\n",
              "       width=\"24px\">\n",
              "    <path d=\"M0 0h24v24H0V0z\" fill=\"none\"/>\n",
              "    <path d=\"M18.56 5.44l.94 2.06.94-2.06 2.06-.94-2.06-.94-.94-2.06-.94 2.06-2.06.94zm-11 1L8.5 8.5l.94-2.06 2.06-.94-2.06-.94L8.5 2.5l-.94 2.06-2.06.94zm10 10l.94 2.06.94-2.06 2.06-.94-2.06-.94-.94-2.06-.94 2.06-2.06.94z\"/><path d=\"M17.41 7.96l-1.37-1.37c-.4-.4-.92-.59-1.43-.59-.52 0-1.04.2-1.43.59L10.3 9.45l-7.72 7.72c-.78.78-.78 2.05 0 2.83L4 21.41c.39.39.9.59 1.41.59.51 0 1.02-.2 1.41-.59l7.78-7.78 2.81-2.81c.8-.78.8-2.07 0-2.86zM5.41 20L4 18.59l7.72-7.72 1.47 1.35L5.41 20z\"/>\n",
              "  </svg>\n",
              "      </button>\n",
              "      \n",
              "  <style>\n",
              "    .colab-df-container {\n",
              "      display:flex;\n",
              "      flex-wrap:wrap;\n",
              "      gap: 12px;\n",
              "    }\n",
              "\n",
              "    .colab-df-convert {\n",
              "      background-color: #E8F0FE;\n",
              "      border: none;\n",
              "      border-radius: 50%;\n",
              "      cursor: pointer;\n",
              "      display: none;\n",
              "      fill: #1967D2;\n",
              "      height: 32px;\n",
              "      padding: 0 0 0 0;\n",
              "      width: 32px;\n",
              "    }\n",
              "\n",
              "    .colab-df-convert:hover {\n",
              "      background-color: #E2EBFA;\n",
              "      box-shadow: 0px 1px 2px rgba(60, 64, 67, 0.3), 0px 1px 3px 1px rgba(60, 64, 67, 0.15);\n",
              "      fill: #174EA6;\n",
              "    }\n",
              "\n",
              "    [theme=dark] .colab-df-convert {\n",
              "      background-color: #3B4455;\n",
              "      fill: #D2E3FC;\n",
              "    }\n",
              "\n",
              "    [theme=dark] .colab-df-convert:hover {\n",
              "      background-color: #434B5C;\n",
              "      box-shadow: 0px 1px 3px 1px rgba(0, 0, 0, 0.15);\n",
              "      filter: drop-shadow(0px 1px 2px rgba(0, 0, 0, 0.3));\n",
              "      fill: #FFFFFF;\n",
              "    }\n",
              "  </style>\n",
              "\n",
              "      <script>\n",
              "        const buttonEl =\n",
              "          document.querySelector('#df-9ec99762-ebfe-40b4-9c3d-1f593bfec248 button.colab-df-convert');\n",
              "        buttonEl.style.display =\n",
              "          google.colab.kernel.accessAllowed ? 'block' : 'none';\n",
              "\n",
              "        async function convertToInteractive(key) {\n",
              "          const element = document.querySelector('#df-9ec99762-ebfe-40b4-9c3d-1f593bfec248');\n",
              "          const dataTable =\n",
              "            await google.colab.kernel.invokeFunction('convertToInteractive',\n",
              "                                                     [key], {});\n",
              "          if (!dataTable) return;\n",
              "\n",
              "          const docLinkHtml = 'Like what you see? Visit the ' +\n",
              "            '<a target=\"_blank\" href=https://colab.research.google.com/notebooks/data_table.ipynb>data table notebook</a>'\n",
              "            + ' to learn more about interactive tables.';\n",
              "          element.innerHTML = '';\n",
              "          dataTable['output_type'] = 'display_data';\n",
              "          await google.colab.output.renderOutput(dataTable, element);\n",
              "          const docLink = document.createElement('div');\n",
              "          docLink.innerHTML = docLinkHtml;\n",
              "          element.appendChild(docLink);\n",
              "        }\n",
              "      </script>\n",
              "    </div>\n",
              "  </div>\n",
              "  "
            ]
          },
          "metadata": {}
        },
        {
          "output_type": "display_data",
          "data": {
            "text/plain": [
              "<Figure size 432x288 with 1 Axes>"
            ],
            "image/png": "[encoded data removed]"
          },
          "metadata": {
            "needs_background": "light"
          }
        },
        {
          "output_type": "display_data",
          "data": {
            "text/plain": [
              "<Figure size 1296x1080 with 0 Axes>"
            ]
          },
          "metadata": {}
        },
        {
          "output_type": "display_data",
          "data": {
            "text/plain": [
              "<Figure size 432x288 with 1 Axes>"
            ],
            "image/png": "[encoded data removed]"
          },
          "metadata": {
            "needs_background": "light"
          }
        },
        {
          "output_type": "display_data",
          "data": {
            "text/plain": [
              "<Figure size 1296x1080 with 0 Axes>"
            ]
          },
          "metadata": {}
        }
      ]
    },
    {
      "cell_type": "markdown",
      "source": [
        "## 11.8 회귀 모델 평가하기"
      ],
      "metadata": {
        "id": "zHldlkCO_lYu"
      }
    },
    {
      "cell_type": "markdown",
      "source": [
        "과제 : 회귀 모델의 성능을 평가하고 싶음\n",
        "\n",
        "해결 : 평균 제곱 오차 (mean squared error, MSE)를 사용"
      ],
      "metadata": {
        "id": "d6DO5R4P_u8B"
      }
    },
    {
      "cell_type": "code",
      "source": [
        "from sklearn.datasets import make_regression\n",
        "from sklearn.model_selection import cross_val_score\n",
        "from sklearn.linear_model import LinearRegression\n",
        "\n",
        "x, y = make_regression(n_samples=100, n_features=3, n_informative=3,\n",
        "                       n_targets=1, noise=50, coef=False, random_state=1)\n",
        "\n",
        "ols = LinearRegression()\n",
        "# 음의 MSE를 사용한 교차검증 수행\n",
        "rt_nmse = cross_val_score(ols, x, y, scoring='neg_mean_squared_error', cv=3)\n",
        "print('NMSE 교차검증 결과:', rt_nmse)\n",
        "\n",
        "rt_r2 = cross_val_score(ols, x, y, scoring='r2', cv=3)\n",
        "print('R2 교차검증 결과:', rt_r2)"
      ],
      "metadata": {
        "colab": {
          "base_uri": "https://localhost:8080/"
        },
        "id": "hVfycW6p_4Gq",
        "outputId": "02f3c979-d2aa-4319-bfd7-67bbb5456db3"
      },
      "execution_count": 40,
      "outputs": [
        {
          "output_type": "stream",
          "name": "stdout",
          "text": [
            "NMSE 교차검증 결과: [-1718.22817783 -3103.4124284  -1377.17858823]\n",
            "R2 교차검증 결과: [0.87804558 0.76395862 0.89154377]\n"
          ]
        }
      ]
    },
    {
      "cell_type": "markdown",
      "source": [
        "`make_regression` 의 파라미터 \n",
        "- n_samples : 표본의 갯수 (default 100)\n",
        "- n_features : 독립변수(feature)의 수 (default 100)\n",
        "- n_targets : 종속변수의 수 (default 1)\n",
        "- n_informative : 독립변수(feature) 중 실제로 종속변수와 상관관계가 있는 독립변수의 수 (default 10)\n",
        "- effective_rank : 독립변수 중 서로 독립인 독립변수의 수, None 이면 모두 독립\n",
        "- tail_strength : 0 ~ 1 사이의 실수(default 0.5)\n",
        "    - effective_rank 가 None이 아닌 경우 독립변수 간의 상관관계 형태를 결정하는 변수\n",
        "- bias : 절편 (실수, default 0.0)\n",
        "- noise : 출력. 즉, 종속 변수에 더해지는 정규 분포의 표준편차 (default 0.0)\n",
        "- coef : True | False. True면 선형모형의 계수도 출력 (default False)\n",
        "---\n",
        "- 리턴\n",
        "    - X : (n_samples, n_features] 형상의 2차원 배열. 독립변수의 표본 데이터\n",
        "    - y : n_samples 형태의 1차원 배열 또는 [n_samples, n_targets] 형상의 2차원 배열. 종속변수의 표본 데이터\n",
        "    - coef : [n_features] 형태의 1차원 배열 또는 [n_features, n_targets] 형상의 2차원 배열. 선형모형의 계수, 입력 인수 `coef`가 True인 경우에만 출력됨"
      ],
      "metadata": {
        "id": "R-v2a6TGAqwu"
      }
    },
    {
      "cell_type": "markdown",
      "source": [
        "$MSE = \\dfrac {1} {n} \\displaystyle \\sum_{i=1}^n(\\hat{y}_i - y_i)^2$\n",
        "\n",
        "MSE 값이 **클수록** 전체 제곱 오차가 더 커지므로 더 **나쁜 모델**임\n",
        "\n",
        "한 가지 중요한 점은 기본적으로 사이킷런은 `scoring` 매개변수의 높은 값이 낮은 값보다 좋은 것이어야 함.\n",
        "\n",
        "반대로 MSE는 높은 값이 더 나쁜 모델을 의미함.\n",
        "\n",
        "이런 이유때문에 사이킷런은 `neg_mean_squared_error`를 사용하여 음의 MSE를 전달함.\n",
        "\n",
        "---\n",
        "\n",
        "$R^2 = 1 - \\dfrac {\\displaystyle \\sum_{i=1}^n (y_i - \\hat{y_i})^2} {\\displaystyle \\sum_{i=1}^n (y_i - \\bar{y})^2}$\n",
        "\n",
        "\n",
        "R2 값은 1에 가까울수록 더 좋은 모델임."
      ],
      "metadata": {
        "id": "dFFXX4x4DClC"
      }
    },
    {
      "cell_type": "markdown",
      "source": [
        "## 11.9 군집모델 평가하기"
      ],
      "metadata": {
        "id": "iqrNN0tjEyOD"
      }
    },
    {
      "cell_type": "markdown",
      "source": [
        "과제 : 데이터를 클러스터(cluster)로 모으기 위해 비지도 학습 알고리즘을 사용했음. 이 모델이 얼마나 잘 동작했는지 알고 싶음\n",
        "\n",
        "해결 : 간단히 대답하면 알 수 없음. 군집을 평가하는 한 가지 방법은 클러스터의 품질을 측정하는 **실루엣 계수**(`silhouette coefficients`) 입니다."
      ],
      "metadata": {
        "id": "0u4SIcwKE0eM"
      }
    },
    {
      "cell_type": "code",
      "source": [
        "# p.304"
      ],
      "metadata": {
        "id": "UMdzqAntFLM_"
      },
      "execution_count": null,
      "outputs": []
    }
  ]
}