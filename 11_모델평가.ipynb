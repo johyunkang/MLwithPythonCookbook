{
  "nbformat": 4,
  "nbformat_minor": 0,
  "metadata": {
    "colab": {
      "provenance": [],
      "authorship_tag": "ABX9TyM+LyNr5t/iiFPPsA3guyPW",
      "include_colab_link": true
    },
    "kernelspec": {
      "name": "python3",
      "display_name": "Python 3"
    },
    "language_info": {
      "name": "python"
    }
  },
  "cells": [
    {
      "cell_type": "markdown",
      "metadata": {
        "id": "view-in-github",
        "colab_type": "text"
      },
      "source": [
        "<a href=\"https://colab.research.google.com/github/johyunkang/MLwithPythonCookbook/blob/main/11_%EB%AA%A8%EB%8D%B8%ED%8F%89%EA%B0%80.ipynb\" target=\"_parent\"><img src=\"https://colab.research.google.com/assets/colab-badge.svg\" alt=\"Open In Colab\"/></a>"
      ]
    },
    {
      "cell_type": "markdown",
      "source": [
        "# Chapter 11 모델평가"
      ],
      "metadata": {
        "id": "ApNg6w9ejLmg"
      }
    },
    {
      "cell_type": "markdown",
      "source": [
        "## 11.1 교차검증 모델 만들기"
      ],
      "metadata": {
        "id": "5ZAUkMV6jOxh"
      }
    },
    {
      "cell_type": "code",
      "execution_count": 47,
      "metadata": {
        "colab": {
          "base_uri": "https://localhost:8080/"
        },
        "id": "pJwDCYkVjJ1g",
        "outputId": "df3c2e37-e557-4515-829b-1b6f586b7ffa"
      },
      "outputs": [
        {
          "output_type": "stream",
          "name": "stdout",
          "text": [
            "features shape: (1797, 64)\n",
            "features sample: [[ 0.  0.  5. 13.  9.  1.  0.  0.  0.  0. 13. 15. 10. 15.  5.  0.  0.  3.\n",
            "  15.  2.  0. 11.  8.  0.  0.  4. 12.  0.  0.  8.  8.  0.  0.  5.  8.  0.\n",
            "   0.  9.  8.  0.  0.  4. 11.  0.  1. 12.  7.  0.  0.  2. 14.  5. 10. 12.\n",
            "   0.  0.  0.  0.  6. 13. 10.  0.  0.  0.]\n",
            " [ 0.  0.  0. 12. 13.  5.  0.  0.  0.  0.  0. 11. 16.  9.  0.  0.  0.  0.\n",
            "   3. 15. 16.  6.  0.  0.  0.  7. 15. 16. 16.  2.  0.  0.  0.  0.  1. 16.\n",
            "  16.  3.  0.  0.  0.  0.  1. 16. 16.  6.  0.  0.  0.  0.  1. 16. 16.  6.\n",
            "   0.  0.  0.  0.  0. 11. 16. 10.  0.  0.]\n",
            " [ 0.  0.  0.  4. 15. 12.  0.  0.  0.  0.  3. 16. 15. 14.  0.  0.  0.  0.\n",
            "   8. 13.  8. 16.  0.  0.  0.  0.  1.  6. 15. 11.  0.  0.  0.  1.  8. 13.\n",
            "  15.  1.  0.  0.  0.  9. 16. 16.  5.  0.  0.  0.  0.  3. 13. 16. 16. 11.\n",
            "   5.  0.  0.  0.  0.  3. 11. 16.  9.  0.]]\n",
            "\n",
            "\n",
            "target shape: (1797,)\n",
            "target sample: [0 1 2]\n",
            "\n",
            "\n",
            "평균 계산(KFold): 0.9693916821849783\n",
            "[0.97777778 0.98888889 0.96111111 0.94444444 0.97777778 0.98333333\n",
            " 0.95555556 0.98882682 0.97765363 0.93854749]\n",
            "\n",
            "\n",
            "평균 계산(StratifiedKFold): 0.9666076970825573\n",
            "[0.96666667 0.97222222 0.98333333 0.95555556 0.96666667 0.95\n",
            " 0.97777778 0.96089385 0.96648045 0.96648045]\n"
          ]
        }
      ],
      "source": [
        "from sklearn import datasets\n",
        "from sklearn import metrics\n",
        "from sklearn.model_selection import KFold, cross_val_score, StratifiedKFold\n",
        "from sklearn.pipeline import make_pipeline\n",
        "from sklearn.linear_model import LogisticRegression\n",
        "from sklearn.preprocessing import StandardScaler\n",
        "\n",
        "# 데이터셋 로드\n",
        "digits = datasets.load_digits()\n",
        "\n",
        "# 특성 행렬을 만들기\n",
        "features = digits.data\n",
        "print('features shape:', features.shape)\n",
        "print('features sample:', features[:3])\n",
        "\n",
        "# 타깃벡터\n",
        "target = digits.target\n",
        "print('\\n\\ntarget shape:', target.shape)\n",
        "print('target sample:', target[:3])\n",
        "\n",
        "scaler = StandardScaler()\n",
        "lr = LogisticRegression()\n",
        "\n",
        "# 표준화 후 로지스틱회귀 파이프라인 생성\n",
        "pipeline = make_pipeline(scaler, lr)\n",
        "\n",
        "# K-폴드 교차검증\n",
        "kf = KFold(n_splits=10, shuffle=True, random_state=1)\n",
        "skf = StratifiedKFold(n_splits=10, shuffle=True, random_state=1)\n",
        "\n",
        "cv_result = cross_val_score(pipeline, # 파이프라인\n",
        "                            features, # 특성행렬\n",
        "                            target,   # 타깃\n",
        "                            cv = kf,  # 교차검증 기법\n",
        "                            scoring='accuracy', # 평가지표\n",
        "                            n_jobs = -1 # 모든 CPU 사용\n",
        "                            )\n",
        "\n",
        "# 평균 계산\n",
        "print('\\n\\n평균 계산(KFold):', cv_result.mean())\n",
        "print(cv_result)\n",
        "\n",
        "cv_result = cross_val_score(pipeline, # 파이프라인\n",
        "                            features, # 특성행렬\n",
        "                            target,   # 타깃\n",
        "                            cv = skf,  # 교차검증 기법\n",
        "                            scoring='accuracy', # 평가지표\n",
        "                            n_jobs = -1 # 모든 CPU 사용\n",
        "                            )\n",
        "\n",
        "# 평균 계산\n",
        "print('\\n\\n평균 계산(StratifiedKFold):', cv_result.mean())\n",
        "print(cv_result)"
      ]
    },
    {
      "cell_type": "markdown",
      "source": [
        "## 11.2 기본 회귀 모델 만들기 "
      ],
      "metadata": {
        "id": "_RI0FZJno2nC"
      }
    },
    {
      "cell_type": "markdown",
      "source": [
        "과제 : 다른 모델과 비교하기 위해 기본 회귀 모델을 만들고 싶습니다\n",
        "\n",
        "해결 : `DummyRegressor`를 사용하여 기본 모델로 사용할 간단한 더미 모델을 만듭니다."
      ],
      "metadata": {
        "id": "Anucmg8io7B3"
      }
    },
    {
      "cell_type": "code",
      "source": [
        "from sklearn.datasets import load_boston\n",
        "from sklearn.dummy import DummyRegressor\n",
        "from sklearn.model_selection import train_test_split\n",
        "import warnings\n",
        "warnings.filterwarnings(action='ignore') # 경고 무시\n",
        "# warnings.filterwarnings(action='default') # 경고 나오게 \n",
        "\n",
        "boston = load_boston()\n",
        "\n",
        "features, target = boston.data, boston.target\n",
        "print('features shape:', features.shape)\n",
        "print('features sample:', features[:3])\n",
        "print('\\n\\ntarget shape:', target.shape)\n",
        "print('target sample:', target[:3])\n",
        "\n",
        "x_train, x_test, y_train, y_test = train_test_split(features, target, random_state=0)\n",
        "\n",
        "# 더미 회귀모델을 만듭니다.\n",
        "dummy = DummyRegressor(strategy='mean')\n",
        "\n",
        "# 더미 회귀모델 훈련\n",
        "dummy.fit(x_train, y_train)\n",
        "\n",
        "# R2 점수 계산\n",
        "r2 = dummy.score(x_test, y_test)\n",
        "print('R2 score:', r2)"
      ],
      "metadata": {
        "colab": {
          "base_uri": "https://localhost:8080/"
        },
        "id": "PzDf40-xpFH1",
        "outputId": "159f5a56-4e54-4599-a359-fee5948d1332"
      },
      "execution_count": 48,
      "outputs": [
        {
          "output_type": "stream",
          "name": "stdout",
          "text": [
            "features shape: (506, 13)\n",
            "features sample: [[6.3200e-03 1.8000e+01 2.3100e+00 0.0000e+00 5.3800e-01 6.5750e+00\n",
            "  6.5200e+01 4.0900e+00 1.0000e+00 2.9600e+02 1.5300e+01 3.9690e+02\n",
            "  4.9800e+00]\n",
            " [2.7310e-02 0.0000e+00 7.0700e+00 0.0000e+00 4.6900e-01 6.4210e+00\n",
            "  7.8900e+01 4.9671e+00 2.0000e+00 2.4200e+02 1.7800e+01 3.9690e+02\n",
            "  9.1400e+00]\n",
            " [2.7290e-02 0.0000e+00 7.0700e+00 0.0000e+00 4.6900e-01 7.1850e+00\n",
            "  6.1100e+01 4.9671e+00 2.0000e+00 2.4200e+02 1.7800e+01 3.9283e+02\n",
            "  4.0300e+00]]\n",
            "\n",
            "\n",
            "target shape: (506,)\n",
            "target sample: [24.  21.6 34.7]\n",
            "R2 score: -0.001119359203955339\n"
          ]
        }
      ]
    },
    {
      "cell_type": "markdown",
      "source": [
        "다른 모델을 훈련하고 평가하여 성능점수 비교"
      ],
      "metadata": {
        "id": "EC7XXePNq-VI"
      }
    },
    {
      "cell_type": "code",
      "source": [
        "from sklearn.linear_model import LinearRegression\n",
        "\n",
        "ols = LinearRegression()\n",
        "ols.fit(x_train, y_train)\n",
        "# R2 계산\n",
        "r2_ols = ols.score(x_test, y_test)\n",
        "print('r2 score:', r2_ols)"
      ],
      "metadata": {
        "colab": {
          "base_uri": "https://localhost:8080/"
        },
        "id": "Fg5zN8o7rA14",
        "outputId": "64c02ed0-f314-41b1-d8f3-cdb5bc09e15b"
      },
      "execution_count": 49,
      "outputs": [
        {
          "output_type": "stream",
          "name": "stdout",
          "text": [
            "r2 score: 0.635463843320211\n"
          ]
        }
      ]
    },
    {
      "cell_type": "markdown",
      "source": [
        "## 11.4 이진 분류기의 예측 평가하기 "
      ],
      "metadata": {
        "id": "06rd-mWNsmoM"
      }
    },
    {
      "cell_type": "markdown",
      "source": [
        "과제 : 훈련된 분류 모델의 품질을 평가하고 싶습니다.\n",
        "\n",
        "해결 : 사이킷런의 `cross_val_score` 함수를 사용하여 교차검증을 수행할 때 `scoring` 매개 변수에 선능지표 중 하나를 선택 가능\n",
        "\n",
        "- 정밀도(precision), 재현율(recall), F1\n",
        "\n",
        "- 정확도 $= \\dfrac {TP + TN} {TP+TN+FP+FN}$\n",
        "\n",
        "- FP : Type1 에러. 양성 클래스로 예측한 것 중에서 실제는 음성 클래스인 샘플 개수\n",
        "\n",
        "- FN : Type2 에러. 음성 클래스로 예측한 것 중에서 실제 양성 클래스인 샘플 개수"
      ],
      "metadata": {
        "id": "xhbmklbCpnhD"
      }
    },
    {
      "cell_type": "markdown",
      "source": [
        "`make_classification` 파라미터 설명\n",
        "- n_samples : 표본 데이터의 수, 디폴트 100\n",
        "- n_features : 독립 변수의 수, 디폴트 20\n",
        "- n_informative : 독립 변수 중 종속 변수와 상관 관계가 있는 성분의 수, 디폴트 2\n",
        "- n_redundant : 독립 변수 중 다른 독립 변수의 선형 조합으로 나타나는 성분의 수, 디폴트 2\n",
        "- n_repeated : 독립 변수 중 단순 중복된 성분의 수, 디폴트 0\n",
        "- n_classes : 종속 변수의 클래스 수, 디폴트 2\n",
        "- n_clusters_per_class : 클래스 당 클러스터의 수, 디폴트 2\n",
        "- weights : 각 클래스에 할당된 표본 수\n",
        "- random_state : 난수 발생 시드"
      ],
      "metadata": {
        "id": "3LwBvXJys_qk"
      }
    },
    {
      "cell_type": "code",
      "source": [
        "from sklearn.model_selection import cross_val_score\n",
        "from sklearn.linear_model import LogisticRegression\n",
        "from sklearn.datasets import make_classification\n",
        "\n",
        "# 특성 행렬과 타깃 벡터 생성\n",
        "x, y = make_classification(n_samples=1000, n_features=3, n_informative=3,\n",
        "                           n_redundant=0, n_classes=2, random_state=1)\n",
        "\n",
        "print('x shape:', x.shape)\n",
        "print('y shape:', y.shape)\n",
        "print('x sample:', x[:3])\n",
        "print('y sample:', y[:3])\n",
        "\n",
        "logit = LogisticRegression()\n",
        "accu = cross_val_score(logit, x, y, scoring='accuracy')\n",
        "print('\\n정확도(accuracy):', accu)"
      ],
      "metadata": {
        "id": "l8LCEJHtspOj",
        "colab": {
          "base_uri": "https://localhost:8080/"
        },
        "outputId": "133fa7cb-3dfb-404e-9f2e-b805221344a1"
      },
      "execution_count": 50,
      "outputs": [
        {
          "output_type": "stream",
          "name": "stdout",
          "text": [
            "x shape: (1000, 3)\n",
            "y shape: (1000,)\n",
            "x sample: [[-0.80141251  2.42988093  0.69276514]\n",
            " [-1.44629062 -0.62026815  1.56596609]\n",
            " [ 0.970616    0.88966077  1.94673411]]\n",
            "y sample: [1 1 0]\n",
            "\n",
            "정확도(accuracy): [0.87 0.88 0.85 0.93 0.9 ]\n"
          ]
        }
      ]
    },
    {
      "cell_type": "markdown",
      "source": [
        "정밀도 : 양성으로 예측한 샘플 중 진짜 양성 클래스의 비율\n",
        "\n",
        "정밀도 $= \\dfrac {TP} {TP + FP}$"
      ],
      "metadata": {
        "id": "N2w3Da2tt6pj"
      }
    },
    {
      "cell_type": "code",
      "source": [
        "prec = cross_val_score(logit, x, y, scoring='precision')\n",
        "print('정밀도(precision):', prec)"
      ],
      "metadata": {
        "colab": {
          "base_uri": "https://localhost:8080/"
        },
        "id": "VedrJkjUuFK2",
        "outputId": "132ce6c4-0624-49f6-b23b-7f07e4cb77c4"
      },
      "execution_count": 51,
      "outputs": [
        {
          "output_type": "stream",
          "name": "stdout",
          "text": [
            "정밀도(precision): [0.83035714 0.86538462 0.8125     0.9673913  0.86238532]\n"
          ]
        }
      ]
    },
    {
      "cell_type": "markdown",
      "source": [
        "재현율 : 진짜 양성 샘플 중에서 양성으로 예측한 비율\n",
        "\n",
        "재현율 $= \\dfrac {TP} {TP+FN}$"
      ],
      "metadata": {
        "id": "0B0Cfqz_uR1f"
      }
    },
    {
      "cell_type": "code",
      "source": [
        "recall = cross_val_score(logit, x, y, scoring='recall')\n",
        "print('재현율(recall):', recall)"
      ],
      "metadata": {
        "colab": {
          "base_uri": "https://localhost:8080/"
        },
        "id": "_yl9Xmqduij5",
        "outputId": "2b603249-18a4-4cc9-ec17-d8ff2364ae78"
      },
      "execution_count": 52,
      "outputs": [
        {
          "output_type": "stream",
          "name": "stdout",
          "text": [
            "재현율(recall): [0.93       0.9        0.91       0.89       0.94949495]\n"
          ]
        }
      ]
    },
    {
      "cell_type": "markdown",
      "source": [
        "정밀도와 재현율은 서로 균형을 맞춰야 함\n",
        "\n",
        "이를 좀 더 직관적으로 이해하기 위해 F1 점수가 만들어 짐\n",
        "\n",
        "F1은 정밀도와 재현율의 조화평균(harmonic mean)임\n",
        "\n",
        "$F1 = 2 \\times \\dfrac {precision \\times recall} {precision + recall}$"
      ],
      "metadata": {
        "id": "a_dxRpnQvg2S"
      }
    },
    {
      "cell_type": "code",
      "source": [
        "f1 = cross_val_score(logit, x, y, scoring='f1')\n",
        "print('F1 score:', f1)"
      ],
      "metadata": {
        "colab": {
          "base_uri": "https://localhost:8080/"
        },
        "id": "b79APek3v4Eg",
        "outputId": "a22d6906-8152-4a6b-b7e8-18677d2b46c2"
      },
      "execution_count": 53,
      "outputs": [
        {
          "output_type": "stream",
          "name": "stdout",
          "text": [
            "F1 score: [0.87735849 0.88235294 0.85849057 0.92708333 0.90384615]\n"
          ]
        }
      ]
    },
    {
      "cell_type": "markdown",
      "source": [
        "`cross_validate` (sklearn ver 0.19 추가) 는 `cross_val_score`와 비슷하지만 여러 개의 평가 지표를 추가할 수 있음"
      ],
      "metadata": {
        "id": "ELSrJlPBweq4"
      }
    },
    {
      "cell_type": "code",
      "source": [
        "from sklearn.model_selection import cross_validate\n",
        "\n",
        "rt_cv = cross_validate(logit, x, y, scoring=['accuracy', 'f1'])\n",
        "print('cross_validate 결과\\n', rt_cv)\n",
        "print('\\ncross_validate 결과 type:', type(rt_cv))\n",
        "print('\\ndict keys 추출:', rt_cv.keys())\n",
        "print('\\nkey fit_time 만 추출:', rt_cv['fit_time'])"
      ],
      "metadata": {
        "colab": {
          "base_uri": "https://localhost:8080/"
        },
        "id": "tT339ELNwoKl",
        "outputId": "a49d3874-8776-4a14-d267-91461b4a37e4"
      },
      "execution_count": 54,
      "outputs": [
        {
          "output_type": "stream",
          "name": "stdout",
          "text": [
            "cross_validate 결과\n",
            " {'fit_time': array([0.01235843, 0.00450778, 0.00409794, 0.00400805, 0.00390363]), 'score_time': array([0.00150728, 0.00135684, 0.00129294, 0.00128746, 0.00130725]), 'test_accuracy': array([0.87, 0.88, 0.85, 0.93, 0.9 ]), 'test_f1': array([0.87735849, 0.88235294, 0.85849057, 0.92708333, 0.90384615])}\n",
            "\n",
            "cross_validate 결과 type: <class 'dict'>\n",
            "\n",
            "dict keys 추출: dict_keys(['fit_time', 'score_time', 'test_accuracy', 'test_f1'])\n",
            "\n",
            "key fit_time 만 추출: [0.01235843 0.00450778 0.00409794 0.00400805 0.00390363]\n"
          ]
        }
      ]
    },
    {
      "cell_type": "markdown",
      "source": [
        "## 11.5 이진 분류기 임곗값 평가하기 (ROC 커브, AUROC)"
      ],
      "metadata": {
        "id": "Lpqa7MKEyEVt"
      }
    },
    {
      "cell_type": "markdown",
      "source": [
        "과제 : 이진 분류기를 여러 가지 확률 임곗값으로 평가하고 싶습니다.\n",
        "\n",
        "해결 : ROC (receving operating chracteristic) 곡선을 이용하여 품질 평가"
      ],
      "metadata": {
        "id": "uR5-5oygyJei"
      }
    },
    {
      "cell_type": "code",
      "source": [
        "from matplotlib import pyplot as plt\n",
        "from sklearn.datasets import make_classification\n",
        "from sklearn.linear_model import LogisticRegression\n",
        "from sklearn.metrics import roc_curve, roc_auc_score\n",
        "from sklearn.model_selection import train_test_split\n",
        "\n",
        "x, y = make_classification(n_samples=10_000, n_features=10, n_classes=2,\n",
        "                           n_informative=3, random_state=3)\n",
        "print('x shape:', x.shape)\n",
        "print('y shape:', y.shape)\n",
        "print('x sample:', x[:3])\n",
        "print('y sample:', y[:3])\n",
        "\n",
        "x_train, x_test, y_train, y_test = train_test_split(x, y, test_size=0.1, random_state=1)\n",
        "logit = LogisticRegression()\n",
        "\n",
        "logit.fit(x_train, y_train)\n",
        "\n",
        "# 예측확률 계산\n",
        "y_proba = logit.predict_proba(x_test)[:, 1]\n",
        "\n",
        "# 진짜 양성 비율과 거짓 양성 비율을 계산\n",
        "false_positive_rate, true_positive_rate, threshold = roc_curve(y_test, y_proba)\n",
        "\n",
        "# ROC 곡선\n",
        "plt.title('ROC (Receiver Operating Characteristic)')\n",
        "plt.plot(false_positive_rate, true_positive_rate)\n",
        "plt.plot([0, 1], ls='--')\n",
        "plt.plot([0, 0], [1, 0], c=\"0.7\") # c=0.7 : gray color 수직선\n",
        "plt.plot([1, 1], c='0.7')         # c=0.7 : gray color 수평선\n",
        "plt.ylabel('TPR')\n",
        "plt.xlabel('FPR')\n",
        "plt.show()"
      ],
      "metadata": {
        "colab": {
          "base_uri": "https://localhost:8080/",
          "height": 460
        },
        "id": "5IiY2PbYyaCv",
        "outputId": "47587a87-ad85-4a2d-a4b4-3617c805f0f9"
      },
      "execution_count": 55,
      "outputs": [
        {
          "output_type": "stream",
          "name": "stdout",
          "text": [
            "x shape: (10000, 10)\n",
            "y shape: (10000,)\n",
            "x sample: [[ 0.95113083  0.10088996  0.59922172 -0.57727406 -1.27124436  1.57065196\n",
            "  -0.01500449  1.31616396 -1.00534424 -1.87957819]\n",
            " [ 0.71901417  0.98935259 -1.58166774 -0.86235827 -0.99428269  1.83633119\n",
            "   1.14487266  1.25305604  0.87268006  0.81333374]\n",
            " [ 0.53683917  1.0822293  -1.27721296  1.35144769  1.35246266 -0.79009656\n",
            "   1.30122471 -0.15950734  0.0940172  -1.54091607]]\n",
            "y sample: [1 1 0]\n"
          ]
        },
        {
          "output_type": "display_data",
          "data": {
            "text/plain": [
              "<Figure size 432x288 with 1 Axes>"
            ],
            "image/png": "[encoded data removed]"
          },
          "metadata": {
            "needs_background": "light"
          }
        }
      ]
    },
    {
      "cell_type": "code",
      "source": [
        "print('FPR shape:', false_positive_rate.shape)\n",
        "print('FPR value:', false_positive_rate[:3])\n",
        "print('\\nTPR shape:', true_positive_rate.shape)\n",
        "print('TPR value:', true_positive_rate[:3])\n",
        "\n",
        "\n",
        "sample = logit.predict_proba(x_test)\n",
        "print('sample shape:', sample.shape)\n",
        "print('sample val:', sample[:3])\n",
        "print('y_proba shape:', y_proba.shape)\n",
        "print('y_proba sample:', y_proba[:3])"
      ],
      "metadata": {
        "colab": {
          "base_uri": "https://localhost:8080/"
        },
        "id": "13LC_V2s5T6q",
        "outputId": "a2e5cafc-53b9-4e15-9437-f8678e745cf5"
      },
      "execution_count": 56,
      "outputs": [
        {
          "output_type": "stream",
          "name": "stdout",
          "text": [
            "FPR shape: (236,)\n",
            "FPR value: [0. 0. 0.]\n",
            "\n",
            "TPR shape: (236,)\n",
            "TPR value: [0.         0.00204082 0.13265306]\n",
            "sample shape: (1000, 2)\n",
            "sample val: [[0.86891533 0.13108467]\n",
            " [0.46315541 0.53684459]\n",
            " [0.03395355 0.96604645]]\n",
            "y_proba shape: (1000,)\n",
            "y_proba sample: [0.13108467 0.53684459 0.96604645]\n"
          ]
        }
      ]
    },
    {
      "cell_type": "code",
      "source": [
        "# p.294"
      ],
      "metadata": {
        "id": "-MMFGGLmjTUc"
      },
      "execution_count": null,
      "outputs": []
    }
  ]
}