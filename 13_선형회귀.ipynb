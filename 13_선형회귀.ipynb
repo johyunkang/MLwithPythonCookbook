{
  "nbformat": 4,
  "nbformat_minor": 0,
  "metadata": {
    "colab": {
      "provenance": [],
      "authorship_tag": "ABX9TyO3Y7ukfS+ieHVW+WF4LcEj",
      "include_colab_link": true
    },
    "kernelspec": {
      "name": "python3",
      "display_name": "Python 3"
    },
    "language_info": {
      "name": "python"
    }
  },
  "cells": [
    {
      "cell_type": "markdown",
      "metadata": {
        "id": "view-in-github",
        "colab_type": "text"
      },
      "source": [
        "<a href=\"https://colab.research.google.com/github/johyunkang/MLwithPythonCookbook/blob/main/13_%EC%84%A0%ED%98%95%ED%9A%8C%EA%B7%80.ipynb\" target=\"_parent\"><img src=\"https://colab.research.google.com/assets/colab-badge.svg\" alt=\"Open In Colab\"/></a>"
      ]
    },
    {
      "cell_type": "markdown",
      "source": [
        "## 13.1 직선 학습하기\n",
        "\n",
        "과제 : 특성과 타깃 벡터 사이의 선형 관계를 표현하는 모델을 훈련하고 싶음\n",
        "\n",
        "해결 : 선형 회귀를 사용함(`LinearRegression`)"
      ],
      "metadata": {
        "id": "8HxDGLFpCjyr"
      }
    },
    {
      "cell_type": "code",
      "execution_count": 13,
      "metadata": {
        "colab": {
          "base_uri": "https://localhost:8080/"
        },
        "id": "pyiGPEu7CLUa",
        "outputId": "a2199325-2f78-415a-e9bd-a98a52ca63c0"
      },
      "outputs": [
        {
          "output_type": "stream",
          "name": "stdout",
          "text": [
            "feature shape: (506, 2)\n",
            "feature sample: [[6.320e-03 1.800e+01]\n",
            " [2.731e-02 0.000e+00]\n",
            " [2.729e-02 0.000e+00]]\n",
            "target shape: (506,)\n",
            "target sample: [24.  21.6 34.7]\n",
            "feature name: ['CRIM' 'ZN' 'INDUS' 'CHAS' 'NOX' 'RM' 'AGE' 'DIS' 'RAD' 'TAX' 'PTRATIO'\n",
            " 'B' 'LSTAT']\n"
          ]
        }
      ],
      "source": [
        "from sklearn.linear_model import LinearRegression\n",
        "from sklearn.datasets import load_boston\n",
        "\n",
        "boston = load_boston()\n",
        "x = boston.data[:, :2] # 특성 2개만 선택\n",
        "print('feature shape:', x.shape)\n",
        "print('feature sample:', x[:3])\n",
        "y = boston.target\n",
        "print('target shape:', y.shape)\n",
        "print('target sample:', y[:3])\n",
        "print('feature name:', boston.feature_names)\n",
        "\n",
        "\n",
        "lr = LinearRegression()\n",
        "model = lr.fit(x, y)"
      ]
    },
    {
      "cell_type": "code",
      "source": [
        "# 절편(intercept) = 편향(bias)\n",
        "print('Intercept(=bias) :', model.intercept_)\n",
        "print('coef :', model.coef_)\n",
        "# dir(model)\n",
        "\n",
        "print('\\n실제값:', y[0] * 1000) # 보스턴 주택가격 단위가 천 달러라, 1000을 곱해줌\n",
        "print('예측값:', model.predict(x)[0] * 1000)"
      ],
      "metadata": {
        "colab": {
          "base_uri": "https://localhost:8080/"
        },
        "id": "mMUsQRaWDdex",
        "outputId": "32652a67-5a9d-4e6a-e9f0-53e14cd8e130"
      },
      "execution_count": 17,
      "outputs": [
        {
          "output_type": "stream",
          "name": "stdout",
          "text": [
            "Intercept(=bias) : 22.485628113468223\n",
            "coef : [-0.35207832  0.11610909]\n",
            "실제값: 24000.0\n",
            "예측값: 24573.366631705547\n"
          ]
        }
      ]
    },
    {
      "cell_type": "markdown",
      "source": [
        "## 13.2 교차 특성 다루기\n",
        "\n",
        "과제 : 타깃 변수에 영향을 미치면서 다른 특성에 의존하는 특성이 있음\n",
        "\n",
        "해결 : 사이킷런의 `PolynomialFeatures` 클래스로 교차항(interactive term)을 만들어 의존성을 잡아냅니다."
      ],
      "metadata": {
        "id": "QaCcCHChFi-9"
      }
    },
    {
      "cell_type": "code",
      "source": [
        "# p.340"
      ],
      "metadata": {
        "id": "-iM7XkivFxlk"
      },
      "execution_count": null,
      "outputs": []
    }
  ]
}