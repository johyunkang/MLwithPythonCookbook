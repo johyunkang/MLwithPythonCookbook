{
  "nbformat": 4,
  "nbformat_minor": 0,
  "metadata": {
    "colab": {
      "provenance": [],
      "authorship_tag": "ABX9TyNWuRhIHCkHN5nL7vhLRkW3",
      "include_colab_link": true
    },
    "kernelspec": {
      "name": "python3",
      "display_name": "Python 3"
    },
    "language_info": {
      "name": "python"
    }
  },
  "cells": [
    {
      "cell_type": "markdown",
      "metadata": {
        "id": "view-in-github",
        "colab_type": "text"
      },
      "source": [
        "<a href=\"https://colab.research.google.com/github/johyunkang/MLwithPythonCookbook/blob/main/13_%EC%84%A0%ED%98%95%ED%9A%8C%EA%B7%80.ipynb\" target=\"_parent\"><img src=\"https://colab.research.google.com/assets/colab-badge.svg\" alt=\"Open In Colab\"/></a>"
      ]
    },
    {
      "cell_type": "markdown",
      "source": [
        "## 13.1 직선 학습하기\n",
        "\n",
        "과제 : 특성과 타깃 벡터 사이의 선형 관계를 표현하는 모델을 훈련하고 싶음\n",
        "\n",
        "해결 : 선형 회귀를 사용함(`LinearRegression`)"
      ],
      "metadata": {
        "id": "8HxDGLFpCjyr"
      }
    },
    {
      "cell_type": "code",
      "execution_count": 1,
      "metadata": {
        "colab": {
          "base_uri": "https://localhost:8080/"
        },
        "id": "pyiGPEu7CLUa",
        "outputId": "cb7e5b41-1d63-4f2e-ce14-85caeac55ead"
      },
      "outputs": [
        {
          "output_type": "stream",
          "name": "stdout",
          "text": [
            "feature shape: (506, 2)\n",
            "feature sample: [[6.320e-03 1.800e+01]\n",
            " [2.731e-02 0.000e+00]\n",
            " [2.729e-02 0.000e+00]]\n",
            "target shape: (506,)\n",
            "target sample: [24.  21.6 34.7]\n",
            "feature name: ['CRIM' 'ZN' 'INDUS' 'CHAS' 'NOX' 'RM' 'AGE' 'DIS' 'RAD' 'TAX' 'PTRATIO'\n",
            " 'B' 'LSTAT']\n"
          ]
        },
        {
          "output_type": "stream",
          "name": "stderr",
          "text": [
            "/usr/local/lib/python3.8/dist-packages/sklearn/utils/deprecation.py:87: FutureWarning: Function load_boston is deprecated; `load_boston` is deprecated in 1.0 and will be removed in 1.2.\n",
            "\n",
            "    The Boston housing prices dataset has an ethical problem. You can refer to\n",
            "    the documentation of this function for further details.\n",
            "\n",
            "    The scikit-learn maintainers therefore strongly discourage the use of this\n",
            "    dataset unless the purpose of the code is to study and educate about\n",
            "    ethical issues in data science and machine learning.\n",
            "\n",
            "    In this special case, you can fetch the dataset from the original\n",
            "    source::\n",
            "\n",
            "        import pandas as pd\n",
            "        import numpy as np\n",
            "\n",
            "\n",
            "        data_url = \"http://lib.stat.cmu.edu/datasets/boston\"\n",
            "        raw_df = pd.read_csv(data_url, sep=\"\\s+\", skiprows=22, header=None)\n",
            "        data = np.hstack([raw_df.values[::2, :], raw_df.values[1::2, :2]])\n",
            "        target = raw_df.values[1::2, 2]\n",
            "\n",
            "    Alternative datasets include the California housing dataset (i.e.\n",
            "    :func:`~sklearn.datasets.fetch_california_housing`) and the Ames housing\n",
            "    dataset. You can load the datasets as follows::\n",
            "\n",
            "        from sklearn.datasets import fetch_california_housing\n",
            "        housing = fetch_california_housing()\n",
            "\n",
            "    for the California housing dataset and::\n",
            "\n",
            "        from sklearn.datasets import fetch_openml\n",
            "        housing = fetch_openml(name=\"house_prices\", as_frame=True)\n",
            "\n",
            "    for the Ames housing dataset.\n",
            "    \n",
            "  warnings.warn(msg, category=FutureWarning)\n"
          ]
        }
      ],
      "source": [
        "from sklearn.linear_model import LinearRegression\n",
        "from sklearn.datasets import load_boston\n",
        "\n",
        "boston = load_boston()\n",
        "x = boston.data[:, :2] # 특성 2개만 선택\n",
        "print('feature shape:', x.shape)\n",
        "print('feature sample:', x[:3])\n",
        "y = boston.target\n",
        "print('target shape:', y.shape)\n",
        "print('target sample:', y[:3])\n",
        "print('feature name:', boston.feature_names)\n",
        "\n",
        "\n",
        "lr = LinearRegression()\n",
        "model = lr.fit(x, y)"
      ]
    },
    {
      "cell_type": "code",
      "source": [
        "# 절편(intercept) = 편향(bias)\n",
        "print('Intercept(=bias) :', model.intercept_)\n",
        "print('coef :', model.coef_)\n",
        "# dir(model)\n",
        "\n",
        "print('\\n실제값:', y[0] * 1000) # 보스턴 주택가격 단위가 천 달러라, 1000을 곱해줌\n",
        "print('예측값:', model.predict(x)[0] * 1000)"
      ],
      "metadata": {
        "colab": {
          "base_uri": "https://localhost:8080/"
        },
        "id": "mMUsQRaWDdex",
        "outputId": "91d3e785-3f72-4ecb-a317-09db2d1f1384"
      },
      "execution_count": 2,
      "outputs": [
        {
          "output_type": "stream",
          "name": "stdout",
          "text": [
            "Intercept(=bias) : 22.485628113468223\n",
            "coef : [-0.35207832  0.11610909]\n",
            "\n",
            "실제값: 24000.0\n",
            "예측값: 24573.366631705547\n"
          ]
        }
      ]
    },
    {
      "cell_type": "markdown",
      "source": [
        "## 13.2 교차 특성 다루기\n",
        "\n",
        "과제 : 타깃 변수에 영향을 미치면서 다른 특성에 의존하는 특성이 있음\n",
        "\n",
        "해결 : 사이킷런의 `PolynomialFeatures` 클래스로 교차항(interactive term)을 만들어 의존성을 잡아냅니다."
      ],
      "metadata": {
        "id": "QaCcCHChFi-9"
      }
    },
    {
      "cell_type": "code",
      "source": [
        "from sklearn.linear_model import LinearRegression\n",
        "from sklearn.datasets import load_boston\n",
        "from sklearn.preprocessing import PolynomialFeatures\n",
        "\n",
        "import warnings\n",
        "warnings.filterwarnings(action='ignore')\n",
        "\n",
        "boston = load_boston()\n",
        "x = boston.data[:, :2]\n",
        "y = boston.target\n",
        "class_name = boston.feature_names\n",
        "# dir(boston)\n",
        "print('class name 2개:', class_name[:2])\n",
        "\n",
        "# 교차항을 생성\n",
        "# degree : 교차항을 만들 때 최대 특성의 수\n",
        "# include_bias : 기본적으로 절편(bias)이라 부르는 1로 채워진 특성을 추가하는데, False 이면 그렇게 하지 않음\n",
        "# interaction_only : True 지정 시 오직 교차항만 반환 \n",
        "interaction = PolynomialFeatures(degree=3, include_bias=False, interaction_only=True)\n",
        "\n",
        "features_interaction = interaction.fit_transform(x)\n",
        "print('feature interaction sample:', features_interaction[:3])\n",
        "\n",
        "lr = LinearRegression()\n",
        "model = lr.fit(features_interaction, y)\n"
      ],
      "metadata": {
        "id": "-iM7XkivFxlk",
        "colab": {
          "base_uri": "https://localhost:8080/"
        },
        "outputId": "0730bcd8-59e6-496c-9969-13142dec47ce"
      },
      "execution_count": 12,
      "outputs": [
        {
          "output_type": "stream",
          "name": "stdout",
          "text": [
            "class name 2개: ['CRIM' 'ZN']\n",
            "feature interaction sample: [[6.3200e-03 1.8000e+01 1.1376e-01]\n",
            " [2.7310e-02 0.0000e+00 0.0000e+00]\n",
            " [2.7290e-02 0.0000e+00 0.0000e+00]]\n"
          ]
        }
      ]
    }
  ]
}