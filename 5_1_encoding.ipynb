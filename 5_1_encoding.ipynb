{
  "nbformat": 4,
  "nbformat_minor": 0,
  "metadata": {
    "colab": {
      "provenance": [],
      "authorship_tag": "ABX9TyMYlO28ae0X2BiqrujU/aSa",
      "include_colab_link": true
    },
    "kernelspec": {
      "name": "python3",
      "display_name": "Python 3"
    },
    "language_info": {
      "name": "python"
    }
  },
  "cells": [
    {
      "cell_type": "markdown",
      "metadata": {
        "id": "view-in-github",
        "colab_type": "text"
      },
      "source": [
        "<a href=\"https://colab.research.google.com/github/johyunkang/MLwithPythonCookbook/blob/main/5_1_encoding.ipynb\" target=\"_parent\"><img src=\"https://colab.research.google.com/assets/colab-badge.svg\" alt=\"Open In Colab\"/></a>"
      ]
    },
    {
      "cell_type": "markdown",
      "source": [
        "## 5.1 순서가 없는 범주형 특성 인코딩하기 "
      ],
      "metadata": {
        "id": "NO_Spb6XE_Se"
      }
    },
    {
      "cell_type": "markdown",
      "source": [
        "`LabelBinarizer`는 문자열 타깃 데이터를 원-핫 인코딩으로 변환할 때 사용\n",
        "\n",
        "`LabelEncoder`는 문자열 타깃 데이터를 정수 레이블로 변환\n",
        "\n",
        "특성 배열을 **원-핫 인코딩** 할 때는 `OneHotEncoder`를 사용하는게 좋음\n",
        "\n",
        "`OneHotEncoder`는 기본적으로 **희소배열**을 반환. `sparse=False`로 지정 시 밀집배열을 얻을 수 있음"
      ],
      "metadata": {
        "id": "qAHkurzaHwIm"
      }
    },
    {
      "cell_type": "code",
      "execution_count": 1,
      "metadata": {
        "colab": {
          "base_uri": "https://localhost:8080/",
          "height": 405
        },
        "id": "DX_IF5QqE7wP",
        "outputId": "19ac0bb6-9300-466d-c7d4-b856faab9d00"
      },
      "outputs": [
        {
          "output_type": "stream",
          "name": "stdout",
          "text": [
            "인코딩 결과:\n",
            " [[0 0 1]\n",
            " [1 0 0]\n",
            " [0 0 1]\n",
            " [0 1 0]\n",
            " [0 0 1]]\n",
            "인코딩 결과 확인: ['california' 'delaware' 'texas']\n",
            "\n",
            "\n",
            "디코딩 결과:\n",
            " ['texas' 'california' 'texas' 'delaware' 'texas']\n"
          ]
        },
        {
          "output_type": "display_data",
          "data": {
            "text/plain": [
              "   california  delaware  texas\n",
              "0           0         0      1\n",
              "1           1         0      0\n",
              "2           0         0      1\n",
              "3           0         1      0\n",
              "4           0         0      1"
            ],
            "text/html": [
              "\n",
              "  <div id=\"df-d624bd83-a92f-42e7-9597-38813424c369\">\n",
              "    <div class=\"colab-df-container\">\n",
              "      <div>\n",
              "<style scoped>\n",
              "    .dataframe tbody tr th:only-of-type {\n",
              "        vertical-align: middle;\n",
              "    }\n",
              "\n",
              "    .dataframe tbody tr th {\n",
              "        vertical-align: top;\n",
              "    }\n",
              "\n",
              "    .dataframe thead th {\n",
              "        text-align: right;\n",
              "    }\n",
              "</style>\n",
              "<table border=\"1\" class=\"dataframe\">\n",
              "  <thead>\n",
              "    <tr style=\"text-align: right;\">\n",
              "      <th></th>\n",
              "      <th>california</th>\n",
              "      <th>delaware</th>\n",
              "      <th>texas</th>\n",
              "    </tr>\n",
              "  </thead>\n",
              "  <tbody>\n",
              "    <tr>\n",
              "      <th>0</th>\n",
              "      <td>0</td>\n",
              "      <td>0</td>\n",
              "      <td>1</td>\n",
              "    </tr>\n",
              "    <tr>\n",
              "      <th>1</th>\n",
              "      <td>1</td>\n",
              "      <td>0</td>\n",
              "      <td>0</td>\n",
              "    </tr>\n",
              "    <tr>\n",
              "      <th>2</th>\n",
              "      <td>0</td>\n",
              "      <td>0</td>\n",
              "      <td>1</td>\n",
              "    </tr>\n",
              "    <tr>\n",
              "      <th>3</th>\n",
              "      <td>0</td>\n",
              "      <td>1</td>\n",
              "      <td>0</td>\n",
              "    </tr>\n",
              "    <tr>\n",
              "      <th>4</th>\n",
              "      <td>0</td>\n",
              "      <td>0</td>\n",
              "      <td>1</td>\n",
              "    </tr>\n",
              "  </tbody>\n",
              "</table>\n",
              "</div>\n",
              "      <button class=\"colab-df-convert\" onclick=\"convertToInteractive('df-d624bd83-a92f-42e7-9597-38813424c369')\"\n",
              "              title=\"Convert this dataframe to an interactive table.\"\n",
              "              style=\"display:none;\">\n",
              "        \n",
              "  <svg xmlns=\"http://www.w3.org/2000/svg\" height=\"24px\"viewBox=\"0 0 24 24\"\n",
              "       width=\"24px\">\n",
              "    <path d=\"M0 0h24v24H0V0z\" fill=\"none\"/>\n",
              "    <path d=\"M18.56 5.44l.94 2.06.94-2.06 2.06-.94-2.06-.94-.94-2.06-.94 2.06-2.06.94zm-11 1L8.5 8.5l.94-2.06 2.06-.94-2.06-.94L8.5 2.5l-.94 2.06-2.06.94zm10 10l.94 2.06.94-2.06 2.06-.94-2.06-.94-.94-2.06-.94 2.06-2.06.94z\"/><path d=\"M17.41 7.96l-1.37-1.37c-.4-.4-.92-.59-1.43-.59-.52 0-1.04.2-1.43.59L10.3 9.45l-7.72 7.72c-.78.78-.78 2.05 0 2.83L4 21.41c.39.39.9.59 1.41.59.51 0 1.02-.2 1.41-.59l7.78-7.78 2.81-2.81c.8-.78.8-2.07 0-2.86zM5.41 20L4 18.59l7.72-7.72 1.47 1.35L5.41 20z\"/>\n",
              "  </svg>\n",
              "      </button>\n",
              "      \n",
              "  <style>\n",
              "    .colab-df-container {\n",
              "      display:flex;\n",
              "      flex-wrap:wrap;\n",
              "      gap: 12px;\n",
              "    }\n",
              "\n",
              "    .colab-df-convert {\n",
              "      background-color: #E8F0FE;\n",
              "      border: none;\n",
              "      border-radius: 50%;\n",
              "      cursor: pointer;\n",
              "      display: none;\n",
              "      fill: #1967D2;\n",
              "      height: 32px;\n",
              "      padding: 0 0 0 0;\n",
              "      width: 32px;\n",
              "    }\n",
              "\n",
              "    .colab-df-convert:hover {\n",
              "      background-color: #E2EBFA;\n",
              "      box-shadow: 0px 1px 2px rgba(60, 64, 67, 0.3), 0px 1px 3px 1px rgba(60, 64, 67, 0.15);\n",
              "      fill: #174EA6;\n",
              "    }\n",
              "\n",
              "    [theme=dark] .colab-df-convert {\n",
              "      background-color: #3B4455;\n",
              "      fill: #D2E3FC;\n",
              "    }\n",
              "\n",
              "    [theme=dark] .colab-df-convert:hover {\n",
              "      background-color: #434B5C;\n",
              "      box-shadow: 0px 1px 3px 1px rgba(0, 0, 0, 0.15);\n",
              "      filter: drop-shadow(0px 1px 2px rgba(0, 0, 0, 0.3));\n",
              "      fill: #FFFFFF;\n",
              "    }\n",
              "  </style>\n",
              "\n",
              "      <script>\n",
              "        const buttonEl =\n",
              "          document.querySelector('#df-d624bd83-a92f-42e7-9597-38813424c369 button.colab-df-convert');\n",
              "        buttonEl.style.display =\n",
              "          google.colab.kernel.accessAllowed ? 'block' : 'none';\n",
              "\n",
              "        async function convertToInteractive(key) {\n",
              "          const element = document.querySelector('#df-d624bd83-a92f-42e7-9597-38813424c369');\n",
              "          const dataTable =\n",
              "            await google.colab.kernel.invokeFunction('convertToInteractive',\n",
              "                                                     [key], {});\n",
              "          if (!dataTable) return;\n",
              "\n",
              "          const docLinkHtml = 'Like what you see? Visit the ' +\n",
              "            '<a target=\"_blank\" href=https://colab.research.google.com/notebooks/data_table.ipynb>data table notebook</a>'\n",
              "            + ' to learn more about interactive tables.';\n",
              "          element.innerHTML = '';\n",
              "          dataTable['output_type'] = 'display_data';\n",
              "          await google.colab.output.renderOutput(dataTable, element);\n",
              "          const docLink = document.createElement('div');\n",
              "          docLink.innerHTML = docLinkHtml;\n",
              "          element.appendChild(docLink);\n",
              "        }\n",
              "      </script>\n",
              "    </div>\n",
              "  </div>\n",
              "  "
            ]
          },
          "metadata": {}
        }
      ],
      "source": [
        "import pandas as pd\n",
        "import numpy as np\n",
        "from sklearn.preprocessing import LabelBinarizer, MultiLabelBinarizer\n",
        "\n",
        "feature = np.array([[\"texas\"], [\"california\"], [\"texas\"], [\"delaware\"], [\"texas\"]])\n",
        "\n",
        "# 원핫 인코더\n",
        "one_hot = LabelBinarizer()\n",
        "\n",
        "# 특성 인코딩\n",
        "encoding_result = one_hot.fit_transform(feature)\n",
        "print('인코딩 결과:\\n', encoding_result)\n",
        "\n",
        "print('인코딩 결과 확인:', one_hot.classes_)\n",
        "\n",
        "# help(one_hot)\n",
        "# 인코딩 결과 디코딩\n",
        "decoding_result = one_hot.inverse_transform(one_hot.transform(feature))\n",
        "print('\\n\\n디코딩 결과:\\n', decoding_result)\n",
        "\n",
        "# 더미를 이용한 인코딩\n",
        "display(pd.get_dummies(feature[:, 0]))"
      ]
    },
    {
      "cell_type": "code",
      "source": [
        "\n",
        "# 다중 클래스 특성\n",
        "multi_feature = [(\"texas\", \"florida\"), (\"california\", \"alabama\"),\n",
        "                 (\"texas\", \"florida\"), (\"delware\", \"florida\"),\n",
        "                 (\"texas\", \"alabama\")]\n",
        "# 다중 원핫 인코더\n",
        "one_hot_multi = MultiLabelBinarizer()\n",
        "\n",
        "multi_encod_result = one_hot_multi.fit_transform(multi_feature)\n",
        "print('다중 멀티 인코딩 결과:\\n', multi_encod_result)\n",
        "\n",
        "print('\\n\\n클래스 확인:', one_hot_multi.classes_)"
      ],
      "metadata": {
        "colab": {
          "base_uri": "https://localhost:8080/"
        },
        "id": "28xS6YcNHNxh",
        "outputId": "dd420a7f-44af-4fc9-f332-6fc3e1755077"
      },
      "execution_count": 2,
      "outputs": [
        {
          "output_type": "stream",
          "name": "stdout",
          "text": [
            "다중 멀티 인코딩 결과:\n",
            " [[0 0 0 1 1]\n",
            " [1 1 0 0 0]\n",
            " [0 0 0 1 1]\n",
            " [0 0 1 1 0]\n",
            " [1 0 0 0 1]]\n",
            "\n",
            "\n",
            "클래스 확인: ['alabama' 'california' 'delware' 'florida' 'texas']\n"
          ]
        }
      ]
    },
    {
      "cell_type": "code",
      "source": [
        "from sklearn.preprocessing import OneHotEncoder\n",
        "\n",
        "# 여러 개의 열이 있는 특성 배열\n",
        "feature = np.array( [ [\"texas\", 1],\n",
        "                      [\"california\", 1],\n",
        "                      [\"texas\", 3],\n",
        "                      [\"delaware\", 1],\n",
        "                      [\"texas\", 1] ] )\n",
        "one_hot_enc = OneHotEncoder(sparse=False) # sparse=False : 밀집배열 리턴, True: 희소배열 리턴\n",
        "print(\"One-Hot encoing 결과:\")\n",
        "print(one_hot_enc.fit_transform(feature))\n",
        "\n",
        "# 카테고리 확인\n",
        "print('\\n카테고리 확인:', one_hot_enc.categories_)"
      ],
      "metadata": {
        "colab": {
          "base_uri": "https://localhost:8080/"
        },
        "id": "skOlBE0cIcfG",
        "outputId": "aebbe85b-2008-47a4-fd30-cd84b29ed876"
      },
      "execution_count": 3,
      "outputs": [
        {
          "output_type": "stream",
          "name": "stdout",
          "text": [
            "One-Hot encoing 결과:\n",
            "[[0. 0. 1. 1. 0.]\n",
            " [1. 0. 0. 1. 0.]\n",
            " [0. 0. 1. 0. 1.]\n",
            " [0. 1. 0. 1. 0.]\n",
            " [0. 0. 1. 1. 0.]]\n",
            "\n",
            "카테고리 확인: [array(['california', 'delaware', 'texas'], dtype='<U21'), array(['1', '3'], dtype='<U21')]\n"
          ]
        }
      ]
    },
    {
      "cell_type": "markdown",
      "source": [
        "## 5.2 순서가 있는 범주형 특성 인코딩하기"
      ],
      "metadata": {
        "id": "lk_ONu-WJvCk"
      }
    },
    {
      "cell_type": "markdown",
      "source": [
        "`replace`를 이용하여 문자열 레이블을 수치값으로 변환"
      ],
      "metadata": {
        "id": "WqDC3IOsWIzI"
      }
    },
    {
      "cell_type": "code",
      "source": [
        "import pandas as pd\n",
        "\n",
        "df = pd.DataFrame({'score':['low', 'low', 'medium', 'medium', 'high']})\n",
        "\n",
        "print('원본 DF')\n",
        "display(df)\n",
        "# 매핑 딕셔너리 생성\n",
        "scale_mapper = {'low':1, 'medium':2, 'high':3}\n",
        "\n",
        "print('\\n\\nreplace 후 DF')\n",
        "df_replaced = df['score'].replace(scale_mapper)\n",
        "display(df_replaced)"
      ],
      "metadata": {
        "colab": {
          "base_uri": "https://localhost:8080/",
          "height": 387
        },
        "id": "jjn7wF1zWNi3",
        "outputId": "bd048cbb-bc8b-45ae-bd76-f3a98a58c823"
      },
      "execution_count": 8,
      "outputs": [
        {
          "output_type": "stream",
          "name": "stdout",
          "text": [
            "원본 DF\n"
          ]
        },
        {
          "output_type": "display_data",
          "data": {
            "text/plain": [
              "    score\n",
              "0     low\n",
              "1     low\n",
              "2  medium\n",
              "3  medium\n",
              "4    high"
            ],
            "text/html": [
              "\n",
              "  <div id=\"df-266382a7-c974-47d6-af7b-1fb08048ab85\">\n",
              "    <div class=\"colab-df-container\">\n",
              "      <div>\n",
              "<style scoped>\n",
              "    .dataframe tbody tr th:only-of-type {\n",
              "        vertical-align: middle;\n",
              "    }\n",
              "\n",
              "    .dataframe tbody tr th {\n",
              "        vertical-align: top;\n",
              "    }\n",
              "\n",
              "    .dataframe thead th {\n",
              "        text-align: right;\n",
              "    }\n",
              "</style>\n",
              "<table border=\"1\" class=\"dataframe\">\n",
              "  <thead>\n",
              "    <tr style=\"text-align: right;\">\n",
              "      <th></th>\n",
              "      <th>score</th>\n",
              "    </tr>\n",
              "  </thead>\n",
              "  <tbody>\n",
              "    <tr>\n",
              "      <th>0</th>\n",
              "      <td>low</td>\n",
              "    </tr>\n",
              "    <tr>\n",
              "      <th>1</th>\n",
              "      <td>low</td>\n",
              "    </tr>\n",
              "    <tr>\n",
              "      <th>2</th>\n",
              "      <td>medium</td>\n",
              "    </tr>\n",
              "    <tr>\n",
              "      <th>3</th>\n",
              "      <td>medium</td>\n",
              "    </tr>\n",
              "    <tr>\n",
              "      <th>4</th>\n",
              "      <td>high</td>\n",
              "    </tr>\n",
              "  </tbody>\n",
              "</table>\n",
              "</div>\n",
              "      <button class=\"colab-df-convert\" onclick=\"convertToInteractive('df-266382a7-c974-47d6-af7b-1fb08048ab85')\"\n",
              "              title=\"Convert this dataframe to an interactive table.\"\n",
              "              style=\"display:none;\">\n",
              "        \n",
              "  <svg xmlns=\"http://www.w3.org/2000/svg\" height=\"24px\"viewBox=\"0 0 24 24\"\n",
              "       width=\"24px\">\n",
              "    <path d=\"M0 0h24v24H0V0z\" fill=\"none\"/>\n",
              "    <path d=\"M18.56 5.44l.94 2.06.94-2.06 2.06-.94-2.06-.94-.94-2.06-.94 2.06-2.06.94zm-11 1L8.5 8.5l.94-2.06 2.06-.94-2.06-.94L8.5 2.5l-.94 2.06-2.06.94zm10 10l.94 2.06.94-2.06 2.06-.94-2.06-.94-.94-2.06-.94 2.06-2.06.94z\"/><path d=\"M17.41 7.96l-1.37-1.37c-.4-.4-.92-.59-1.43-.59-.52 0-1.04.2-1.43.59L10.3 9.45l-7.72 7.72c-.78.78-.78 2.05 0 2.83L4 21.41c.39.39.9.59 1.41.59.51 0 1.02-.2 1.41-.59l7.78-7.78 2.81-2.81c.8-.78.8-2.07 0-2.86zM5.41 20L4 18.59l7.72-7.72 1.47 1.35L5.41 20z\"/>\n",
              "  </svg>\n",
              "      </button>\n",
              "      \n",
              "  <style>\n",
              "    .colab-df-container {\n",
              "      display:flex;\n",
              "      flex-wrap:wrap;\n",
              "      gap: 12px;\n",
              "    }\n",
              "\n",
              "    .colab-df-convert {\n",
              "      background-color: #E8F0FE;\n",
              "      border: none;\n",
              "      border-radius: 50%;\n",
              "      cursor: pointer;\n",
              "      display: none;\n",
              "      fill: #1967D2;\n",
              "      height: 32px;\n",
              "      padding: 0 0 0 0;\n",
              "      width: 32px;\n",
              "    }\n",
              "\n",
              "    .colab-df-convert:hover {\n",
              "      background-color: #E2EBFA;\n",
              "      box-shadow: 0px 1px 2px rgba(60, 64, 67, 0.3), 0px 1px 3px 1px rgba(60, 64, 67, 0.15);\n",
              "      fill: #174EA6;\n",
              "    }\n",
              "\n",
              "    [theme=dark] .colab-df-convert {\n",
              "      background-color: #3B4455;\n",
              "      fill: #D2E3FC;\n",
              "    }\n",
              "\n",
              "    [theme=dark] .colab-df-convert:hover {\n",
              "      background-color: #434B5C;\n",
              "      box-shadow: 0px 1px 3px 1px rgba(0, 0, 0, 0.15);\n",
              "      filter: drop-shadow(0px 1px 2px rgba(0, 0, 0, 0.3));\n",
              "      fill: #FFFFFF;\n",
              "    }\n",
              "  </style>\n",
              "\n",
              "      <script>\n",
              "        const buttonEl =\n",
              "          document.querySelector('#df-266382a7-c974-47d6-af7b-1fb08048ab85 button.colab-df-convert');\n",
              "        buttonEl.style.display =\n",
              "          google.colab.kernel.accessAllowed ? 'block' : 'none';\n",
              "\n",
              "        async function convertToInteractive(key) {\n",
              "          const element = document.querySelector('#df-266382a7-c974-47d6-af7b-1fb08048ab85');\n",
              "          const dataTable =\n",
              "            await google.colab.kernel.invokeFunction('convertToInteractive',\n",
              "                                                     [key], {});\n",
              "          if (!dataTable) return;\n",
              "\n",
              "          const docLinkHtml = 'Like what you see? Visit the ' +\n",
              "            '<a target=\"_blank\" href=https://colab.research.google.com/notebooks/data_table.ipynb>data table notebook</a>'\n",
              "            + ' to learn more about interactive tables.';\n",
              "          element.innerHTML = '';\n",
              "          dataTable['output_type'] = 'display_data';\n",
              "          await google.colab.output.renderOutput(dataTable, element);\n",
              "          const docLink = document.createElement('div');\n",
              "          docLink.innerHTML = docLinkHtml;\n",
              "          element.appendChild(docLink);\n",
              "        }\n",
              "      </script>\n",
              "    </div>\n",
              "  </div>\n",
              "  "
            ]
          },
          "metadata": {}
        },
        {
          "output_type": "stream",
          "name": "stdout",
          "text": [
            "\n",
            "\n",
            "replace 후 DF\n"
          ]
        },
        {
          "output_type": "display_data",
          "data": {
            "text/plain": [
              "0    1\n",
              "1    1\n",
              "2    2\n",
              "3    2\n",
              "4    3\n",
              "Name: score, dtype: int64"
            ]
          },
          "metadata": {}
        }
      ]
    },
    {
      "cell_type": "markdown",
      "source": [
        "사이킷런 **0.20** 버전에 범주형 데이터를 정수로 인코딩하는 `OrdinalEncoder`가 추가되었음\n",
        "\n",
        "`OrdinalEncoder`는 클래스 범주를 순서대로 변환함. 정수 데이터도 범주형으로 인식하여 변환함"
      ],
      "metadata": {
        "id": "IL-HJjeoXAu9"
      }
    },
    {
      "cell_type": "code",
      "source": [
        "from sklearn.preprocessing import OrdinalEncoder\n",
        "\n",
        "features = np.array( [ ['Low', 10],\n",
        "                       ['High', 50],\n",
        "                       ['Medium', 3] ] )\n",
        "\n",
        "ordinal_encoder = OrdinalEncoder()\n",
        "print('OrdinalEncoder fit transform 결과')\n",
        "print(ordinal_encoder.fit_transform(features))\n",
        "\n",
        "print('\\n\\ncategories_ 속성 확인')\n",
        "print(ordinal_encoder.categories_)"
      ],
      "metadata": {
        "colab": {
          "base_uri": "https://localhost:8080/"
        },
        "id": "n0yTQ4kFXSdv",
        "outputId": "2e0113fb-f939-4a52-fd6e-20f9a16a6b0e"
      },
      "execution_count": 10,
      "outputs": [
        {
          "output_type": "stream",
          "name": "stdout",
          "text": [
            "OrdinalEncoder fit transform 결과\n",
            "[[1. 0.]\n",
            " [0. 2.]\n",
            " [2. 1.]]\n",
            "\n",
            "\n",
            "categories_ 속성 확인\n",
            "[array(['High', 'Low', 'Medium'], dtype='<U21'), array(['10', '3', '50'], dtype='<U21')]\n"
          ]
        }
      ]
    },
    {
      "cell_type": "markdown",
      "source": [
        "## 5.3 특성 딕셔너리를 인코딩하기"
      ],
      "metadata": {
        "id": "KQrLDGQWX_B6"
      }
    },
    {
      "cell_type": "code",
      "source": [
        "from sklearn.feature_extraction import DictVectorizer\n",
        "\n",
        "# 딕셔너리 생성\n",
        "data_dict = [{'red':2, 'blue':4},\n",
        "             {'red':4, 'blue':3},\n",
        "             {'red':1, 'yellow':2},\n",
        "             {'red':2, 'yellow':2}]\n",
        "            \n",
        "# DictVectorizer 객체 생성\n",
        "dv = DictVectorizer(sparse=False) # sparse=False: 밀집행렬 반환, True : 희소행렬 반환\n",
        "\n",
        "# 딕셔너리를 행렬로 변환\n",
        "features = dv.fit_transform(data_dict)\n",
        "\n",
        "print('밀집행렬 반환값')\n",
        "print(features)\n",
        "print('\\n밀집행렬 feature Name')\n",
        "print(dv.get_feature_names())\n",
        "\n",
        "\n",
        "# DictVectorizer 객체 생성\n",
        "dvt = DictVectorizer(sparse=True) # sparse=False: 밀집행렬 반환, True : 희소행렬 반환\n",
        "\n",
        "# 딕셔너리를 행렬로 변환\n",
        "features_t = dvt.fit_transform(data_dict)\n",
        "print('\\n\\n희소행렬 반환값')\n",
        "print(features_t)\n",
        "print('\\n희소행렬 feature Name')\n",
        "print(dvt.get_feature_names())"
      ],
      "metadata": {
        "colab": {
          "base_uri": "https://localhost:8080/"
        },
        "id": "_xXK3tFaYXuJ",
        "outputId": "cca658cd-9a77-4f45-a53b-17d2588aa104"
      },
      "execution_count": 16,
      "outputs": [
        {
          "output_type": "stream",
          "name": "stdout",
          "text": [
            "밀집행렬 반환값\n",
            "[[4. 2. 0.]\n",
            " [3. 4. 0.]\n",
            " [0. 1. 2.]\n",
            " [0. 2. 2.]]\n",
            "\n",
            "밀집행렬 feature Name\n",
            "['blue', 'red', 'yellow']\n",
            "\n",
            "\n",
            "희소행렬 반환값\n",
            "  (0, 0)\t4.0\n",
            "  (0, 1)\t2.0\n",
            "  (1, 0)\t3.0\n",
            "  (1, 1)\t4.0\n",
            "  (2, 1)\t1.0\n",
            "  (2, 2)\t2.0\n",
            "  (3, 1)\t2.0\n",
            "  (3, 2)\t2.0\n",
            "\n",
            "희소행렬 feature Name\n",
            "['blue', 'red', 'yellow']\n"
          ]
        }
      ]
    },
    {
      "cell_type": "markdown",
      "source": [
        "## 5.4 누락된 클래스 값 대체하기\n",
        "p.158"
      ],
      "metadata": {
        "id": "9mhWNtiyZvLK"
      }
    }
  ]
}