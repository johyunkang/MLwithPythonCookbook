{
  "nbformat": 4,
  "nbformat_minor": 0,
  "metadata": {
    "colab": {
      "provenance": [],
      "authorship_tag": "ABX9TyO5sNkkC4Dn0y6kBPb5wUWC",
      "include_colab_link": true
    },
    "kernelspec": {
      "name": "python3",
      "display_name": "Python 3"
    },
    "language_info": {
      "name": "python"
    }
  },
  "cells": [
    {
      "cell_type": "markdown",
      "metadata": {
        "id": "view-in-github",
        "colab_type": "text"
      },
      "source": [
        "<a href=\"https://colab.research.google.com/github/johyunkang/MLwithPythonCookbook/blob/main/5_1_encoding.ipynb\" target=\"_parent\"><img src=\"https://colab.research.google.com/assets/colab-badge.svg\" alt=\"Open In Colab\"/></a>"
      ]
    },
    {
      "cell_type": "markdown",
      "source": [
        "## 5.1 순서가 없는 범주형 특성 인코딩하기 "
      ],
      "metadata": {
        "id": "NO_Spb6XE_Se"
      }
    },
    {
      "cell_type": "markdown",
      "source": [
        "`LabelBinarizer`는 문자열 타깃 데이터를 원-핫 인코딩으로 변환할 때 사용\n",
        "\n",
        "`LabelEncoder`는 문자열 타깃 데이터를 정수 레이블로 변환\n",
        "\n",
        "특성 배열을 **원-핫 인코딩** 할 때는 `OneHotEncoder`를 사용하는게 좋음\n",
        "\n",
        "`OneHotEncoder`는 기본적으로 **희소배열**을 반환. `sparse=False`로 지정 시 밀집배열을 얻을 수 있음"
      ],
      "metadata": {
        "id": "qAHkurzaHwIm"
      }
    },
    {
      "cell_type": "code",
      "execution_count": 1,
      "metadata": {
        "colab": {
          "base_uri": "https://localhost:8080/",
          "height": 397
        },
        "id": "DX_IF5QqE7wP",
        "outputId": "c8e7856c-7654-406b-c57d-c2c9aa4c96ca"
      },
      "outputs": [
        {
          "output_type": "stream",
          "name": "stdout",
          "text": [
            "인코딩 결과:\n",
            " [[0 0 1]\n",
            " [1 0 0]\n",
            " [0 0 1]\n",
            " [0 1 0]\n",
            " [0 0 1]]\n",
            "인코딩 결과 확인: ['california' 'delaware' 'texas']\n",
            "\n",
            "\n",
            "디코딩 결과:\n",
            " ['texas' 'california' 'texas' 'delaware' 'texas']\n"
          ]
        },
        {
          "output_type": "display_data",
          "data": {
            "text/plain": [
              "   california  delaware  texas\n",
              "0           0         0      1\n",
              "1           1         0      0\n",
              "2           0         0      1\n",
              "3           0         1      0\n",
              "4           0         0      1"
            ],
            "text/html": [
              "\n",
              "  <div id=\"df-6d0ea80e-b311-46d3-96d3-f7be399523b5\">\n",
              "    <div class=\"colab-df-container\">\n",
              "      <div>\n",
              "<style scoped>\n",
              "    .dataframe tbody tr th:only-of-type {\n",
              "        vertical-align: middle;\n",
              "    }\n",
              "\n",
              "    .dataframe tbody tr th {\n",
              "        vertical-align: top;\n",
              "    }\n",
              "\n",
              "    .dataframe thead th {\n",
              "        text-align: right;\n",
              "    }\n",
              "</style>\n",
              "<table border=\"1\" class=\"dataframe\">\n",
              "  <thead>\n",
              "    <tr style=\"text-align: right;\">\n",
              "      <th></th>\n",
              "      <th>california</th>\n",
              "      <th>delaware</th>\n",
              "      <th>texas</th>\n",
              "    </tr>\n",
              "  </thead>\n",
              "  <tbody>\n",
              "    <tr>\n",
              "      <th>0</th>\n",
              "      <td>0</td>\n",
              "      <td>0</td>\n",
              "      <td>1</td>\n",
              "    </tr>\n",
              "    <tr>\n",
              "      <th>1</th>\n",
              "      <td>1</td>\n",
              "      <td>0</td>\n",
              "      <td>0</td>\n",
              "    </tr>\n",
              "    <tr>\n",
              "      <th>2</th>\n",
              "      <td>0</td>\n",
              "      <td>0</td>\n",
              "      <td>1</td>\n",
              "    </tr>\n",
              "    <tr>\n",
              "      <th>3</th>\n",
              "      <td>0</td>\n",
              "      <td>1</td>\n",
              "      <td>0</td>\n",
              "    </tr>\n",
              "    <tr>\n",
              "      <th>4</th>\n",
              "      <td>0</td>\n",
              "      <td>0</td>\n",
              "      <td>1</td>\n",
              "    </tr>\n",
              "  </tbody>\n",
              "</table>\n",
              "</div>\n",
              "      <button class=\"colab-df-convert\" onclick=\"convertToInteractive('df-6d0ea80e-b311-46d3-96d3-f7be399523b5')\"\n",
              "              title=\"Convert this dataframe to an interactive table.\"\n",
              "              style=\"display:none;\">\n",
              "        \n",
              "  <svg xmlns=\"http://www.w3.org/2000/svg\" height=\"24px\"viewBox=\"0 0 24 24\"\n",
              "       width=\"24px\">\n",
              "    <path d=\"M0 0h24v24H0V0z\" fill=\"none\"/>\n",
              "    <path d=\"M18.56 5.44l.94 2.06.94-2.06 2.06-.94-2.06-.94-.94-2.06-.94 2.06-2.06.94zm-11 1L8.5 8.5l.94-2.06 2.06-.94-2.06-.94L8.5 2.5l-.94 2.06-2.06.94zm10 10l.94 2.06.94-2.06 2.06-.94-2.06-.94-.94-2.06-.94 2.06-2.06.94z\"/><path d=\"M17.41 7.96l-1.37-1.37c-.4-.4-.92-.59-1.43-.59-.52 0-1.04.2-1.43.59L10.3 9.45l-7.72 7.72c-.78.78-.78 2.05 0 2.83L4 21.41c.39.39.9.59 1.41.59.51 0 1.02-.2 1.41-.59l7.78-7.78 2.81-2.81c.8-.78.8-2.07 0-2.86zM5.41 20L4 18.59l7.72-7.72 1.47 1.35L5.41 20z\"/>\n",
              "  </svg>\n",
              "      </button>\n",
              "      \n",
              "  <style>\n",
              "    .colab-df-container {\n",
              "      display:flex;\n",
              "      flex-wrap:wrap;\n",
              "      gap: 12px;\n",
              "    }\n",
              "\n",
              "    .colab-df-convert {\n",
              "      background-color: #E8F0FE;\n",
              "      border: none;\n",
              "      border-radius: 50%;\n",
              "      cursor: pointer;\n",
              "      display: none;\n",
              "      fill: #1967D2;\n",
              "      height: 32px;\n",
              "      padding: 0 0 0 0;\n",
              "      width: 32px;\n",
              "    }\n",
              "\n",
              "    .colab-df-convert:hover {\n",
              "      background-color: #E2EBFA;\n",
              "      box-shadow: 0px 1px 2px rgba(60, 64, 67, 0.3), 0px 1px 3px 1px rgba(60, 64, 67, 0.15);\n",
              "      fill: #174EA6;\n",
              "    }\n",
              "\n",
              "    [theme=dark] .colab-df-convert {\n",
              "      background-color: #3B4455;\n",
              "      fill: #D2E3FC;\n",
              "    }\n",
              "\n",
              "    [theme=dark] .colab-df-convert:hover {\n",
              "      background-color: #434B5C;\n",
              "      box-shadow: 0px 1px 3px 1px rgba(0, 0, 0, 0.15);\n",
              "      filter: drop-shadow(0px 1px 2px rgba(0, 0, 0, 0.3));\n",
              "      fill: #FFFFFF;\n",
              "    }\n",
              "  </style>\n",
              "\n",
              "      <script>\n",
              "        const buttonEl =\n",
              "          document.querySelector('#df-6d0ea80e-b311-46d3-96d3-f7be399523b5 button.colab-df-convert');\n",
              "        buttonEl.style.display =\n",
              "          google.colab.kernel.accessAllowed ? 'block' : 'none';\n",
              "\n",
              "        async function convertToInteractive(key) {\n",
              "          const element = document.querySelector('#df-6d0ea80e-b311-46d3-96d3-f7be399523b5');\n",
              "          const dataTable =\n",
              "            await google.colab.kernel.invokeFunction('convertToInteractive',\n",
              "                                                     [key], {});\n",
              "          if (!dataTable) return;\n",
              "\n",
              "          const docLinkHtml = 'Like what you see? Visit the ' +\n",
              "            '<a target=\"_blank\" href=https://colab.research.google.com/notebooks/data_table.ipynb>data table notebook</a>'\n",
              "            + ' to learn more about interactive tables.';\n",
              "          element.innerHTML = '';\n",
              "          dataTable['output_type'] = 'display_data';\n",
              "          await google.colab.output.renderOutput(dataTable, element);\n",
              "          const docLink = document.createElement('div');\n",
              "          docLink.innerHTML = docLinkHtml;\n",
              "          element.appendChild(docLink);\n",
              "        }\n",
              "      </script>\n",
              "    </div>\n",
              "  </div>\n",
              "  "
            ]
          },
          "metadata": {}
        }
      ],
      "source": [
        "import pandas as pd\n",
        "import numpy as np\n",
        "from sklearn.preprocessing import LabelBinarizer, MultiLabelBinarizer\n",
        "\n",
        "feature = np.array([[\"texas\"], [\"california\"], [\"texas\"], [\"delaware\"], [\"texas\"]])\n",
        "\n",
        "# 원핫 인코더\n",
        "one_hot = LabelBinarizer()\n",
        "\n",
        "# 특성 인코딩\n",
        "encoding_result = one_hot.fit_transform(feature)\n",
        "print('인코딩 결과:\\n', encoding_result)\n",
        "\n",
        "print('인코딩 결과 확인:', one_hot.classes_)\n",
        "\n",
        "# help(one_hot)\n",
        "# 인코딩 결과 디코딩\n",
        "decoding_result = one_hot.inverse_transform(one_hot.transform(feature))\n",
        "print('\\n\\n디코딩 결과:\\n', decoding_result)\n",
        "\n",
        "# 더미를 이용한 인코딩\n",
        "display(pd.get_dummies(feature[:, 0]))"
      ]
    },
    {
      "cell_type": "code",
      "source": [
        "\n",
        "# 다중 클래스 특성\n",
        "multi_feature = [(\"texas\", \"florida\"), (\"california\", \"alabama\"),\n",
        "                 (\"texas\", \"florida\"), (\"delware\", \"florida\"),\n",
        "                 (\"texas\", \"alabama\")]\n",
        "# 다중 원핫 인코더\n",
        "one_hot_multi = MultiLabelBinarizer()\n",
        "\n",
        "multi_encod_result = one_hot_multi.fit_transform(multi_feature)\n",
        "print('다중 멀티 인코딩 결과:\\n', multi_encod_result)\n",
        "\n",
        "print('\\n\\n클래스 확인:', one_hot_multi.classes_)"
      ],
      "metadata": {
        "colab": {
          "base_uri": "https://localhost:8080/"
        },
        "id": "28xS6YcNHNxh",
        "outputId": "0be23752-eadf-4e29-be98-d6ef9a863c01"
      },
      "execution_count": 2,
      "outputs": [
        {
          "output_type": "stream",
          "name": "stdout",
          "text": [
            "다중 멀티 인코딩 결과:\n",
            " [[0 0 0 1 1]\n",
            " [1 1 0 0 0]\n",
            " [0 0 0 1 1]\n",
            " [0 0 1 1 0]\n",
            " [1 0 0 0 1]]\n",
            "\n",
            "\n",
            "클래스 확인: ['alabama' 'california' 'delware' 'florida' 'texas']\n"
          ]
        }
      ]
    },
    {
      "cell_type": "code",
      "source": [
        "from sklearn.preprocessing import OneHotEncoder\n",
        "\n",
        "# 여러 개의 열이 있는 특성 배열\n",
        "feature = np.array( [ [\"texas\", 1],\n",
        "                      [\"california\", 1],\n",
        "                      [\"texas\", 3],\n",
        "                      [\"delaware\", 1],\n",
        "                      [\"texas\", 1] ] )\n",
        "one_hot_enc = OneHotEncoder(sparse=False) # sparse=False : 밀집배열 리턴, True: 희소배열 리턴\n",
        "print(\"One-Hot encoing 결과:\")\n",
        "print(one_hot_enc.fit_transform(feature))\n",
        "\n",
        "# 카테고리 확인\n",
        "print('\\n카테고리 확인:', one_hot_enc.categories_)"
      ],
      "metadata": {
        "colab": {
          "base_uri": "https://localhost:8080/"
        },
        "id": "skOlBE0cIcfG",
        "outputId": "ab2dab76-c4a3-487c-c371-6a08634281ef"
      },
      "execution_count": 3,
      "outputs": [
        {
          "output_type": "stream",
          "name": "stdout",
          "text": [
            "One-Hot encoing 결과:\n",
            "[[0. 0. 1. 1. 0.]\n",
            " [1. 0. 0. 1. 0.]\n",
            " [0. 0. 1. 0. 1.]\n",
            " [0. 1. 0. 1. 0.]\n",
            " [0. 0. 1. 1. 0.]]\n",
            "\n",
            "카테고리 확인: [array(['california', 'delaware', 'texas'], dtype='<U21'), array(['1', '3'], dtype='<U21')]\n"
          ]
        }
      ]
    },
    {
      "cell_type": "markdown",
      "source": [
        "## 5.2 순서가 있는 범주형 특성 인코딩하기"
      ],
      "metadata": {
        "id": "lk_ONu-WJvCk"
      }
    },
    {
      "cell_type": "markdown",
      "source": [
        "`replace`를 이용하여 문자열 레이블을 수치값으로 변환"
      ],
      "metadata": {
        "id": "WqDC3IOsWIzI"
      }
    },
    {
      "cell_type": "code",
      "source": [
        "import pandas as pd\n",
        "\n",
        "df = pd.DataFrame({'score':['low', 'low', 'medium', 'medium', 'high']})\n",
        "\n",
        "print('원본 DF')\n",
        "display(df)\n",
        "# 매핑 딕셔너리 생성\n",
        "scale_mapper = {'low':1, 'medium':2, 'high':3}\n",
        "\n",
        "print('\\n\\nreplace 후 DF')\n",
        "df_replaced = df['score'].replace(scale_mapper)\n",
        "display(df_replaced)"
      ],
      "metadata": {
        "colab": {
          "base_uri": "https://localhost:8080/",
          "height": 380
        },
        "id": "jjn7wF1zWNi3",
        "outputId": "9f868ab4-01bb-42a4-a299-0093ba6d430a"
      },
      "execution_count": 4,
      "outputs": [
        {
          "output_type": "stream",
          "name": "stdout",
          "text": [
            "원본 DF\n"
          ]
        },
        {
          "output_type": "display_data",
          "data": {
            "text/plain": [
              "    score\n",
              "0     low\n",
              "1     low\n",
              "2  medium\n",
              "3  medium\n",
              "4    high"
            ],
            "text/html": [
              "\n",
              "  <div id=\"df-b6e42d1f-fc7e-4cb1-b7fa-cc5d2260d95e\">\n",
              "    <div class=\"colab-df-container\">\n",
              "      <div>\n",
              "<style scoped>\n",
              "    .dataframe tbody tr th:only-of-type {\n",
              "        vertical-align: middle;\n",
              "    }\n",
              "\n",
              "    .dataframe tbody tr th {\n",
              "        vertical-align: top;\n",
              "    }\n",
              "\n",
              "    .dataframe thead th {\n",
              "        text-align: right;\n",
              "    }\n",
              "</style>\n",
              "<table border=\"1\" class=\"dataframe\">\n",
              "  <thead>\n",
              "    <tr style=\"text-align: right;\">\n",
              "      <th></th>\n",
              "      <th>score</th>\n",
              "    </tr>\n",
              "  </thead>\n",
              "  <tbody>\n",
              "    <tr>\n",
              "      <th>0</th>\n",
              "      <td>low</td>\n",
              "    </tr>\n",
              "    <tr>\n",
              "      <th>1</th>\n",
              "      <td>low</td>\n",
              "    </tr>\n",
              "    <tr>\n",
              "      <th>2</th>\n",
              "      <td>medium</td>\n",
              "    </tr>\n",
              "    <tr>\n",
              "      <th>3</th>\n",
              "      <td>medium</td>\n",
              "    </tr>\n",
              "    <tr>\n",
              "      <th>4</th>\n",
              "      <td>high</td>\n",
              "    </tr>\n",
              "  </tbody>\n",
              "</table>\n",
              "</div>\n",
              "      <button class=\"colab-df-convert\" onclick=\"convertToInteractive('df-b6e42d1f-fc7e-4cb1-b7fa-cc5d2260d95e')\"\n",
              "              title=\"Convert this dataframe to an interactive table.\"\n",
              "              style=\"display:none;\">\n",
              "        \n",
              "  <svg xmlns=\"http://www.w3.org/2000/svg\" height=\"24px\"viewBox=\"0 0 24 24\"\n",
              "       width=\"24px\">\n",
              "    <path d=\"M0 0h24v24H0V0z\" fill=\"none\"/>\n",
              "    <path d=\"M18.56 5.44l.94 2.06.94-2.06 2.06-.94-2.06-.94-.94-2.06-.94 2.06-2.06.94zm-11 1L8.5 8.5l.94-2.06 2.06-.94-2.06-.94L8.5 2.5l-.94 2.06-2.06.94zm10 10l.94 2.06.94-2.06 2.06-.94-2.06-.94-.94-2.06-.94 2.06-2.06.94z\"/><path d=\"M17.41 7.96l-1.37-1.37c-.4-.4-.92-.59-1.43-.59-.52 0-1.04.2-1.43.59L10.3 9.45l-7.72 7.72c-.78.78-.78 2.05 0 2.83L4 21.41c.39.39.9.59 1.41.59.51 0 1.02-.2 1.41-.59l7.78-7.78 2.81-2.81c.8-.78.8-2.07 0-2.86zM5.41 20L4 18.59l7.72-7.72 1.47 1.35L5.41 20z\"/>\n",
              "  </svg>\n",
              "      </button>\n",
              "      \n",
              "  <style>\n",
              "    .colab-df-container {\n",
              "      display:flex;\n",
              "      flex-wrap:wrap;\n",
              "      gap: 12px;\n",
              "    }\n",
              "\n",
              "    .colab-df-convert {\n",
              "      background-color: #E8F0FE;\n",
              "      border: none;\n",
              "      border-radius: 50%;\n",
              "      cursor: pointer;\n",
              "      display: none;\n",
              "      fill: #1967D2;\n",
              "      height: 32px;\n",
              "      padding: 0 0 0 0;\n",
              "      width: 32px;\n",
              "    }\n",
              "\n",
              "    .colab-df-convert:hover {\n",
              "      background-color: #E2EBFA;\n",
              "      box-shadow: 0px 1px 2px rgba(60, 64, 67, 0.3), 0px 1px 3px 1px rgba(60, 64, 67, 0.15);\n",
              "      fill: #174EA6;\n",
              "    }\n",
              "\n",
              "    [theme=dark] .colab-df-convert {\n",
              "      background-color: #3B4455;\n",
              "      fill: #D2E3FC;\n",
              "    }\n",
              "\n",
              "    [theme=dark] .colab-df-convert:hover {\n",
              "      background-color: #434B5C;\n",
              "      box-shadow: 0px 1px 3px 1px rgba(0, 0, 0, 0.15);\n",
              "      filter: drop-shadow(0px 1px 2px rgba(0, 0, 0, 0.3));\n",
              "      fill: #FFFFFF;\n",
              "    }\n",
              "  </style>\n",
              "\n",
              "      <script>\n",
              "        const buttonEl =\n",
              "          document.querySelector('#df-b6e42d1f-fc7e-4cb1-b7fa-cc5d2260d95e button.colab-df-convert');\n",
              "        buttonEl.style.display =\n",
              "          google.colab.kernel.accessAllowed ? 'block' : 'none';\n",
              "\n",
              "        async function convertToInteractive(key) {\n",
              "          const element = document.querySelector('#df-b6e42d1f-fc7e-4cb1-b7fa-cc5d2260d95e');\n",
              "          const dataTable =\n",
              "            await google.colab.kernel.invokeFunction('convertToInteractive',\n",
              "                                                     [key], {});\n",
              "          if (!dataTable) return;\n",
              "\n",
              "          const docLinkHtml = 'Like what you see? Visit the ' +\n",
              "            '<a target=\"_blank\" href=https://colab.research.google.com/notebooks/data_table.ipynb>data table notebook</a>'\n",
              "            + ' to learn more about interactive tables.';\n",
              "          element.innerHTML = '';\n",
              "          dataTable['output_type'] = 'display_data';\n",
              "          await google.colab.output.renderOutput(dataTable, element);\n",
              "          const docLink = document.createElement('div');\n",
              "          docLink.innerHTML = docLinkHtml;\n",
              "          element.appendChild(docLink);\n",
              "        }\n",
              "      </script>\n",
              "    </div>\n",
              "  </div>\n",
              "  "
            ]
          },
          "metadata": {}
        },
        {
          "output_type": "stream",
          "name": "stdout",
          "text": [
            "\n",
            "\n",
            "replace 후 DF\n"
          ]
        },
        {
          "output_type": "display_data",
          "data": {
            "text/plain": [
              "0    1\n",
              "1    1\n",
              "2    2\n",
              "3    2\n",
              "4    3\n",
              "Name: score, dtype: int64"
            ]
          },
          "metadata": {}
        }
      ]
    },
    {
      "cell_type": "markdown",
      "source": [
        "사이킷런 **0.20** 버전에 범주형 데이터를 정수로 인코딩하는 `OrdinalEncoder`가 추가되었음\n",
        "\n",
        "`OrdinalEncoder`는 클래스 범주를 순서대로 변환함. 정수 데이터도 범주형으로 인식하여 변환함"
      ],
      "metadata": {
        "id": "IL-HJjeoXAu9"
      }
    },
    {
      "cell_type": "code",
      "source": [
        "from sklearn.preprocessing import OrdinalEncoder\n",
        "\n",
        "features = np.array( [ ['Low', 10],\n",
        "                       ['High', 50],\n",
        "                       ['Medium', 3] ] )\n",
        "\n",
        "ordinal_encoder = OrdinalEncoder()\n",
        "print('OrdinalEncoder fit transform 결과')\n",
        "print(ordinal_encoder.fit_transform(features))\n",
        "\n",
        "print('\\n\\ncategories_ 속성 확인')\n",
        "print(ordinal_encoder.categories_)"
      ],
      "metadata": {
        "colab": {
          "base_uri": "https://localhost:8080/"
        },
        "id": "n0yTQ4kFXSdv",
        "outputId": "545beb8a-86a3-46e6-fa78-1f87a05cc5cf"
      },
      "execution_count": 5,
      "outputs": [
        {
          "output_type": "stream",
          "name": "stdout",
          "text": [
            "OrdinalEncoder fit transform 결과\n",
            "[[1. 0.]\n",
            " [0. 2.]\n",
            " [2. 1.]]\n",
            "\n",
            "\n",
            "categories_ 속성 확인\n",
            "[array(['High', 'Low', 'Medium'], dtype='<U21'), array(['10', '3', '50'], dtype='<U21')]\n"
          ]
        }
      ]
    },
    {
      "cell_type": "markdown",
      "source": [
        "## 5.3 특성 딕셔너리를 인코딩하기"
      ],
      "metadata": {
        "id": "KQrLDGQWX_B6"
      }
    },
    {
      "cell_type": "code",
      "source": [
        "from sklearn.feature_extraction import DictVectorizer\n",
        "\n",
        "# 딕셔너리 생성\n",
        "data_dict = [{'red':2, 'blue':4},\n",
        "             {'red':4, 'blue':3},\n",
        "             {'red':1, 'yellow':2},\n",
        "             {'red':2, 'yellow':2}]\n",
        "            \n",
        "# DictVectorizer 객체 생성\n",
        "dv = DictVectorizer(sparse=False) # sparse=False: 밀집행렬 반환, True : 희소행렬 반환\n",
        "\n",
        "# 딕셔너리를 행렬로 변환\n",
        "features = dv.fit_transform(data_dict)\n",
        "\n",
        "print('밀집행렬 반환값')\n",
        "print(features)\n",
        "print('\\n밀집행렬 feature Name')\n",
        "print(dv.get_feature_names())\n",
        "\n",
        "\n",
        "# DictVectorizer 객체 생성\n",
        "dvt = DictVectorizer(sparse=True) # sparse=False: 밀집행렬 반환, True : 희소행렬 반환\n",
        "\n",
        "# 딕셔너리를 행렬로 변환\n",
        "features_t = dvt.fit_transform(data_dict)\n",
        "print('\\n\\n희소행렬 반환값')\n",
        "print(features_t)\n",
        "print('\\n희소행렬 feature Name')\n",
        "print(dvt.get_feature_names())"
      ],
      "metadata": {
        "colab": {
          "base_uri": "https://localhost:8080/"
        },
        "id": "_xXK3tFaYXuJ",
        "outputId": "41f4d8ad-befb-49de-81d7-02b64bebc39e"
      },
      "execution_count": 6,
      "outputs": [
        {
          "output_type": "stream",
          "name": "stdout",
          "text": [
            "밀집행렬 반환값\n",
            "[[4. 2. 0.]\n",
            " [3. 4. 0.]\n",
            " [0. 1. 2.]\n",
            " [0. 2. 2.]]\n",
            "\n",
            "밀집행렬 feature Name\n",
            "['blue', 'red', 'yellow']\n",
            "\n",
            "\n",
            "희소행렬 반환값\n",
            "  (0, 0)\t4.0\n",
            "  (0, 1)\t2.0\n",
            "  (1, 0)\t3.0\n",
            "  (1, 1)\t4.0\n",
            "  (2, 1)\t1.0\n",
            "  (2, 2)\t2.0\n",
            "  (3, 1)\t2.0\n",
            "  (3, 2)\t2.0\n",
            "\n",
            "희소행렬 feature Name\n",
            "['blue', 'red', 'yellow']\n"
          ]
        },
        {
          "output_type": "stream",
          "name": "stderr",
          "text": [
            "/usr/local/lib/python3.8/dist-packages/sklearn/utils/deprecation.py:87: FutureWarning: Function get_feature_names is deprecated; get_feature_names is deprecated in 1.0 and will be removed in 1.2. Please use get_feature_names_out instead.\n",
            "  warnings.warn(msg, category=FutureWarning)\n"
          ]
        }
      ]
    },
    {
      "cell_type": "markdown",
      "source": [
        "## 5.4 누락된 클래스 값 대체하기"
      ],
      "metadata": {
        "id": "9mhWNtiyZvLK"
      }
    },
    {
      "cell_type": "markdown",
      "source": [
        "이상적인 훈련은 알고리즘 훈련하여 누락된 값을 예측\n",
        "- KNN"
      ],
      "metadata": {
        "id": "1PcuJMMukHyb"
      }
    },
    {
      "cell_type": "code",
      "source": [
        "import numpy as np\n",
        "from sklearn.neighbors import KNeighborsClassifier\n",
        "\n",
        "# 범주형 특성을 가진 특성 행렬 생성\n",
        "x = np.array( [ [0, 2.10, 1.45],\n",
        "               [1, 1.18, 1.33],\n",
        "               [0, 1.22, 1.27],\n",
        "               [1, -0.21, -1.19],] )\n",
        "\n",
        "# 범주형 특성에 누락된 값이 있는 특성 행렬을 만들기\n",
        "x_with_nan = np.array([ [np.nan, 0.87, 1.31], [np.nan, -0.67, -0.22] ])\n",
        "\n",
        "# KNN 학습기 훈련\n",
        "knn = KNeighborsClassifier(n_neighbors=3, weights='distance') # uniform (ma) | distance (ewma)\n",
        "trained_model = knn.fit(x[:, 1:], x[:, 0])\n",
        "\n",
        "# 누락된 값의 클래스를 예측\n",
        "imputed_values = trained_model.predict(x_with_nan[:, 1:])\n",
        "\n",
        "print('imputed values')\n",
        "print(imputed_values)\n",
        "\n",
        "print('\\nreshape')\n",
        "print(imputed_values.reshape(-1, 1))\n",
        "\n",
        "# 예측값을 원본 특성과 합치기\n",
        "x_with_imputed = np.hstack((imputed_values.reshape(-1, 1), x_with_nan[:, 1:]))\n",
        "print('\\n\\n예측값 합친 결과 (hstack)')\n",
        "print(x_with_imputed)\n",
        "\n",
        "# 투 특성 행렬 합치기\n",
        "x_result = np.vstack( (x, x_with_imputed) )\n",
        "print('\\n\\n모두 합친 최종 결과')\n",
        "print(x_result)"
      ],
      "metadata": {
        "colab": {
          "base_uri": "https://localhost:8080/"
        },
        "id": "4svMYaX-kR5i",
        "outputId": "b66ccd30-834f-44e1-c9d6-f607ae34e3fe"
      },
      "execution_count": 7,
      "outputs": [
        {
          "output_type": "stream",
          "name": "stdout",
          "text": [
            "imputed values\n",
            "[0. 1.]\n",
            "\n",
            "reshape\n",
            "[[0.]\n",
            " [1.]]\n",
            "\n",
            "\n",
            "예측값 합친 결과 (hstack)\n",
            "[[ 0.    0.87  1.31]\n",
            " [ 1.   -0.67 -0.22]]\n",
            "\n",
            "\n",
            "모두 합친 최종 결과\n",
            "[[ 0.    2.1   1.45]\n",
            " [ 1.    1.18  1.33]\n",
            " [ 0.    1.22  1.27]\n",
            " [ 1.   -0.21 -1.19]\n",
            " [ 0.    0.87  1.31]\n",
            " [ 1.   -0.67 -0.22]]\n"
          ]
        }
      ]
    },
    {
      "cell_type": "markdown",
      "source": [
        "**위 결과를 KNNImputer**로 다시 한 번 해봐라\n",
        "\n",
        "\n",
        "아래는 `SimpleImputer`를 이용한 방"
      ],
      "metadata": {
        "id": "ZaZ_1E5xnSuW"
      }
    },
    {
      "cell_type": "code",
      "source": [
        "from sklearn.impute import SimpleImputer\n",
        "\n",
        "x_complete = np.vstack((x, x_with_nan))\n",
        "\n",
        "print('x complete')\n",
        "print(x_complete)\n",
        "\n",
        "imputer = SimpleImputer(strategy='most_frequent') # mean | median | most_frequent | constant\n",
        "x_comp_rslt = imputer.fit_transform(x_complete)\n",
        "print('\\n\\nSimpleImputer 결과')\n",
        "print(x_comp_rslt)"
      ],
      "metadata": {
        "colab": {
          "base_uri": "https://localhost:8080/"
        },
        "id": "xPREL4d_neQ7",
        "outputId": "cc76eef5-35e5-4be6-cbb1-db9778fcaf24"
      },
      "execution_count": 8,
      "outputs": [
        {
          "output_type": "stream",
          "name": "stdout",
          "text": [
            "x complete\n",
            "[[ 0.    2.1   1.45]\n",
            " [ 1.    1.18  1.33]\n",
            " [ 0.    1.22  1.27]\n",
            " [ 1.   -0.21 -1.19]\n",
            " [  nan  0.87  1.31]\n",
            " [  nan -0.67 -0.22]]\n",
            "\n",
            "\n",
            "SimpleImputer 결과\n",
            "[[ 0.    2.1   1.45]\n",
            " [ 1.    1.18  1.33]\n",
            " [ 0.    1.22  1.27]\n",
            " [ 1.   -0.21 -1.19]\n",
            " [ 0.    0.87  1.31]\n",
            " [ 0.   -0.67 -0.22]]\n"
          ]
        }
      ]
    },
    {
      "cell_type": "markdown",
      "source": [
        "## 5.5 불균형한 클래스 다루기"
      ],
      "metadata": {
        "id": "dIfHKHySpKd0"
      }
    },
    {
      "cell_type": "code",
      "source": [
        "import numpy as np\n",
        "from sklearn.ensemble import RandomForestClassifier\n",
        "from sklearn.datasets import load_iris\n",
        "\n",
        "iris = load_iris()\n",
        "\n",
        "features = iris.data\n",
        "print('shape:', features.shape)\n",
        "print(features[:5])\n",
        "\n",
        "# 타겟 벡터 생성\n",
        "target = iris.target\n",
        "print('\\n\\ntarget shape:', target.shape)\n",
        "print(target[:5])\n",
        "\n",
        "# 처음 40개 샘플 삭제\n",
        "features = features[40:, :]\n",
        "target = target[40:]\n",
        "\n",
        "print('\\n\\n처음 40개 샘플 삭제 데이터')\n",
        "print('target shape:', target.shape)\n",
        "print(target)\n",
        "# 클래스 0을 음성 클래스로 하는 이진 타겟 벡터 생성\n",
        "target = np.where((target == 0), 0, 1) # condition 이 true면 0, 아니면 1\n",
        "print(target)"
      ],
      "metadata": {
        "id": "-vWVn0oYqoHT",
        "colab": {
          "base_uri": "https://localhost:8080/"
        },
        "outputId": "d2e87520-740e-4963-c32b-8556e96b9c3b"
      },
      "execution_count": 17,
      "outputs": [
        {
          "output_type": "stream",
          "name": "stdout",
          "text": [
            "shape: (150, 4)\n",
            "[[5.1 3.5 1.4 0.2]\n",
            " [4.9 3.  1.4 0.2]\n",
            " [4.7 3.2 1.3 0.2]\n",
            " [4.6 3.1 1.5 0.2]\n",
            " [5.  3.6 1.4 0.2]]\n",
            "\n",
            "\n",
            "target shape: (150,)\n",
            "[0 0 0 0 0]\n",
            "\n",
            "\n",
            "처음 40개 샘플 삭제 데이터\n",
            "target shape: (110,)\n",
            "[0 0 0 0 0 0 0 0 0 0 1 1 1 1 1 1 1 1 1 1 1 1 1 1 1 1 1 1 1 1 1 1 1 1 1 1 1\n",
            " 1 1 1 1 1 1 1 1 1 1 1 1 1 1 1 1 1 1 1 1 1 1 1 2 2 2 2 2 2 2 2 2 2 2 2 2 2\n",
            " 2 2 2 2 2 2 2 2 2 2 2 2 2 2 2 2 2 2 2 2 2 2 2 2 2 2 2 2 2 2 2 2 2 2 2 2]\n",
            "[0 0 0 0 0 0 0 0 0 0 1 1 1 1 1 1 1 1 1 1 1 1 1 1 1 1 1 1 1 1 1 1 1 1 1 1 1\n",
            " 1 1 1 1 1 1 1 1 1 1 1 1 1 1 1 1 1 1 1 1 1 1 1 1 1 1 1 1 1 1 1 1 1 1 1 1 1\n",
            " 1 1 1 1 1 1 1 1 1 1 1 1 1 1 1 1 1 1 1 1 1 1 1 1 1 1 1 1 1 1 1 1 1 1 1 1]\n"
          ]
        }
      ]
    },
    {
      "cell_type": "code",
      "source": [
        "# 가중치 생성\n",
        "weights = {0 : 0.9, 1 : 0.1}\n",
        "\n",
        "# 가중치를 부여한 랜덤 포레스트 분류기를 만듭니다.\n",
        "RandomForestClassifier(class_weight=weights) "
      ],
      "metadata": {
        "colab": {
          "base_uri": "https://localhost:8080/"
        },
        "id": "cLJe03DOdmzI",
        "outputId": "f808730a-43f6-48dc-de2d-984c55406d2a"
      },
      "execution_count": 18,
      "outputs": [
        {
          "output_type": "execute_result",
          "data": {
            "text/plain": [
              "RandomForestClassifier(class_weight={0: 0.9, 1: 0.1})"
            ]
          },
          "metadata": {},
          "execution_count": 18
        }
      ]
    }
  ]
}