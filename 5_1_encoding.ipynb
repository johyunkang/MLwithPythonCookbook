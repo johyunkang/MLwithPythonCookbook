{
  "nbformat": 4,
  "nbformat_minor": 0,
  "metadata": {
    "colab": {
      "provenance": [],
      "authorship_tag": "ABX9TyOLgRw0bX6T2AUMlc/TbDBG",
      "include_colab_link": true
    },
    "kernelspec": {
      "name": "python3",
      "display_name": "Python 3"
    },
    "language_info": {
      "name": "python"
    }
  },
  "cells": [
    {
      "cell_type": "markdown",
      "metadata": {
        "id": "view-in-github",
        "colab_type": "text"
      },
      "source": [
        "<a href=\"https://colab.research.google.com/github/johyunkang/MLwithPythonCookbook/blob/main/5_1_encoding.ipynb\" target=\"_parent\"><img src=\"https://colab.research.google.com/assets/colab-badge.svg\" alt=\"Open In Colab\"/></a>"
      ]
    },
    {
      "cell_type": "markdown",
      "source": [
        "## 5.1 순서가 없는 범주형 특성 인코딩하기 "
      ],
      "metadata": {
        "id": "NO_Spb6XE_Se"
      }
    },
    {
      "cell_type": "markdown",
      "source": [
        "`LabelBinarizer`는 문자열 타깃 데이터를 원-핫 인코딩으로 변환할 때 사용\n",
        "\n",
        "`LabelEncoder`는 문자열 타깃 데이터를 정수 레이블로 변환\n",
        "\n",
        "특성 배열을 **원-핫 인코딩** 할 때는 `OneHotEncoder`를 사용하는게 좋음\n",
        "\n",
        "`OneHotEncoder`는 기본적으로 **희소배열**을 반환. `sparse=False`로 지정 시 밀집배열을 얻을 수 있음"
      ],
      "metadata": {
        "id": "qAHkurzaHwIm"
      }
    },
    {
      "cell_type": "code",
      "execution_count": 8,
      "metadata": {
        "colab": {
          "base_uri": "https://localhost:8080/",
          "height": 405
        },
        "id": "DX_IF5QqE7wP",
        "outputId": "bcfb8b38-61d9-4bd4-c0c2-557001ce4f05"
      },
      "outputs": [
        {
          "output_type": "stream",
          "name": "stdout",
          "text": [
            "인코딩 결과:\n",
            " [[0 0 1]\n",
            " [1 0 0]\n",
            " [0 0 1]\n",
            " [0 1 0]\n",
            " [0 0 1]]\n",
            "인코딩 결과 확인: ['california' 'delaware' 'texas']\n",
            "\n",
            "\n",
            "디코딩 결과:\n",
            " ['texas' 'california' 'texas' 'delaware' 'texas']\n"
          ]
        },
        {
          "output_type": "execute_result",
          "data": {
            "text/plain": [
              "   california  delaware  texas\n",
              "0           0         0      1\n",
              "1           1         0      0\n",
              "2           0         0      1\n",
              "3           0         1      0\n",
              "4           0         0      1"
            ],
            "text/html": [
              "\n",
              "  <div id=\"df-c5b5128f-2ce3-43a5-8fd1-c54ef1020b21\">\n",
              "    <div class=\"colab-df-container\">\n",
              "      <div>\n",
              "<style scoped>\n",
              "    .dataframe tbody tr th:only-of-type {\n",
              "        vertical-align: middle;\n",
              "    }\n",
              "\n",
              "    .dataframe tbody tr th {\n",
              "        vertical-align: top;\n",
              "    }\n",
              "\n",
              "    .dataframe thead th {\n",
              "        text-align: right;\n",
              "    }\n",
              "</style>\n",
              "<table border=\"1\" class=\"dataframe\">\n",
              "  <thead>\n",
              "    <tr style=\"text-align: right;\">\n",
              "      <th></th>\n",
              "      <th>california</th>\n",
              "      <th>delaware</th>\n",
              "      <th>texas</th>\n",
              "    </tr>\n",
              "  </thead>\n",
              "  <tbody>\n",
              "    <tr>\n",
              "      <th>0</th>\n",
              "      <td>0</td>\n",
              "      <td>0</td>\n",
              "      <td>1</td>\n",
              "    </tr>\n",
              "    <tr>\n",
              "      <th>1</th>\n",
              "      <td>1</td>\n",
              "      <td>0</td>\n",
              "      <td>0</td>\n",
              "    </tr>\n",
              "    <tr>\n",
              "      <th>2</th>\n",
              "      <td>0</td>\n",
              "      <td>0</td>\n",
              "      <td>1</td>\n",
              "    </tr>\n",
              "    <tr>\n",
              "      <th>3</th>\n",
              "      <td>0</td>\n",
              "      <td>1</td>\n",
              "      <td>0</td>\n",
              "    </tr>\n",
              "    <tr>\n",
              "      <th>4</th>\n",
              "      <td>0</td>\n",
              "      <td>0</td>\n",
              "      <td>1</td>\n",
              "    </tr>\n",
              "  </tbody>\n",
              "</table>\n",
              "</div>\n",
              "      <button class=\"colab-df-convert\" onclick=\"convertToInteractive('df-c5b5128f-2ce3-43a5-8fd1-c54ef1020b21')\"\n",
              "              title=\"Convert this dataframe to an interactive table.\"\n",
              "              style=\"display:none;\">\n",
              "        \n",
              "  <svg xmlns=\"http://www.w3.org/2000/svg\" height=\"24px\"viewBox=\"0 0 24 24\"\n",
              "       width=\"24px\">\n",
              "    <path d=\"M0 0h24v24H0V0z\" fill=\"none\"/>\n",
              "    <path d=\"M18.56 5.44l.94 2.06.94-2.06 2.06-.94-2.06-.94-.94-2.06-.94 2.06-2.06.94zm-11 1L8.5 8.5l.94-2.06 2.06-.94-2.06-.94L8.5 2.5l-.94 2.06-2.06.94zm10 10l.94 2.06.94-2.06 2.06-.94-2.06-.94-.94-2.06-.94 2.06-2.06.94z\"/><path d=\"M17.41 7.96l-1.37-1.37c-.4-.4-.92-.59-1.43-.59-.52 0-1.04.2-1.43.59L10.3 9.45l-7.72 7.72c-.78.78-.78 2.05 0 2.83L4 21.41c.39.39.9.59 1.41.59.51 0 1.02-.2 1.41-.59l7.78-7.78 2.81-2.81c.8-.78.8-2.07 0-2.86zM5.41 20L4 18.59l7.72-7.72 1.47 1.35L5.41 20z\"/>\n",
              "  </svg>\n",
              "      </button>\n",
              "      \n",
              "  <style>\n",
              "    .colab-df-container {\n",
              "      display:flex;\n",
              "      flex-wrap:wrap;\n",
              "      gap: 12px;\n",
              "    }\n",
              "\n",
              "    .colab-df-convert {\n",
              "      background-color: #E8F0FE;\n",
              "      border: none;\n",
              "      border-radius: 50%;\n",
              "      cursor: pointer;\n",
              "      display: none;\n",
              "      fill: #1967D2;\n",
              "      height: 32px;\n",
              "      padding: 0 0 0 0;\n",
              "      width: 32px;\n",
              "    }\n",
              "\n",
              "    .colab-df-convert:hover {\n",
              "      background-color: #E2EBFA;\n",
              "      box-shadow: 0px 1px 2px rgba(60, 64, 67, 0.3), 0px 1px 3px 1px rgba(60, 64, 67, 0.15);\n",
              "      fill: #174EA6;\n",
              "    }\n",
              "\n",
              "    [theme=dark] .colab-df-convert {\n",
              "      background-color: #3B4455;\n",
              "      fill: #D2E3FC;\n",
              "    }\n",
              "\n",
              "    [theme=dark] .colab-df-convert:hover {\n",
              "      background-color: #434B5C;\n",
              "      box-shadow: 0px 1px 3px 1px rgba(0, 0, 0, 0.15);\n",
              "      filter: drop-shadow(0px 1px 2px rgba(0, 0, 0, 0.3));\n",
              "      fill: #FFFFFF;\n",
              "    }\n",
              "  </style>\n",
              "\n",
              "      <script>\n",
              "        const buttonEl =\n",
              "          document.querySelector('#df-c5b5128f-2ce3-43a5-8fd1-c54ef1020b21 button.colab-df-convert');\n",
              "        buttonEl.style.display =\n",
              "          google.colab.kernel.accessAllowed ? 'block' : 'none';\n",
              "\n",
              "        async function convertToInteractive(key) {\n",
              "          const element = document.querySelector('#df-c5b5128f-2ce3-43a5-8fd1-c54ef1020b21');\n",
              "          const dataTable =\n",
              "            await google.colab.kernel.invokeFunction('convertToInteractive',\n",
              "                                                     [key], {});\n",
              "          if (!dataTable) return;\n",
              "\n",
              "          const docLinkHtml = 'Like what you see? Visit the ' +\n",
              "            '<a target=\"_blank\" href=https://colab.research.google.com/notebooks/data_table.ipynb>data table notebook</a>'\n",
              "            + ' to learn more about interactive tables.';\n",
              "          element.innerHTML = '';\n",
              "          dataTable['output_type'] = 'display_data';\n",
              "          await google.colab.output.renderOutput(dataTable, element);\n",
              "          const docLink = document.createElement('div');\n",
              "          docLink.innerHTML = docLinkHtml;\n",
              "          element.appendChild(docLink);\n",
              "        }\n",
              "      </script>\n",
              "    </div>\n",
              "  </div>\n",
              "  "
            ]
          },
          "metadata": {},
          "execution_count": 8
        }
      ],
      "source": [
        "import pandas as pd\n",
        "import numpy as np\n",
        "from sklearn.preprocessing import LabelBinarizer, MultiLabelBinarizer\n",
        "\n",
        "feature = np.array([[\"texas\"], [\"california\"], [\"texas\"], [\"delaware\"], [\"texas\"]])\n",
        "\n",
        "# 원핫 인코더\n",
        "one_hot = LabelBinarizer()\n",
        "\n",
        "# 특성 인코딩\n",
        "encoding_result = one_hot.fit_transform(feature)\n",
        "print('인코딩 결과:\\n', encoding_result)\n",
        "\n",
        "print('인코딩 결과 확인:', one_hot.classes_)\n",
        "\n",
        "# help(one_hot)\n",
        "# 인코딩 결과 디코딩\n",
        "decoding_result = one_hot.inverse_transform(one_hot.transform(feature))\n",
        "print('\\n\\n디코딩 결과:\\n', decoding_result)\n",
        "\n",
        "# 더미를 이용한 인코딩\n",
        "display(pd.get_dummies(feature[:, 0]))"
      ]
    },
    {
      "cell_type": "code",
      "source": [
        "\n",
        "# 다중 클래스 특성\n",
        "multi_feature = [(\"texas\", \"florida\"), (\"california\", \"alabama\"),\n",
        "                 (\"texas\", \"florida\"), (\"delware\", \"florida\"),\n",
        "                 (\"texas\", \"alabama\")]\n",
        "# 다중 원핫 인코더\n",
        "one_hot_multi = MultiLabelBinarizer()\n",
        "\n",
        "multi_encod_result = one_hot_multi.fit_transform(multi_feature)\n",
        "print('다중 멀티 인코딩 결과:\\n', multi_encod_result)\n",
        "\n",
        "print('\\n\\n클래스 확인:', one_hot_multi.classes_)"
      ],
      "metadata": {
        "colab": {
          "base_uri": "https://localhost:8080/"
        },
        "id": "28xS6YcNHNxh",
        "outputId": "ef727424-c6bd-4336-9ab5-d0a1c1832181"
      },
      "execution_count": 11,
      "outputs": [
        {
          "output_type": "stream",
          "name": "stdout",
          "text": [
            "다중 멀티 인코딩 결과:\n",
            " [[0 0 0 1 1]\n",
            " [1 1 0 0 0]\n",
            " [0 0 0 1 1]\n",
            " [0 0 1 1 0]\n",
            " [1 0 0 0 1]]\n",
            "클래스 확인: ['alabama' 'california' 'delware' 'florida' 'texas']\n"
          ]
        }
      ]
    },
    {
      "cell_type": "code",
      "source": [
        "from sklearn.preprocessing import OneHotEncoder\n",
        "\n",
        "# 여러 개의 열이 있는 특성 배열\n",
        "feature = np.array( [ [\"texas\", 1],\n",
        "                      [\"california\", 1],\n",
        "                      [\"texas\", 3],\n",
        "                      [\"delaware\", 1],\n",
        "                      [\"texas\", 1] ] )\n",
        "one_hot_enc = OneHotEncoder(sparse=False) # sparse=False : 밀집배열 리턴, True: 희소배열 리턴\n",
        "print(\"One-Hot encoing 결과:\")\n",
        "print(one_hot_enc.fit_transform(feature))\n",
        "\n",
        "# 카테고리 확인\n",
        "print('\\n카테고리 확인:', one_hot_enc.categories_)"
      ],
      "metadata": {
        "colab": {
          "base_uri": "https://localhost:8080/"
        },
        "id": "skOlBE0cIcfG",
        "outputId": "09873109-e6e3-4a4e-aa82-14b87cf41bbf"
      },
      "execution_count": 13,
      "outputs": [
        {
          "output_type": "stream",
          "name": "stdout",
          "text": [
            "One-Hot encoing 결과:\n",
            "[[0. 0. 1. 1. 0.]\n",
            " [1. 0. 0. 1. 0.]\n",
            " [0. 0. 1. 0. 1.]\n",
            " [0. 1. 0. 1. 0.]\n",
            " [0. 0. 1. 1. 0.]]\n",
            "카테고리 확인: [array(['california', 'delaware', 'texas'], dtype='<U21'), array(['1', '3'], dtype='<U21')]\n"
          ]
        }
      ]
    },
    {
      "cell_type": "markdown",
      "source": [
        "## 5.2 순서가 있는 범주형 특성 인코딩하기\n",
        "p.152"
      ],
      "metadata": {
        "id": "lk_ONu-WJvCk"
      }
    }
  ]
}