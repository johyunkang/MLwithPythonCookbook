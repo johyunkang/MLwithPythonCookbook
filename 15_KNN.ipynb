{
  "nbformat": 4,
  "nbformat_minor": 0,
  "metadata": {
    "colab": {
      "provenance": [],
      "authorship_tag": "ABX9TyNzl+18/gvP+hgkIHNJSw5n",
      "include_colab_link": true
    },
    "kernelspec": {
      "name": "python3",
      "display_name": "Python 3"
    },
    "language_info": {
      "name": "python"
    }
  },
  "cells": [
    {
      "cell_type": "markdown",
      "metadata": {
        "id": "view-in-github",
        "colab_type": "text"
      },
      "source": [
        "<a href=\"https://colab.research.google.com/github/johyunkang/MLwithPythonCookbook/blob/main/15_KNN.ipynb\" target=\"_parent\"><img src=\"https://colab.research.google.com/assets/colab-badge.svg\" alt=\"Open In Colab\"/></a>"
      ]
    },
    {
      "cell_type": "markdown",
      "source": [
        "# Chapter 15 KNN"
      ],
      "metadata": {
        "id": "jtrusX6zT0aU"
      }
    },
    {
      "cell_type": "markdown",
      "source": [
        "## 15.1 샘플의 최근접 이웃 찾기\n",
        "\n",
        "과제 : 샘플에서 가장 가까운 k개의 샘플(이웃)을 찾아야 함\n",
        "\n",
        "해결 : 사이킷런의 NearestNeighbors를 사용"
      ],
      "metadata": {
        "id": "1zsYpHjqPKyx"
      }
    },
    {
      "cell_type": "code",
      "execution_count": 1,
      "metadata": {
        "id": "BQ7iU4b0TyTV"
      },
      "outputs": [],
      "source": [
        "from sklearn.datasets import load_iris\n",
        "from sklearn.neighbors import NearestNeighbors\n",
        "from sklearn.preprocessing import StandardScaler\n",
        "\n",
        "iris = load_iris()\n",
        "x = iris.data\n",
        "y = iris.target\n",
        "\n",
        "standard = StandardScaler()\n",
        "x_scaled = standard.fit_transform(x)"
      ]
    },
    {
      "cell_type": "code",
      "source": [
        "import pandas as pd\n",
        "df = pd.DataFrame(x, columns=iris.feature_names)\n",
        "display(df.head(3))"
      ],
      "metadata": {
        "colab": {
          "base_uri": "https://localhost:8080/",
          "height": 143
        },
        "id": "98ZfnHI6QpfE",
        "outputId": "86ee13c9-e0f9-4e2a-9102-b4853a4bed95"
      },
      "execution_count": 2,
      "outputs": [
        {
          "output_type": "display_data",
          "data": {
            "text/plain": [
              "   sepal length (cm)  sepal width (cm)  petal length (cm)  petal width (cm)\n",
              "0                5.1               3.5                1.4               0.2\n",
              "1                4.9               3.0                1.4               0.2\n",
              "2                4.7               3.2                1.3               0.2"
            ],
            "text/html": [
              "\n",
              "  <div id=\"df-4d106531-5999-47dc-9451-299644f2746b\">\n",
              "    <div class=\"colab-df-container\">\n",
              "      <div>\n",
              "<style scoped>\n",
              "    .dataframe tbody tr th:only-of-type {\n",
              "        vertical-align: middle;\n",
              "    }\n",
              "\n",
              "    .dataframe tbody tr th {\n",
              "        vertical-align: top;\n",
              "    }\n",
              "\n",
              "    .dataframe thead th {\n",
              "        text-align: right;\n",
              "    }\n",
              "</style>\n",
              "<table border=\"1\" class=\"dataframe\">\n",
              "  <thead>\n",
              "    <tr style=\"text-align: right;\">\n",
              "      <th></th>\n",
              "      <th>sepal length (cm)</th>\n",
              "      <th>sepal width (cm)</th>\n",
              "      <th>petal length (cm)</th>\n",
              "      <th>petal width (cm)</th>\n",
              "    </tr>\n",
              "  </thead>\n",
              "  <tbody>\n",
              "    <tr>\n",
              "      <th>0</th>\n",
              "      <td>5.1</td>\n",
              "      <td>3.5</td>\n",
              "      <td>1.4</td>\n",
              "      <td>0.2</td>\n",
              "    </tr>\n",
              "    <tr>\n",
              "      <th>1</th>\n",
              "      <td>4.9</td>\n",
              "      <td>3.0</td>\n",
              "      <td>1.4</td>\n",
              "      <td>0.2</td>\n",
              "    </tr>\n",
              "    <tr>\n",
              "      <th>2</th>\n",
              "      <td>4.7</td>\n",
              "      <td>3.2</td>\n",
              "      <td>1.3</td>\n",
              "      <td>0.2</td>\n",
              "    </tr>\n",
              "  </tbody>\n",
              "</table>\n",
              "</div>\n",
              "      <button class=\"colab-df-convert\" onclick=\"convertToInteractive('df-4d106531-5999-47dc-9451-299644f2746b')\"\n",
              "              title=\"Convert this dataframe to an interactive table.\"\n",
              "              style=\"display:none;\">\n",
              "        \n",
              "  <svg xmlns=\"http://www.w3.org/2000/svg\" height=\"24px\"viewBox=\"0 0 24 24\"\n",
              "       width=\"24px\">\n",
              "    <path d=\"M0 0h24v24H0V0z\" fill=\"none\"/>\n",
              "    <path d=\"M18.56 5.44l.94 2.06.94-2.06 2.06-.94-2.06-.94-.94-2.06-.94 2.06-2.06.94zm-11 1L8.5 8.5l.94-2.06 2.06-.94-2.06-.94L8.5 2.5l-.94 2.06-2.06.94zm10 10l.94 2.06.94-2.06 2.06-.94-2.06-.94-.94-2.06-.94 2.06-2.06.94z\"/><path d=\"M17.41 7.96l-1.37-1.37c-.4-.4-.92-.59-1.43-.59-.52 0-1.04.2-1.43.59L10.3 9.45l-7.72 7.72c-.78.78-.78 2.05 0 2.83L4 21.41c.39.39.9.59 1.41.59.51 0 1.02-.2 1.41-.59l7.78-7.78 2.81-2.81c.8-.78.8-2.07 0-2.86zM5.41 20L4 18.59l7.72-7.72 1.47 1.35L5.41 20z\"/>\n",
              "  </svg>\n",
              "      </button>\n",
              "      \n",
              "  <style>\n",
              "    .colab-df-container {\n",
              "      display:flex;\n",
              "      flex-wrap:wrap;\n",
              "      gap: 12px;\n",
              "    }\n",
              "\n",
              "    .colab-df-convert {\n",
              "      background-color: #E8F0FE;\n",
              "      border: none;\n",
              "      border-radius: 50%;\n",
              "      cursor: pointer;\n",
              "      display: none;\n",
              "      fill: #1967D2;\n",
              "      height: 32px;\n",
              "      padding: 0 0 0 0;\n",
              "      width: 32px;\n",
              "    }\n",
              "\n",
              "    .colab-df-convert:hover {\n",
              "      background-color: #E2EBFA;\n",
              "      box-shadow: 0px 1px 2px rgba(60, 64, 67, 0.3), 0px 1px 3px 1px rgba(60, 64, 67, 0.15);\n",
              "      fill: #174EA6;\n",
              "    }\n",
              "\n",
              "    [theme=dark] .colab-df-convert {\n",
              "      background-color: #3B4455;\n",
              "      fill: #D2E3FC;\n",
              "    }\n",
              "\n",
              "    [theme=dark] .colab-df-convert:hover {\n",
              "      background-color: #434B5C;\n",
              "      box-shadow: 0px 1px 3px 1px rgba(0, 0, 0, 0.15);\n",
              "      filter: drop-shadow(0px 1px 2px rgba(0, 0, 0, 0.3));\n",
              "      fill: #FFFFFF;\n",
              "    }\n",
              "  </style>\n",
              "\n",
              "      <script>\n",
              "        const buttonEl =\n",
              "          document.querySelector('#df-4d106531-5999-47dc-9451-299644f2746b button.colab-df-convert');\n",
              "        buttonEl.style.display =\n",
              "          google.colab.kernel.accessAllowed ? 'block' : 'none';\n",
              "\n",
              "        async function convertToInteractive(key) {\n",
              "          const element = document.querySelector('#df-4d106531-5999-47dc-9451-299644f2746b');\n",
              "          const dataTable =\n",
              "            await google.colab.kernel.invokeFunction('convertToInteractive',\n",
              "                                                     [key], {});\n",
              "          if (!dataTable) return;\n",
              "\n",
              "          const docLinkHtml = 'Like what you see? Visit the ' +\n",
              "            '<a target=\"_blank\" href=https://colab.research.google.com/notebooks/data_table.ipynb>data table notebook</a>'\n",
              "            + ' to learn more about interactive tables.';\n",
              "          element.innerHTML = '';\n",
              "          dataTable['output_type'] = 'display_data';\n",
              "          await google.colab.output.renderOutput(dataTable, element);\n",
              "          const docLink = document.createElement('div');\n",
              "          docLink.innerHTML = docLinkHtml;\n",
              "          element.appendChild(docLink);\n",
              "        }\n",
              "      </script>\n",
              "    </div>\n",
              "  </div>\n",
              "  "
            ]
          },
          "metadata": {}
        }
      ]
    },
    {
      "cell_type": "code",
      "source": [
        "# k=2 최근접 이웃 모델 생성\n",
        "nn = NearestNeighbors(n_neighbors=2, metric='euclidean').fit(x_scaled)\n",
        "\n",
        "# 새로운 샘플 생성\n",
        "new_observation = [1, 1, 1, 1]\n",
        "\n",
        "distance, index = nn.kneighbors([new_observation])\n",
        "print('distince :', distance)\n",
        "print('indeices :', index)\n",
        "\n",
        "# 최근접 이웃 확인\n",
        "print('\\n최근접 이웃:', x_scaled[index])"
      ],
      "metadata": {
        "colab": {
          "base_uri": "https://localhost:8080/"
        },
        "id": "8WJPp_rbSPcQ",
        "outputId": "7216d1ff-fdb6-41a1-9381-d3fc059e0981"
      },
      "execution_count": 3,
      "outputs": [
        {
          "output_type": "stream",
          "name": "stdout",
          "text": [
            "distince : [[0.49140089 0.74294782]]\n",
            "indeices : [[124 110]]\n",
            "\n",
            "최근접 이웃: [[[1.03800476 0.55861082 1.10378283 1.18556721]\n",
            "  [0.79566902 0.32841405 0.76275827 1.05393502]]]\n"
          ]
        }
      ]
    },
    {
      "cell_type": "markdown",
      "source": [
        "`distance` 변수는 가장 가까운 두 개의 이웃까지 실제 거릿값이 들어 있음"
      ],
      "metadata": {
        "id": "oajzcBSaUYMh"
      }
    },
    {
      "cell_type": "markdown",
      "source": [
        "위 `new_observation`에 가장 가까운 두 개의 샘플은, 가장 가까운 두 개의 꽃임\n",
        "\n",
        "거리는 어떻게 측정할까?\n",
        "\n",
        "1. 맨해튼 거리 (manhattan distance)\n",
        "\n",
        "> $d_{ manhattan} = \\displaystyle \\sum_{i=1}^n \\left| x_i - y_i \\right|$\n",
        "\n",
        "\n",
        "\n",
        "2. 유클리드 거리 (Euclidean)\n",
        "\n",
        "> $d_{ euclidean} = \\sqrt{ \\displaystyle \\sum_{i=1}^n \\left( x_i - y_i \\right)^2 }$\n",
        "\n",
        "\n",
        "`NearestNeighbors` 의 기본값은 민코프스키 거리임\n",
        "\n",
        "$d_{minkowski} = \\left( \\displaystyle \\sum_{i=1}^n | x_i - y_i |^p \\right)^{1/p}$\n",
        "\n",
        "민코프스키 거리에는 하이퍼파라미터 `p`가 있음\n",
        "- p=1 : 맨해튼 거리\n",
        "- p=2 : 유클리드 거리 (default)"
      ],
      "metadata": {
        "id": "B7R4jDH2SIc7"
      }
    },
    {
      "cell_type": "markdown",
      "source": [
        "`kneighbors_graph` 메서드를 이용하여 샘플의 최근접 이웃을 나타내는 행렬을 만들수도 있"
      ],
      "metadata": {
        "id": "RTV_Lra13KQG"
      }
    },
    {
      "cell_type": "code",
      "source": [
        "knn_euclidean = NearestNeighbors(n_neighbors=3, metric='euclidean').fit(x_scaled)\n",
        "\n",
        "knn_with_self = knn_euclidean.kneighbors_graph(x_scaled).toarray()\n",
        "\n",
        "# 최근접 이웃 중에서 1로 표시된 자기 자신을 제외\n",
        "for i, x in enumerate(knn_with_self) :\n",
        "    x[i] = 0\n",
        "\n",
        "# 첫 번째 샘플에 대한 두 개의 최근접 이웃을 확인합니다.\n",
        "knn_with_self[0]"
      ],
      "metadata": {
        "id": "ALg9wgaiUhe3",
        "colab": {
          "base_uri": "https://localhost:8080/"
        },
        "outputId": "c8d6dd1c-7156-40a6-bd9e-ed33b739e5c5"
      },
      "execution_count": 5,
      "outputs": [
        {
          "output_type": "execute_result",
          "data": {
            "text/plain": [
              "array([0., 0., 0., 0., 0., 0., 0., 0., 0., 0., 0., 0., 0., 0., 0., 0., 0.,\n",
              "       1., 0., 0., 0., 0., 0., 0., 0., 0., 0., 1., 0., 0., 0., 0., 0., 0.,\n",
              "       0., 0., 0., 0., 0., 0., 0., 0., 0., 0., 0., 0., 0., 0., 0., 0., 0.,\n",
              "       0., 0., 0., 0., 0., 0., 0., 0., 0., 0., 0., 0., 0., 0., 0., 0., 0.,\n",
              "       0., 0., 0., 0., 0., 0., 0., 0., 0., 0., 0., 0., 0., 0., 0., 0., 0.,\n",
              "       0., 0., 0., 0., 0., 0., 0., 0., 0., 0., 0., 0., 0., 0., 0., 0., 0.,\n",
              "       0., 0., 0., 0., 0., 0., 0., 0., 0., 0., 0., 0., 0., 0., 0., 0., 0.,\n",
              "       0., 0., 0., 0., 0., 0., 0., 0., 0., 0., 0., 0., 0., 0., 0., 0., 0.,\n",
              "       0., 0., 0., 0., 0., 0., 0., 0., 0., 0., 0., 0., 0., 0.])"
            ]
          },
          "metadata": {},
          "execution_count": 5
        }
      ]
    },
    {
      "cell_type": "markdown",
      "source": [
        "`kneighbors` 메서드에서 `n_neighbors` 매개변수를 다르게 지정할 수 있습니다. `return_distance`를 `False`로 지정하면 최근접 이웃의 인덱스만 반환합니다."
      ],
      "metadata": {
        "id": "YsQw60jk9w-i"
      }
    },
    {
      "cell_type": "code",
      "source": [
        "# 이 샘플과 가장 가까운 이웃의 다섯 개의 인덱스를 찾습니다.\n",
        "indices = nn.kneighbors([new_observation], n_neighbors=5, return_distance=False)\n",
        "\n",
        "# 최근접 이웃 확인\n",
        "x_scaled[indices]"
      ],
      "metadata": {
        "colab": {
          "base_uri": "https://localhost:8080/"
        },
        "id": "CFZ3INnR-BxZ",
        "outputId": "f2785a13-6124-4608-d981-2cf8eee4e828"
      },
      "execution_count": 6,
      "outputs": [
        {
          "output_type": "execute_result",
          "data": {
            "text/plain": [
              "array([[[1.03800476, 0.55861082, 1.10378283, 1.18556721],\n",
              "        [0.79566902, 0.32841405, 0.76275827, 1.05393502],\n",
              "        [0.4321654 , 0.78880759, 0.93327055, 1.44883158],\n",
              "        [0.55333328, 0.78880759, 1.0469454 , 1.58046376],\n",
              "        [1.03800476, 0.55861082, 1.10378283, 1.71209594]]])"
            ]
          },
          "metadata": {},
          "execution_count": 6
        }
      ]
    },
    {
      "cell_type": "code",
      "source": [
        "# p.381"
      ],
      "metadata": {
        "id": "DbQlsP_s-xjM"
      },
      "execution_count": null,
      "outputs": []
    }
  ]
}