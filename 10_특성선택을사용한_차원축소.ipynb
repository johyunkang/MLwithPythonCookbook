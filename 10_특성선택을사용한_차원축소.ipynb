{
  "nbformat": 4,
  "nbformat_minor": 0,
  "metadata": {
    "colab": {
      "provenance": [],
      "authorship_tag": "ABX9TyMt5IlBNJxo4fJlnLPklq6N",
      "include_colab_link": true
    },
    "kernelspec": {
      "name": "python3",
      "display_name": "Python 3"
    },
    "language_info": {
      "name": "python"
    }
  },
  "cells": [
    {
      "cell_type": "markdown",
      "metadata": {
        "id": "view-in-github",
        "colab_type": "text"
      },
      "source": [
        "<a href=\"https://colab.research.google.com/github/johyunkang/MLwithPythonCookbook/blob/main/10_%ED%8A%B9%EC%84%B1%EC%84%A0%ED%83%9D%EC%9D%84%EC%82%AC%EC%9A%A9%ED%95%9C_%EC%B0%A8%EC%9B%90%EC%B6%95%EC%86%8C.ipynb\" target=\"_parent\"><img src=\"https://colab.research.google.com/assets/colab-badge.svg\" alt=\"Open In Colab\"/></a>"
      ]
    },
    {
      "cell_type": "markdown",
      "source": [
        "## 10.0 소개\n",
        "\n",
        "9장에서 새로운 특성을 만드는 식으로 특성 행렬의 차원을 축소하는 방법을 설명했음\n",
        "\n",
        "이런 특성은 (이상적으로) 훨씬 적은 차원으로 좋은 품질의 모델을 동일하게 훈련할 수 있음.\n",
        "\n",
        "이를 `특성 추출(feature extraction)`이라고 부름\n",
        "\n",
        "이 장에서 또 다른 접근 방법으로 고품질의 정보가 많은 특성은 선택하고 덜유용한 특성은 버리는 방식을 다루겠음\n",
        "\n",
        "이를 `특성 선택(feature selection)`이라고 부름\n",
        "\n",
        "**특성 선택** 방식에는 필터(`filter`), 래퍼(`wrapper`), 임베디드(`embeded`) 세 가지가 있음\n",
        "- 필터 방식은 통계적인 속성을 조사하여 가장 뛰어난 특성을 선택\n",
        "- 래퍼 방식은 시행착오를 통해 가장 높은 품질의 예측을 만드는 특성의 부분 조합을 찾음\n",
        "- 임베디드 방식은 학습 알고리즘의 훈련 단계를 확장하거나 일부로 구성하여 가장 좋은 특성의 부분 조합을 선택"
      ],
      "metadata": {
        "id": "xrPdvrRqIyxa"
      }
    },
    {
      "cell_type": "markdown",
      "source": [
        "## 10.1 분산을 기준으로 수치 특성 선택하기"
      ],
      "metadata": {
        "id": "U2l-yUluJvy5"
      }
    },
    {
      "cell_type": "markdown",
      "source": [
        "수치형 특성 중에서 분산이 낮은 특성 (즉, 정보가 거의 없는 특성)을 삭제하고 싶음"
      ],
      "metadata": {
        "id": "6Vh4TGhtKG-S"
      }
    },
    {
      "cell_type": "code",
      "execution_count": 1,
      "metadata": {
        "colab": {
          "base_uri": "https://localhost:8080/"
        },
        "id": "zliw1SBLIuzc",
        "outputId": "9c5e8a2a-7c3c-4994-b7fc-9a52a9af7108"
      },
      "outputs": [
        {
          "output_type": "stream",
          "name": "stdout",
          "text": [
            "feature shape: (150, 4) , target shape: (150,)\n",
            "feature sample: [[5.1 3.5 1.4 0.2]\n",
            " [4.9 3.  1.4 0.2]\n",
            " [4.7 3.2 1.3 0.2]]\n",
            "target sample: [0 0 0]\n"
          ]
        }
      ],
      "source": [
        "from sklearn import datasets\n",
        "from sklearn.feature_selection import VarianceThreshold\n",
        "\n",
        "iris = datasets.load_iris()\n",
        "\n",
        "feature = iris.data\n",
        "target = iris.target\n",
        "\n",
        "print('feature shape:', feature.shape, ', target shape:', target.shape)\n",
        "print('feature sample:', feature[:3])\n",
        "print('target sample:', target[:3])"
      ]
    },
    {
      "cell_type": "code",
      "source": [
        "# 기준값 만들기\n",
        "threshold = VarianceThreshold(threshold=0.5)\n",
        "\n",
        "# 기준값 보다 높은 특성을 선택\n",
        "features_high_variance = threshold.fit_transform(feature)\n",
        "\n",
        "# 선택한 특성 확인\n",
        "print('선택한 특성 shape:', features_high_variance.shape)\n",
        "print('선택한 특성 확인:', features_high_variance[:3])"
      ],
      "metadata": {
        "colab": {
          "base_uri": "https://localhost:8080/"
        },
        "id": "uvB2tiMMKkgR",
        "outputId": "415659cb-30eb-495c-ea9d-0af4b7f36ee9"
      },
      "execution_count": 2,
      "outputs": [
        {
          "output_type": "stream",
          "name": "stdout",
          "text": [
            "선택한 특성 shape: (150, 3)\n",
            "선택한 특성 확인: [[5.1 1.4 0.2]\n",
            " [4.9 1.4 0.2]\n",
            " [4.7 1.3 0.2]]\n"
          ]
        }
      ]
    },
    {
      "cell_type": "markdown",
      "source": [
        "`분산기준설정(variance thresholding; VT)`를 사용할 때는 두 가지를 기억해야 함\n",
        "- 분산은 원점에 맞춰진 값이 아님. 즉 특성의 제곱 단위임. 따라서 특성의 단위가 서로 다르면 VT가 작동하지 않음\n",
        "- 분산의 기준값을 수동으로 선택하기 때문에 어떤 값이 좋은지 판단할 수 있어야 함."
      ],
      "metadata": {
        "id": "jFETxyPoLVWf"
      }
    },
    {
      "cell_type": "code",
      "source": [
        "print('분산을 확인합니다:', threshold.variances_)"
      ],
      "metadata": {
        "colab": {
          "base_uri": "https://localhost:8080/"
        },
        "id": "6dXj0EwDLszg",
        "outputId": "0cefd1a1-95c9-4b1f-9efe-6e7019d4d8a7"
      },
      "execution_count": 3,
      "outputs": [
        {
          "output_type": "stream",
          "name": "stdout",
          "text": [
            "분산을 확인합니다: [0.68112222 0.18871289 3.09550267 0.57713289]\n"
          ]
        }
      ]
    },
    {
      "cell_type": "markdown",
      "source": [
        "- 특성이 (평균이 0이고 단위 분산으로) 표준화되어 있으면 당연하지만 분산 기준 선택 방식은 올바르게 작동하지 않습니다."
      ],
      "metadata": {
        "id": "dvzyy1hdMEru"
      }
    },
    {
      "cell_type": "code",
      "source": [
        "from sklearn.preprocessing import StandardScaler\n",
        "\n",
        "scaler = StandardScaler()\n",
        "feature_std = scaler.fit_transform(feature)\n",
        "\n",
        "# 각 특성의 분산을 계산\n",
        "selector = VarianceThreshold()\n",
        "print('표준화된 분산 확인 시...:', selector.fit(feature_std).variances_)"
      ],
      "metadata": {
        "colab": {
          "base_uri": "https://localhost:8080/"
        },
        "id": "6Gp8OOWCMQEq",
        "outputId": "5dd62c80-2f93-45c6-becb-c1cbc77d0e0a"
      },
      "execution_count": 4,
      "outputs": [
        {
          "output_type": "stream",
          "name": "stdout",
          "text": [
            "표준화된 분산 확인 시...: [1. 1. 1. 1.]\n"
          ]
        }
      ]
    },
    {
      "cell_type": "markdown",
      "source": [
        "## 10.2 분산을 기준으로 이진 특성 선택하기 "
      ],
      "metadata": {
        "id": "CkhFrCxGMt6B"
      }
    },
    {
      "cell_type": "markdown",
      "source": [
        "**이진 범주형 특성(binary categorical feature)**에서 분산이 낮은 특성(적은 정보를 가진 특성)을 삭제하고 싶음\n",
        "\n",
        "`베르누이 확률 변수(Bernoulli random variable)`의 분산이 기준값 이상인 특성을 선택"
      ],
      "metadata": {
        "id": "gixcJWDeMxck"
      }
    },
    {
      "cell_type": "code",
      "source": [
        "from sklearn.feature_selection import VarianceThreshold\n",
        "\n",
        "# 예제 특성 행렬 생성\n",
        "# 특성 0 : 80%가 클래스 0\n",
        "# 특성 1 : 80%가 클래스 1\n",
        "# 특성 2 : 60%가 클래스 0, 40%는 클래스 1\n",
        "features = [[0, 1, 0],\n",
        "            [0, 1, 1],\n",
        "            [0, 1, 0],\n",
        "            [0, 1, 1],\n",
        "            [1, 0, 0]]\n",
        "\n",
        "# 분산을 기준으로 선택\n",
        "thresholder = VarianceThreshold(threshold=(0.75 * (1 - 0.75)))\n",
        "print(thresholder.fit_transform(features))\n",
        "print('속성의 분산 확인:', thresholder.variances_)"
      ],
      "metadata": {
        "id": "Jjpa-1nLNCj8",
        "colab": {
          "base_uri": "https://localhost:8080/"
        },
        "outputId": "6b68e9d6-9485-48de-980c-79af3fd6be43"
      },
      "execution_count": 7,
      "outputs": [
        {
          "output_type": "stream",
          "name": "stdout",
          "text": [
            "[[0]\n",
            " [1]\n",
            " [0]\n",
            " [1]\n",
            " [0]]\n",
            "속성의 분산 확인: [0.16 0.16 0.24]\n"
          ]
        }
      ]
    },
    {
      "cell_type": "markdown",
      "source": [
        "이진특성 (베르누이 확률변수)의 분산은 다음과 같이 계산함\n",
        "\n",
        "$Var(x) = p(1-p)$\n",
        "\n",
        "위에서 p는 클래스 1의 샘플 비율"
      ],
      "metadata": {
        "id": "YN6wH8HAXq7d"
      }
    },
    {
      "cell_type": "code",
      "source": [
        "# 아래 코드는 numpy var 를 이용하여 위에서 구한 분산을 동일하게 계산\n",
        "import numpy as np\n",
        "np.var(features, axis=0)"
      ],
      "metadata": {
        "colab": {
          "base_uri": "https://localhost:8080/"
        },
        "id": "00gKl8wIYJ_p",
        "outputId": "1b2b6455-4183-436e-f07d-e4872a7cb91e"
      },
      "execution_count": 8,
      "outputs": [
        {
          "output_type": "execute_result",
          "data": {
            "text/plain": [
              "array([0.16, 0.16, 0.24])"
            ]
          },
          "metadata": {},
          "execution_count": 8
        }
      ]
    },
    {
      "cell_type": "markdown",
      "source": [
        "이진 특성에 `var` 함수를 사용하는 것은 이진 특성일 때 베르누이 확률 변수의 분산과 같기 때문임.\n",
        "\n",
        "분산 공식을 사용해 간단히 유도해볼 수 있음\n",
        "\n",
        "분산식을 다음과 같이 풀어 쓸 수 있음\n",
        "\n",
        "$Var(x) = \\dfrac{1}{n} \\displaystyle \\sum_{i=1}^n{(x_i - \\mu)^2} = \\dfrac{1}{n}\\left(\\sum_{i=1}^nx_i^2 - 2\\mu\\sum_{i=1}^nx_i + n\\mu^2 \\right)$\n",
        "\n",
        "0, 1로 이루어진 이진 특성일 경우 x<sub>i</sub><sup>2</sup>은 x<sub>i</sub>와 같으므로 1/n 을 곱하면 첫 번째 항은 평균과 같아집니다. \n",
        "\n",
        "두 번째 항도 마찬가지로 1/n을 곱하면 평균의 제곱으로 표현할 수 있습니다. 결국 다음과 같이 정리됩니다.\n",
        "\n",
        "$= \\dfrac {1}{n} \\displaystyle \\sum_{i=1}^nx_i - 2 \\mu \\dfrac{1}{n} \\sum_{i=1}^nx_i + \\mu^2 = \\mu - 2 \\mu^2 + \\mu^2 = \\mu - \\mu^2 = \\mu (1 - \\mu )$\n",
        "\n",
        "이진 특성의 평균 뮤는 클래스 1의 샘플 비율과 같습니다. 따라서 `var` 함수로 이진 특성의 분산을 계산하면 **베르누이 확률 변수**의 분산 **p(1-p)**와 같습니다.\n",
        "\n",
        "`threshold` 매개변수의 기본값은 0으로 모든 특성을 선택합니다."
      ],
      "metadata": {
        "id": "lb7aiGFFYxim"
      }
    },
    {
      "cell_type": "markdown",
      "source": [
        "## 10.3 상관관계가 큰 특성 다루기"
      ],
      "metadata": {
        "id": "9HCRTp-Sbts-"
      }
    },
    {
      "cell_type": "markdown",
      "source": [
        "과제 : 특성 행렬에서 일부 특성의 상관관계가 크다고 의심됩니다."
      ],
      "metadata": {
        "id": "b4DnlF9obxvJ"
      }
    },
    {
      "cell_type": "code",
      "source": [
        "import pandas as pd\n",
        "import numpy as np\n",
        "\n",
        "# 상관관계가 큰 두 개의 특성을 가진 특성 행렬을 생성\n",
        "features = np.array( [ [1, 1, 1],\n",
        "                       [2, 2, 0],\n",
        "                       [3, 3, 1],\n",
        "                       [4, 4, 0],\n",
        "                       [5, 5, 1],\n",
        "                       [6, 6, 0],\n",
        "                       [7, 7, 1],\n",
        "                       [8, 7, 0],\n",
        "                       [9, 7, 1] ] )\n",
        "\n",
        "df = pd.DataFrame(features)\n",
        "display(df.head())\n",
        "print('\\n\\n')\n",
        "\n",
        "# 상관행렬 생성 (절대값)\n",
        "corr_matrix = df.corr().abs()\n",
        "print('절대값 상관관계 행렬')\n",
        "display(corr_matrix)\n",
        "\n",
        "print('\\n\\n행렬의 상삼각(upper trangle) 행렬을 선택')\n",
        "upper = corr_matrix.where( np.triu( np.ones(corr_matrix.shape),\n",
        "                                  k=1).astype(bool))\n",
        "print('type:', type(upper))\n",
        "display(upper)\n",
        "\n",
        "# 상관 계수가 0.95 보다 큰 특성 열의 인덱스를 찾음\n",
        "to_drop = [ column for column in upper.columns if any( upper[column] > 0.95 ) ]\n",
        "\n",
        "# 특성 삭제\n",
        "df.drop(df.columns[to_drop], axis=1).head(3)"
      ],
      "metadata": {
        "colab": {
          "base_uri": "https://localhost:8080/",
          "height": 732
        },
        "id": "VYDGkasCb5mI",
        "outputId": "82ffcd24-b1e1-4051-e009-72979b404c32"
      },
      "execution_count": 16,
      "outputs": [
        {
          "output_type": "display_data",
          "data": {
            "text/plain": [
              "   0  1  2\n",
              "0  1  1  1\n",
              "1  2  2  0\n",
              "2  3  3  1\n",
              "3  4  4  0\n",
              "4  5  5  1"
            ],
            "text/html": [
              "\n",
              "  <div id=\"df-1467616b-8a2c-41ae-b0a6-ebd8e713399b\">\n",
              "    <div class=\"colab-df-container\">\n",
              "      <div>\n",
              "<style scoped>\n",
              "    .dataframe tbody tr th:only-of-type {\n",
              "        vertical-align: middle;\n",
              "    }\n",
              "\n",
              "    .dataframe tbody tr th {\n",
              "        vertical-align: top;\n",
              "    }\n",
              "\n",
              "    .dataframe thead th {\n",
              "        text-align: right;\n",
              "    }\n",
              "</style>\n",
              "<table border=\"1\" class=\"dataframe\">\n",
              "  <thead>\n",
              "    <tr style=\"text-align: right;\">\n",
              "      <th></th>\n",
              "      <th>0</th>\n",
              "      <th>1</th>\n",
              "      <th>2</th>\n",
              "    </tr>\n",
              "  </thead>\n",
              "  <tbody>\n",
              "    <tr>\n",
              "      <th>0</th>\n",
              "      <td>1</td>\n",
              "      <td>1</td>\n",
              "      <td>1</td>\n",
              "    </tr>\n",
              "    <tr>\n",
              "      <th>1</th>\n",
              "      <td>2</td>\n",
              "      <td>2</td>\n",
              "      <td>0</td>\n",
              "    </tr>\n",
              "    <tr>\n",
              "      <th>2</th>\n",
              "      <td>3</td>\n",
              "      <td>3</td>\n",
              "      <td>1</td>\n",
              "    </tr>\n",
              "    <tr>\n",
              "      <th>3</th>\n",
              "      <td>4</td>\n",
              "      <td>4</td>\n",
              "      <td>0</td>\n",
              "    </tr>\n",
              "    <tr>\n",
              "      <th>4</th>\n",
              "      <td>5</td>\n",
              "      <td>5</td>\n",
              "      <td>1</td>\n",
              "    </tr>\n",
              "  </tbody>\n",
              "</table>\n",
              "</div>\n",
              "      <button class=\"colab-df-convert\" onclick=\"convertToInteractive('df-1467616b-8a2c-41ae-b0a6-ebd8e713399b')\"\n",
              "              title=\"Convert this dataframe to an interactive table.\"\n",
              "              style=\"display:none;\">\n",
              "        \n",
              "  <svg xmlns=\"http://www.w3.org/2000/svg\" height=\"24px\"viewBox=\"0 0 24 24\"\n",
              "       width=\"24px\">\n",
              "    <path d=\"M0 0h24v24H0V0z\" fill=\"none\"/>\n",
              "    <path d=\"M18.56 5.44l.94 2.06.94-2.06 2.06-.94-2.06-.94-.94-2.06-.94 2.06-2.06.94zm-11 1L8.5 8.5l.94-2.06 2.06-.94-2.06-.94L8.5 2.5l-.94 2.06-2.06.94zm10 10l.94 2.06.94-2.06 2.06-.94-2.06-.94-.94-2.06-.94 2.06-2.06.94z\"/><path d=\"M17.41 7.96l-1.37-1.37c-.4-.4-.92-.59-1.43-.59-.52 0-1.04.2-1.43.59L10.3 9.45l-7.72 7.72c-.78.78-.78 2.05 0 2.83L4 21.41c.39.39.9.59 1.41.59.51 0 1.02-.2 1.41-.59l7.78-7.78 2.81-2.81c.8-.78.8-2.07 0-2.86zM5.41 20L4 18.59l7.72-7.72 1.47 1.35L5.41 20z\"/>\n",
              "  </svg>\n",
              "      </button>\n",
              "      \n",
              "  <style>\n",
              "    .colab-df-container {\n",
              "      display:flex;\n",
              "      flex-wrap:wrap;\n",
              "      gap: 12px;\n",
              "    }\n",
              "\n",
              "    .colab-df-convert {\n",
              "      background-color: #E8F0FE;\n",
              "      border: none;\n",
              "      border-radius: 50%;\n",
              "      cursor: pointer;\n",
              "      display: none;\n",
              "      fill: #1967D2;\n",
              "      height: 32px;\n",
              "      padding: 0 0 0 0;\n",
              "      width: 32px;\n",
              "    }\n",
              "\n",
              "    .colab-df-convert:hover {\n",
              "      background-color: #E2EBFA;\n",
              "      box-shadow: 0px 1px 2px rgba(60, 64, 67, 0.3), 0px 1px 3px 1px rgba(60, 64, 67, 0.15);\n",
              "      fill: #174EA6;\n",
              "    }\n",
              "\n",
              "    [theme=dark] .colab-df-convert {\n",
              "      background-color: #3B4455;\n",
              "      fill: #D2E3FC;\n",
              "    }\n",
              "\n",
              "    [theme=dark] .colab-df-convert:hover {\n",
              "      background-color: #434B5C;\n",
              "      box-shadow: 0px 1px 3px 1px rgba(0, 0, 0, 0.15);\n",
              "      filter: drop-shadow(0px 1px 2px rgba(0, 0, 0, 0.3));\n",
              "      fill: #FFFFFF;\n",
              "    }\n",
              "  </style>\n",
              "\n",
              "      <script>\n",
              "        const buttonEl =\n",
              "          document.querySelector('#df-1467616b-8a2c-41ae-b0a6-ebd8e713399b button.colab-df-convert');\n",
              "        buttonEl.style.display =\n",
              "          google.colab.kernel.accessAllowed ? 'block' : 'none';\n",
              "\n",
              "        async function convertToInteractive(key) {\n",
              "          const element = document.querySelector('#df-1467616b-8a2c-41ae-b0a6-ebd8e713399b');\n",
              "          const dataTable =\n",
              "            await google.colab.kernel.invokeFunction('convertToInteractive',\n",
              "                                                     [key], {});\n",
              "          if (!dataTable) return;\n",
              "\n",
              "          const docLinkHtml = 'Like what you see? Visit the ' +\n",
              "            '<a target=\"_blank\" href=https://colab.research.google.com/notebooks/data_table.ipynb>data table notebook</a>'\n",
              "            + ' to learn more about interactive tables.';\n",
              "          element.innerHTML = '';\n",
              "          dataTable['output_type'] = 'display_data';\n",
              "          await google.colab.output.renderOutput(dataTable, element);\n",
              "          const docLink = document.createElement('div');\n",
              "          docLink.innerHTML = docLinkHtml;\n",
              "          element.appendChild(docLink);\n",
              "        }\n",
              "      </script>\n",
              "    </div>\n",
              "  </div>\n",
              "  "
            ]
          },
          "metadata": {}
        },
        {
          "output_type": "stream",
          "name": "stdout",
          "text": [
            "\n",
            "\n",
            "\n",
            "절대값 상관관계 행렬\n"
          ]
        },
        {
          "output_type": "display_data",
          "data": {
            "text/plain": [
              "          0         1         2\n",
              "0  1.000000  0.976103  0.000000\n",
              "1  0.976103  1.000000  0.034503\n",
              "2  0.000000  0.034503  1.000000"
            ],
            "text/html": [
              "\n",
              "  <div id=\"df-3b563671-f5a4-43e2-abfb-139be1f52aa8\">\n",
              "    <div class=\"colab-df-container\">\n",
              "      <div>\n",
              "<style scoped>\n",
              "    .dataframe tbody tr th:only-of-type {\n",
              "        vertical-align: middle;\n",
              "    }\n",
              "\n",
              "    .dataframe tbody tr th {\n",
              "        vertical-align: top;\n",
              "    }\n",
              "\n",
              "    .dataframe thead th {\n",
              "        text-align: right;\n",
              "    }\n",
              "</style>\n",
              "<table border=\"1\" class=\"dataframe\">\n",
              "  <thead>\n",
              "    <tr style=\"text-align: right;\">\n",
              "      <th></th>\n",
              "      <th>0</th>\n",
              "      <th>1</th>\n",
              "      <th>2</th>\n",
              "    </tr>\n",
              "  </thead>\n",
              "  <tbody>\n",
              "    <tr>\n",
              "      <th>0</th>\n",
              "      <td>1.000000</td>\n",
              "      <td>0.976103</td>\n",
              "      <td>0.000000</td>\n",
              "    </tr>\n",
              "    <tr>\n",
              "      <th>1</th>\n",
              "      <td>0.976103</td>\n",
              "      <td>1.000000</td>\n",
              "      <td>0.034503</td>\n",
              "    </tr>\n",
              "    <tr>\n",
              "      <th>2</th>\n",
              "      <td>0.000000</td>\n",
              "      <td>0.034503</td>\n",
              "      <td>1.000000</td>\n",
              "    </tr>\n",
              "  </tbody>\n",
              "</table>\n",
              "</div>\n",
              "      <button class=\"colab-df-convert\" onclick=\"convertToInteractive('df-3b563671-f5a4-43e2-abfb-139be1f52aa8')\"\n",
              "              title=\"Convert this dataframe to an interactive table.\"\n",
              "              style=\"display:none;\">\n",
              "        \n",
              "  <svg xmlns=\"http://www.w3.org/2000/svg\" height=\"24px\"viewBox=\"0 0 24 24\"\n",
              "       width=\"24px\">\n",
              "    <path d=\"M0 0h24v24H0V0z\" fill=\"none\"/>\n",
              "    <path d=\"M18.56 5.44l.94 2.06.94-2.06 2.06-.94-2.06-.94-.94-2.06-.94 2.06-2.06.94zm-11 1L8.5 8.5l.94-2.06 2.06-.94-2.06-.94L8.5 2.5l-.94 2.06-2.06.94zm10 10l.94 2.06.94-2.06 2.06-.94-2.06-.94-.94-2.06-.94 2.06-2.06.94z\"/><path d=\"M17.41 7.96l-1.37-1.37c-.4-.4-.92-.59-1.43-.59-.52 0-1.04.2-1.43.59L10.3 9.45l-7.72 7.72c-.78.78-.78 2.05 0 2.83L4 21.41c.39.39.9.59 1.41.59.51 0 1.02-.2 1.41-.59l7.78-7.78 2.81-2.81c.8-.78.8-2.07 0-2.86zM5.41 20L4 18.59l7.72-7.72 1.47 1.35L5.41 20z\"/>\n",
              "  </svg>\n",
              "      </button>\n",
              "      \n",
              "  <style>\n",
              "    .colab-df-container {\n",
              "      display:flex;\n",
              "      flex-wrap:wrap;\n",
              "      gap: 12px;\n",
              "    }\n",
              "\n",
              "    .colab-df-convert {\n",
              "      background-color: #E8F0FE;\n",
              "      border: none;\n",
              "      border-radius: 50%;\n",
              "      cursor: pointer;\n",
              "      display: none;\n",
              "      fill: #1967D2;\n",
              "      height: 32px;\n",
              "      padding: 0 0 0 0;\n",
              "      width: 32px;\n",
              "    }\n",
              "\n",
              "    .colab-df-convert:hover {\n",
              "      background-color: #E2EBFA;\n",
              "      box-shadow: 0px 1px 2px rgba(60, 64, 67, 0.3), 0px 1px 3px 1px rgba(60, 64, 67, 0.15);\n",
              "      fill: #174EA6;\n",
              "    }\n",
              "\n",
              "    [theme=dark] .colab-df-convert {\n",
              "      background-color: #3B4455;\n",
              "      fill: #D2E3FC;\n",
              "    }\n",
              "\n",
              "    [theme=dark] .colab-df-convert:hover {\n",
              "      background-color: #434B5C;\n",
              "      box-shadow: 0px 1px 3px 1px rgba(0, 0, 0, 0.15);\n",
              "      filter: drop-shadow(0px 1px 2px rgba(0, 0, 0, 0.3));\n",
              "      fill: #FFFFFF;\n",
              "    }\n",
              "  </style>\n",
              "\n",
              "      <script>\n",
              "        const buttonEl =\n",
              "          document.querySelector('#df-3b563671-f5a4-43e2-abfb-139be1f52aa8 button.colab-df-convert');\n",
              "        buttonEl.style.display =\n",
              "          google.colab.kernel.accessAllowed ? 'block' : 'none';\n",
              "\n",
              "        async function convertToInteractive(key) {\n",
              "          const element = document.querySelector('#df-3b563671-f5a4-43e2-abfb-139be1f52aa8');\n",
              "          const dataTable =\n",
              "            await google.colab.kernel.invokeFunction('convertToInteractive',\n",
              "                                                     [key], {});\n",
              "          if (!dataTable) return;\n",
              "\n",
              "          const docLinkHtml = 'Like what you see? Visit the ' +\n",
              "            '<a target=\"_blank\" href=https://colab.research.google.com/notebooks/data_table.ipynb>data table notebook</a>'\n",
              "            + ' to learn more about interactive tables.';\n",
              "          element.innerHTML = '';\n",
              "          dataTable['output_type'] = 'display_data';\n",
              "          await google.colab.output.renderOutput(dataTable, element);\n",
              "          const docLink = document.createElement('div');\n",
              "          docLink.innerHTML = docLinkHtml;\n",
              "          element.appendChild(docLink);\n",
              "        }\n",
              "      </script>\n",
              "    </div>\n",
              "  </div>\n",
              "  "
            ]
          },
          "metadata": {}
        },
        {
          "output_type": "stream",
          "name": "stdout",
          "text": [
            "\n",
            "\n",
            "행렬의 상삼각(upper trangle) 행렬을 선택\n",
            "type: <class 'pandas.core.frame.DataFrame'>\n"
          ]
        },
        {
          "output_type": "display_data",
          "data": {
            "text/plain": [
              "    0         1         2\n",
              "0 NaN  0.976103  0.000000\n",
              "1 NaN       NaN  0.034503\n",
              "2 NaN       NaN       NaN"
            ],
            "text/html": [
              "\n",
              "  <div id=\"df-dc719330-a730-4174-aa8e-64bff220c256\">\n",
              "    <div class=\"colab-df-container\">\n",
              "      <div>\n",
              "<style scoped>\n",
              "    .dataframe tbody tr th:only-of-type {\n",
              "        vertical-align: middle;\n",
              "    }\n",
              "\n",
              "    .dataframe tbody tr th {\n",
              "        vertical-align: top;\n",
              "    }\n",
              "\n",
              "    .dataframe thead th {\n",
              "        text-align: right;\n",
              "    }\n",
              "</style>\n",
              "<table border=\"1\" class=\"dataframe\">\n",
              "  <thead>\n",
              "    <tr style=\"text-align: right;\">\n",
              "      <th></th>\n",
              "      <th>0</th>\n",
              "      <th>1</th>\n",
              "      <th>2</th>\n",
              "    </tr>\n",
              "  </thead>\n",
              "  <tbody>\n",
              "    <tr>\n",
              "      <th>0</th>\n",
              "      <td>NaN</td>\n",
              "      <td>0.976103</td>\n",
              "      <td>0.000000</td>\n",
              "    </tr>\n",
              "    <tr>\n",
              "      <th>1</th>\n",
              "      <td>NaN</td>\n",
              "      <td>NaN</td>\n",
              "      <td>0.034503</td>\n",
              "    </tr>\n",
              "    <tr>\n",
              "      <th>2</th>\n",
              "      <td>NaN</td>\n",
              "      <td>NaN</td>\n",
              "      <td>NaN</td>\n",
              "    </tr>\n",
              "  </tbody>\n",
              "</table>\n",
              "</div>\n",
              "      <button class=\"colab-df-convert\" onclick=\"convertToInteractive('df-dc719330-a730-4174-aa8e-64bff220c256')\"\n",
              "              title=\"Convert this dataframe to an interactive table.\"\n",
              "              style=\"display:none;\">\n",
              "        \n",
              "  <svg xmlns=\"http://www.w3.org/2000/svg\" height=\"24px\"viewBox=\"0 0 24 24\"\n",
              "       width=\"24px\">\n",
              "    <path d=\"M0 0h24v24H0V0z\" fill=\"none\"/>\n",
              "    <path d=\"M18.56 5.44l.94 2.06.94-2.06 2.06-.94-2.06-.94-.94-2.06-.94 2.06-2.06.94zm-11 1L8.5 8.5l.94-2.06 2.06-.94-2.06-.94L8.5 2.5l-.94 2.06-2.06.94zm10 10l.94 2.06.94-2.06 2.06-.94-2.06-.94-.94-2.06-.94 2.06-2.06.94z\"/><path d=\"M17.41 7.96l-1.37-1.37c-.4-.4-.92-.59-1.43-.59-.52 0-1.04.2-1.43.59L10.3 9.45l-7.72 7.72c-.78.78-.78 2.05 0 2.83L4 21.41c.39.39.9.59 1.41.59.51 0 1.02-.2 1.41-.59l7.78-7.78 2.81-2.81c.8-.78.8-2.07 0-2.86zM5.41 20L4 18.59l7.72-7.72 1.47 1.35L5.41 20z\"/>\n",
              "  </svg>\n",
              "      </button>\n",
              "      \n",
              "  <style>\n",
              "    .colab-df-container {\n",
              "      display:flex;\n",
              "      flex-wrap:wrap;\n",
              "      gap: 12px;\n",
              "    }\n",
              "\n",
              "    .colab-df-convert {\n",
              "      background-color: #E8F0FE;\n",
              "      border: none;\n",
              "      border-radius: 50%;\n",
              "      cursor: pointer;\n",
              "      display: none;\n",
              "      fill: #1967D2;\n",
              "      height: 32px;\n",
              "      padding: 0 0 0 0;\n",
              "      width: 32px;\n",
              "    }\n",
              "\n",
              "    .colab-df-convert:hover {\n",
              "      background-color: #E2EBFA;\n",
              "      box-shadow: 0px 1px 2px rgba(60, 64, 67, 0.3), 0px 1px 3px 1px rgba(60, 64, 67, 0.15);\n",
              "      fill: #174EA6;\n",
              "    }\n",
              "\n",
              "    [theme=dark] .colab-df-convert {\n",
              "      background-color: #3B4455;\n",
              "      fill: #D2E3FC;\n",
              "    }\n",
              "\n",
              "    [theme=dark] .colab-df-convert:hover {\n",
              "      background-color: #434B5C;\n",
              "      box-shadow: 0px 1px 3px 1px rgba(0, 0, 0, 0.15);\n",
              "      filter: drop-shadow(0px 1px 2px rgba(0, 0, 0, 0.3));\n",
              "      fill: #FFFFFF;\n",
              "    }\n",
              "  </style>\n",
              "\n",
              "      <script>\n",
              "        const buttonEl =\n",
              "          document.querySelector('#df-dc719330-a730-4174-aa8e-64bff220c256 button.colab-df-convert');\n",
              "        buttonEl.style.display =\n",
              "          google.colab.kernel.accessAllowed ? 'block' : 'none';\n",
              "\n",
              "        async function convertToInteractive(key) {\n",
              "          const element = document.querySelector('#df-dc719330-a730-4174-aa8e-64bff220c256');\n",
              "          const dataTable =\n",
              "            await google.colab.kernel.invokeFunction('convertToInteractive',\n",
              "                                                     [key], {});\n",
              "          if (!dataTable) return;\n",
              "\n",
              "          const docLinkHtml = 'Like what you see? Visit the ' +\n",
              "            '<a target=\"_blank\" href=https://colab.research.google.com/notebooks/data_table.ipynb>data table notebook</a>'\n",
              "            + ' to learn more about interactive tables.';\n",
              "          element.innerHTML = '';\n",
              "          dataTable['output_type'] = 'display_data';\n",
              "          await google.colab.output.renderOutput(dataTable, element);\n",
              "          const docLink = document.createElement('div');\n",
              "          docLink.innerHTML = docLinkHtml;\n",
              "          element.appendChild(docLink);\n",
              "        }\n",
              "      </script>\n",
              "    </div>\n",
              "  </div>\n",
              "  "
            ]
          },
          "metadata": {}
        },
        {
          "output_type": "execute_result",
          "data": {
            "text/plain": [
              "   0  2\n",
              "0  1  1\n",
              "1  2  0\n",
              "2  3  1"
            ],
            "text/html": [
              "\n",
              "  <div id=\"df-7112cfa3-f1b9-4598-a533-4c57bf869856\">\n",
              "    <div class=\"colab-df-container\">\n",
              "      <div>\n",
              "<style scoped>\n",
              "    .dataframe tbody tr th:only-of-type {\n",
              "        vertical-align: middle;\n",
              "    }\n",
              "\n",
              "    .dataframe tbody tr th {\n",
              "        vertical-align: top;\n",
              "    }\n",
              "\n",
              "    .dataframe thead th {\n",
              "        text-align: right;\n",
              "    }\n",
              "</style>\n",
              "<table border=\"1\" class=\"dataframe\">\n",
              "  <thead>\n",
              "    <tr style=\"text-align: right;\">\n",
              "      <th></th>\n",
              "      <th>0</th>\n",
              "      <th>2</th>\n",
              "    </tr>\n",
              "  </thead>\n",
              "  <tbody>\n",
              "    <tr>\n",
              "      <th>0</th>\n",
              "      <td>1</td>\n",
              "      <td>1</td>\n",
              "    </tr>\n",
              "    <tr>\n",
              "      <th>1</th>\n",
              "      <td>2</td>\n",
              "      <td>0</td>\n",
              "    </tr>\n",
              "    <tr>\n",
              "      <th>2</th>\n",
              "      <td>3</td>\n",
              "      <td>1</td>\n",
              "    </tr>\n",
              "  </tbody>\n",
              "</table>\n",
              "</div>\n",
              "      <button class=\"colab-df-convert\" onclick=\"convertToInteractive('df-7112cfa3-f1b9-4598-a533-4c57bf869856')\"\n",
              "              title=\"Convert this dataframe to an interactive table.\"\n",
              "              style=\"display:none;\">\n",
              "        \n",
              "  <svg xmlns=\"http://www.w3.org/2000/svg\" height=\"24px\"viewBox=\"0 0 24 24\"\n",
              "       width=\"24px\">\n",
              "    <path d=\"M0 0h24v24H0V0z\" fill=\"none\"/>\n",
              "    <path d=\"M18.56 5.44l.94 2.06.94-2.06 2.06-.94-2.06-.94-.94-2.06-.94 2.06-2.06.94zm-11 1L8.5 8.5l.94-2.06 2.06-.94-2.06-.94L8.5 2.5l-.94 2.06-2.06.94zm10 10l.94 2.06.94-2.06 2.06-.94-2.06-.94-.94-2.06-.94 2.06-2.06.94z\"/><path d=\"M17.41 7.96l-1.37-1.37c-.4-.4-.92-.59-1.43-.59-.52 0-1.04.2-1.43.59L10.3 9.45l-7.72 7.72c-.78.78-.78 2.05 0 2.83L4 21.41c.39.39.9.59 1.41.59.51 0 1.02-.2 1.41-.59l7.78-7.78 2.81-2.81c.8-.78.8-2.07 0-2.86zM5.41 20L4 18.59l7.72-7.72 1.47 1.35L5.41 20z\"/>\n",
              "  </svg>\n",
              "      </button>\n",
              "      \n",
              "  <style>\n",
              "    .colab-df-container {\n",
              "      display:flex;\n",
              "      flex-wrap:wrap;\n",
              "      gap: 12px;\n",
              "    }\n",
              "\n",
              "    .colab-df-convert {\n",
              "      background-color: #E8F0FE;\n",
              "      border: none;\n",
              "      border-radius: 50%;\n",
              "      cursor: pointer;\n",
              "      display: none;\n",
              "      fill: #1967D2;\n",
              "      height: 32px;\n",
              "      padding: 0 0 0 0;\n",
              "      width: 32px;\n",
              "    }\n",
              "\n",
              "    .colab-df-convert:hover {\n",
              "      background-color: #E2EBFA;\n",
              "      box-shadow: 0px 1px 2px rgba(60, 64, 67, 0.3), 0px 1px 3px 1px rgba(60, 64, 67, 0.15);\n",
              "      fill: #174EA6;\n",
              "    }\n",
              "\n",
              "    [theme=dark] .colab-df-convert {\n",
              "      background-color: #3B4455;\n",
              "      fill: #D2E3FC;\n",
              "    }\n",
              "\n",
              "    [theme=dark] .colab-df-convert:hover {\n",
              "      background-color: #434B5C;\n",
              "      box-shadow: 0px 1px 3px 1px rgba(0, 0, 0, 0.15);\n",
              "      filter: drop-shadow(0px 1px 2px rgba(0, 0, 0, 0.3));\n",
              "      fill: #FFFFFF;\n",
              "    }\n",
              "  </style>\n",
              "\n",
              "      <script>\n",
              "        const buttonEl =\n",
              "          document.querySelector('#df-7112cfa3-f1b9-4598-a533-4c57bf869856 button.colab-df-convert');\n",
              "        buttonEl.style.display =\n",
              "          google.colab.kernel.accessAllowed ? 'block' : 'none';\n",
              "\n",
              "        async function convertToInteractive(key) {\n",
              "          const element = document.querySelector('#df-7112cfa3-f1b9-4598-a533-4c57bf869856');\n",
              "          const dataTable =\n",
              "            await google.colab.kernel.invokeFunction('convertToInteractive',\n",
              "                                                     [key], {});\n",
              "          if (!dataTable) return;\n",
              "\n",
              "          const docLinkHtml = 'Like what you see? Visit the ' +\n",
              "            '<a target=\"_blank\" href=https://colab.research.google.com/notebooks/data_table.ipynb>data table notebook</a>'\n",
              "            + ' to learn more about interactive tables.';\n",
              "          element.innerHTML = '';\n",
              "          dataTable['output_type'] = 'display_data';\n",
              "          await google.colab.output.renderOutput(dataTable, element);\n",
              "          const docLink = document.createElement('div');\n",
              "          docLink.innerHTML = docLinkHtml;\n",
              "          element.appendChild(docLink);\n",
              "        }\n",
              "      </script>\n",
              "    </div>\n",
              "  </div>\n",
              "  "
            ]
          },
          "metadata": {},
          "execution_count": 16
        }
      ]
    },
    {
      "cell_type": "markdown",
      "source": [
        "상관관계 행렬은 `numpy`의 `corrcoef` 함수로 구할 수도 있습니다.\n",
        "\n",
        "이 함수는 특성이 `행`에 놓여 있을 것으로 기대함.\n",
        "\n",
        "특성이 열에 놓여 있다고 알려주려면 `rowvar` 매개변수를 `False`로 지정"
      ],
      "metadata": {
        "id": "SpWX11NQe4cR"
      }
    },
    {
      "cell_type": "code",
      "source": [
        "np.corrcoef(features, rowvar=False)"
      ],
      "metadata": {
        "colab": {
          "base_uri": "https://localhost:8080/"
        },
        "id": "rapTb1q-fHp7",
        "outputId": "cff45ea0-1325-4bda-d505-b1c9cffc90c0"
      },
      "execution_count": 17,
      "outputs": [
        {
          "output_type": "execute_result",
          "data": {
            "text/plain": [
              "array([[ 1.        ,  0.97610336,  0.        ],\n",
              "       [ 0.97610336,  1.        , -0.03450328],\n",
              "       [ 0.        , -0.03450328,  1.        ]])"
            ]
          },
          "metadata": {},
          "execution_count": 17
        }
      ]
    },
    {
      "cell_type": "markdown",
      "source": [
        "## 10.4 분류 작업에 관련 없는 특성 삭제하기"
      ],
      "metadata": {
        "id": "sj4wDeZBfVIB"
      }
    },
    {
      "cell_type": "markdown",
      "source": [
        "과제 : 범주형 타깃 벡터에서 관련 없는 특성을 삭제하고 싶습니다.\n",
        "\n",
        "\n",
        "해결 : 범주형 특성이라면 각 특성과 타겟 벡터 사이의 카이제곱 통계를 계산"
      ],
      "metadata": {
        "id": "SYQ6qoFgfY23"
      }
    },
    {
      "cell_type": "code",
      "source": [
        "from sklearn.datasets import load_iris\n",
        "from sklearn.feature_selection import SelectKBest\n",
        "from sklearn.feature_selection import chi2, f_classif\n",
        "\n",
        "# 데이터 로드\n",
        "iris = load_iris()\n",
        "features = iris.data\n",
        "target = iris.target\n",
        "print('features raw:', features[:3])\n",
        "# 범주형 데이터를 정수형으로 변환\n",
        "features = features.astype(int)\n",
        "print('\\n\\nfeatures int 변환:', features[:3])\n",
        "\n",
        "# 카이제곱 통계값이 가장 큰 특성 두 개를 선택\n",
        "chi2_selector = SelectKBest(chi2, k=2)\n",
        "features_kbest = chi2_selector.fit_transform(features, target)\n",
        "\n",
        "# 결과 확인\n",
        "print('\\n\\n원본 특성 개수 :', features.shape)\n",
        "print('줄어든 특성 개수 :', features_kbest.shape)"
      ],
      "metadata": {
        "colab": {
          "base_uri": "https://localhost:8080/"
        },
        "id": "EUv_PAuqfkq8",
        "outputId": "54c8911c-e239-4182-b277-7a7803af003e"
      },
      "execution_count": 25,
      "outputs": [
        {
          "output_type": "stream",
          "name": "stdout",
          "text": [
            "features raw: [[5.1 3.5 1.4 0.2]\n",
            " [4.9 3.  1.4 0.2]\n",
            " [4.7 3.2 1.3 0.2]]\n",
            "\n",
            "\n",
            "features int 변환: [[5 3 1 0]\n",
            " [4 3 1 0]\n",
            " [4 3 1 0]]\n",
            "\n",
            "\n",
            "원본 특성 개수 : (150, 4)\n",
            "줄어든 특성 개수 : (150, 2)\n"
          ]
        }
      ]
    },
    {
      "cell_type": "markdown",
      "source": [
        "특성이 수치형(quantitative)이면 각 특성과 벡터 사이에서 분산분석(ANOVA)의 `F-값`을 계산합니다."
      ],
      "metadata": {
        "id": "qXDFVszBgjqL"
      }
    },
    {
      "cell_type": "code",
      "source": [
        "# F값이 가장\n",
        "fvalue_selector = SelectKBest(f_classif, k=2)\n",
        "features_kbest = fvalue_selector.fit_transform(features, target)\n",
        "\n",
        "print('\\n\\n원본 특성개수:', features.shape)\n",
        "print('F-value를 이용한 줄어든 특성 개수:', features_kbest.shape)"
      ],
      "metadata": {
        "colab": {
          "base_uri": "https://localhost:8080/"
        },
        "id": "pzYghqd_gz1k",
        "outputId": "1c1900a8-2b26-4c27-e8ca-9f3658e3a548"
      },
      "execution_count": 28,
      "outputs": [
        {
          "output_type": "stream",
          "name": "stdout",
          "text": [
            "\n",
            "\n",
            "원본 특성개수: (150, 4)\n",
            "F-value를 이용한 줄어든 특성 개수: (150, 2)\n"
          ]
        }
      ]
    }
  ]
}