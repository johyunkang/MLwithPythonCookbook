{
  "nbformat": 4,
  "nbformat_minor": 0,
  "metadata": {
    "colab": {
      "provenance": [],
      "authorship_tag": "ABX9TyMQLLYfHamfIUaeOkfxzry0",
      "include_colab_link": true
    },
    "kernelspec": {
      "name": "python3",
      "display_name": "Python 3"
    },
    "language_info": {
      "name": "python"
    }
  },
  "cells": [
    {
      "cell_type": "markdown",
      "metadata": {
        "id": "view-in-github",
        "colab_type": "text"
      },
      "source": [
        "<a href=\"https://colab.research.google.com/github/johyunkang/MLwithPythonCookbook/blob/main/4_11_missing_value.ipynb\" target=\"_parent\"><img src=\"https://colab.research.google.com/assets/colab-badge.svg\" alt=\"Open In Colab\"/></a>"
      ]
    },
    {
      "cell_type": "markdown",
      "source": [
        "## 4.11 누락된 값 채우기 "
      ],
      "metadata": {
        "id": "L5l0ZjmzPXr_"
      }
    },
    {
      "cell_type": "code",
      "source": [
        "# !pip install fancyimpute"
      ],
      "metadata": {
        "colab": {
          "base_uri": "https://localhost:8080/"
        },
        "id": "BeKktwHtSBxV",
        "outputId": "a211e46d-935e-4bb9-9e70-c66dc9e3768d"
      },
      "execution_count": 13,
      "outputs": [
        {
          "output_type": "stream",
          "name": "stdout",
          "text": [
            "Looking in indexes: https://pypi.org/simple, https://us-python.pkg.dev/colab-wheels/public/simple/\n",
            "Collecting fancyimpute\n",
            "  Downloading fancyimpute-0.7.0.tar.gz (25 kB)\n",
            "  Preparing metadata (setup.py) ... \u001b[?25l\u001b[?25hdone\n",
            "Collecting knnimpute>=0.1.0\n",
            "  Downloading knnimpute-0.1.0.tar.gz (8.3 kB)\n",
            "  Preparing metadata (setup.py) ... \u001b[?25l\u001b[?25hdone\n",
            "Requirement already satisfied: scikit-learn>=0.24.2 in /usr/local/lib/python3.8/dist-packages (from fancyimpute) (1.0.2)\n",
            "Requirement already satisfied: cvxpy in /usr/local/lib/python3.8/dist-packages (from fancyimpute) (1.2.3)\n",
            "Requirement already satisfied: cvxopt in /usr/local/lib/python3.8/dist-packages (from fancyimpute) (1.3.0)\n",
            "Requirement already satisfied: pytest in /usr/local/lib/python3.8/dist-packages (from fancyimpute) (3.6.4)\n",
            "Collecting nose\n",
            "  Downloading nose-1.3.7-py3-none-any.whl (154 kB)\n",
            "\u001b[2K     \u001b[90m━━━━━━━━━━━━━━━━━━━━━━━━━━━━━━━━━━━━━━━\u001b[0m \u001b[32m154.7/154.7 KB\u001b[0m \u001b[31m6.4 MB/s\u001b[0m eta \u001b[36m0:00:00\u001b[0m\n",
            "\u001b[?25hRequirement already satisfied: six in /usr/local/lib/python3.8/dist-packages (from knnimpute>=0.1.0->fancyimpute) (1.15.0)\n",
            "Requirement already satisfied: numpy>=1.10 in /usr/local/lib/python3.8/dist-packages (from knnimpute>=0.1.0->fancyimpute) (1.21.6)\n",
            "Requirement already satisfied: scipy>=1.1.0 in /usr/local/lib/python3.8/dist-packages (from scikit-learn>=0.24.2->fancyimpute) (1.7.3)\n",
            "Requirement already satisfied: threadpoolctl>=2.0.0 in /usr/local/lib/python3.8/dist-packages (from scikit-learn>=0.24.2->fancyimpute) (3.1.0)\n",
            "Requirement already satisfied: joblib>=0.11 in /usr/local/lib/python3.8/dist-packages (from scikit-learn>=0.24.2->fancyimpute) (1.2.0)\n",
            "Requirement already satisfied: scs>=1.1.6 in /usr/local/lib/python3.8/dist-packages (from cvxpy->fancyimpute) (3.2.2)\n",
            "Requirement already satisfied: osqp>=0.4.1 in /usr/local/lib/python3.8/dist-packages (from cvxpy->fancyimpute) (0.6.2.post0)\n",
            "Requirement already satisfied: ecos>=2 in /usr/local/lib/python3.8/dist-packages (from cvxpy->fancyimpute) (2.0.12)\n",
            "Requirement already satisfied: setuptools<=64.0.2 in /usr/local/lib/python3.8/dist-packages (from cvxpy->fancyimpute) (57.4.0)\n",
            "Requirement already satisfied: attrs>=17.4.0 in /usr/local/lib/python3.8/dist-packages (from pytest->fancyimpute) (22.2.0)\n",
            "Requirement already satisfied: more-itertools>=4.0.0 in /usr/local/lib/python3.8/dist-packages (from pytest->fancyimpute) (9.0.0)\n",
            "Requirement already satisfied: pluggy<0.8,>=0.5 in /usr/local/lib/python3.8/dist-packages (from pytest->fancyimpute) (0.7.1)\n",
            "Requirement already satisfied: py>=1.5.0 in /usr/local/lib/python3.8/dist-packages (from pytest->fancyimpute) (1.11.0)\n",
            "Requirement already satisfied: atomicwrites>=1.0 in /usr/local/lib/python3.8/dist-packages (from pytest->fancyimpute) (1.4.1)\n",
            "Requirement already satisfied: qdldl in /usr/local/lib/python3.8/dist-packages (from osqp>=0.4.1->cvxpy->fancyimpute) (0.1.5.post2)\n",
            "Building wheels for collected packages: fancyimpute, knnimpute\n",
            "  Building wheel for fancyimpute (setup.py) ... \u001b[?25l\u001b[?25hdone\n",
            "  Created wheel for fancyimpute: filename=fancyimpute-0.7.0-py3-none-any.whl size=29898 sha256=fb4387d89d16efe1564bdc901d63b85f7c20419012ec975a3d370aa188a40487\n",
            "  Stored in directory: /root/.cache/pip/wheels/45/e1/7c/5f6e503d959df84af6d91e87ae288961a906f895d910f6533b\n",
            "  Building wheel for knnimpute (setup.py) ... \u001b[?25l\u001b[?25hdone\n",
            "  Created wheel for knnimpute: filename=knnimpute-0.1.0-py3-none-any.whl size=11353 sha256=6be1d17974d1765608124cc1422bd03e83ceba869b93b371c063c44dbad64189\n",
            "  Stored in directory: /root/.cache/pip/wheels/5f/e9/7a/9969b4e11eb626b45f12a46849b8c65aa718244a243583caf1\n",
            "Successfully built fancyimpute knnimpute\n",
            "Installing collected packages: nose, knnimpute, fancyimpute\n",
            "Successfully installed fancyimpute-0.7.0 knnimpute-0.1.0 nose-1.3.7\n"
          ]
        }
      ]
    },
    {
      "cell_type": "code",
      "execution_count": 22,
      "metadata": {
        "colab": {
          "base_uri": "https://localhost:8080/"
        },
        "id": "zaiMJ5_mPU53",
        "outputId": "944acdf5-5188-4c2f-cb01-da8d7f0c3cc7"
      },
      "outputs": [
        {
          "output_type": "stream",
          "name": "stdout",
          "text": [
            "생성된 feature\n",
            "\n",
            "[[ -0.79415228   2.10495117]\n",
            " [ -9.15155186  -4.81286449]\n",
            " [-11.44182631  -4.45781441]\n",
            " [ -9.76761777  -3.19133737]\n",
            " [ -4.53655648  -8.40186288]\n",
            " [ -6.26302115  -8.10666081]\n",
            " [ -6.38481234  -8.4730297 ]\n",
            " [ -9.20490564  -4.57687928]\n",
            " [ -2.76017908   5.55121358]\n",
            " [ -1.17104176   4.33091816]]\n",
            "\n",
            "\n",
            "\n",
            "특성을 표준화\n",
            "\n",
            "\n",
            "\n",
            "표준화 된 값 출력\n",
            "[[ 1.43125781  0.86931636]\n",
            " [-0.87155021 -0.43778772]\n",
            " [-1.50261521 -0.37070189]\n",
            " [-1.04130176 -0.1314042 ]\n",
            " [ 0.40007122 -1.11592005]\n",
            " [-0.07564095 -1.06014235]\n",
            " [-0.10919945 -1.12936684]\n",
            " [-0.88625137 -0.3931989 ]\n",
            " [ 0.8895364   1.52047908]\n",
            " [ 1.32740923  1.28990729]]\n",
            "실제 값: 1.4312578131537823\n",
            "대체된 값(KNNImpute): 1.4204209238999357\n",
            "대체된 값(KNN): 1.5751161162600806\n",
            "대체된 값(Imputer mean): -0.014457149627816341\n"
          ]
        }
      ],
      "source": [
        "import numpy as np\n",
        "# from sklearn.neighbors import KNeighborsClassifier\n",
        "from sklearn.impute import KNNImputer, SimpleImputer\n",
        "from fancyimpute import KNN\n",
        "from sklearn.preprocessing import StandardScaler\n",
        "from sklearn.datasets import make_blobs\n",
        "\n",
        "# 모의 특성 행렬을 만듦\n",
        "features, _ = make_blobs(n_samples = 100,\n",
        "                         n_features = 2,\n",
        "                         random_state = 1)\n",
        "\n",
        "print('생성된 feature\\n')\n",
        "print(features[:10])\n",
        "\n",
        "print('\\n\\n')\n",
        "print('특성을 표준화')\n",
        "scaler = StandardScaler()\n",
        "standard_features = scaler.fit_transform(features)\n",
        "\n",
        "# 첫 번째 샘플의 1열 특성을 삭제\n",
        "print('\\n\\n')\n",
        "print('표준화 된 값 출력')\n",
        "print(standard_features[:10])\n",
        "true_value = standard_features[0, 0]\n",
        "standard_features[0, 0] = np.nan\n",
        "\n",
        "# 특성 행렬에 누락된 값을 예측\n",
        "mean_imputer = SimpleImputer(strategy='mean', verbose=0)\n",
        "\n",
        "features_knn_imputed = KNNImputer(n_neighbors=5).fit_transform(standard_features)\n",
        "features_knn = KNN(k=5, verbose=0).fit_transform(standard_features)\n",
        "features_imputer_mean = mean_imputer.fit_transform(standard_features)\n",
        "\n",
        "print('실제 값:', true_value)\n",
        "print('대체된 값(KNNImpute):', features_knn_imputed[0, 0])\n",
        "print('대체된 값(KNN):', features_knn[0, 0])\n",
        "print('대체된 값(Imputer mean):', features_imputer_mean[0, 0])"
      ]
    }
  ]
}