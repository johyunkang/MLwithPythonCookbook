{
  "nbformat": 4,
  "nbformat_minor": 0,
  "metadata": {
    "colab": {
      "provenance": [],
      "authorship_tag": "ABX9TyPrjpoI8/QwhegxhPJVsJAx",
      "include_colab_link": true
    },
    "kernelspec": {
      "name": "python3",
      "display_name": "Python 3"
    },
    "language_info": {
      "name": "python"
    }
  },
  "cells": [
    {
      "cell_type": "markdown",
      "metadata": {
        "id": "view-in-github",
        "colab_type": "text"
      },
      "source": [
        "<a href=\"https://colab.research.google.com/github/johyunkang/MLwithPythonCookbook/blob/main/12_%EB%AA%A8%EB%8D%B8%EC%84%A0%ED%83%9D.ipynb\" target=\"_parent\"><img src=\"https://colab.research.google.com/assets/colab-badge.svg\" alt=\"Open In Colab\"/></a>"
      ]
    },
    {
      "cell_type": "markdown",
      "source": [
        "# Chapter 12 모델 선택"
      ],
      "metadata": {
        "id": "7hE-XdDbQLjQ"
      }
    },
    {
      "cell_type": "markdown",
      "source": [
        "## 12.1 완전 탐색을 사용해 최선의 모델 선택하기"
      ],
      "metadata": {
        "id": "XDcaLviWQPcw"
      }
    },
    {
      "cell_type": "markdown",
      "source": [
        "과제 : 하이퍼파라미터 범위를 검사하여 최선의 모델을 선택하고 싶습니다.\n",
        "\n",
        "해결 : 사이킷런의 GridSearchCV를 사용합니다."
      ],
      "metadata": {
        "id": "QRE5bhXm-uSa"
      }
    },
    {
      "cell_type": "code",
      "source": [
        "import numpy as np\n",
        "from sklearn import datasets\n",
        "from sklearn.linear_model import LogisticRegression\n",
        "from sklearn.model_selection import GridSearchCV\n",
        "\n",
        "import warnings\n",
        "\n",
        "# 경고 메시지를 무시하고 숨기거나\n",
        "warnings.filterwarnings(action='ignore')\n",
        "\n",
        "\n",
        "iris = datasets.load_iris()\n",
        "x = iris.data\n",
        "y = iris.target\n",
        "\n",
        "logit = LogisticRegression()\n",
        "\n",
        "# 페널티 하이퍼파라미터 값의 후보 생성\n",
        "# ['l1', 'l2', 'elasticnet', 'none']\n",
        "penalty = ['l1', 'l2'] # L1, L2 대문자 작성 시 오류 발생\n",
        "\n",
        "# 규제 하이퍼파라미터 값의 후보 범위 생성\n",
        "C = np.logspace(0, 4, 10)\n",
        "print('C shape:', C.shape)\n",
        "print('C sample:', C[:3])\n",
        "\n",
        "# 하이퍼파라미터 후보 딕셔너리를 만듭니다\n",
        "hyperparameters = dict(C=C, penalty=penalty)\n",
        "\n",
        "# verbose : 탐색과정에서 출력되는 메시지 양 설정 (0: 아무것도 출력X, 3: 자세한)\n",
        "gridsearch = GridSearchCV(logit, hyperparameters, cv=5, verbose=1)\n",
        "\n",
        "best_model = gridsearch.fit(x, y)"
      ],
      "metadata": {
        "colab": {
          "base_uri": "https://localhost:8080/"
        },
        "id": "5KAyG2_u-3Up",
        "outputId": "0452e8bc-4dc4-4b36-a223-c36742bcde44"
      },
      "execution_count": 29,
      "outputs": [
        {
          "output_type": "stream",
          "name": "stdout",
          "text": [
            "C shape: (10,)\n",
            "C sample: [1.         2.7825594  7.74263683]\n",
            "Fitting 5 folds for each of 20 candidates, totalling 100 fits\n"
          ]
        }
      ]
    },
    {
      "cell_type": "markdown",
      "source": [
        "- C : 10개의 가능한 값 설정\n",
        "- 페널티 : `l1`, `l2` 정의\n",
        "- GridSearchCV : 10 (c) * 2 (페널티) * 5 (cv) = 100 개의 모델 후보 중 가장 좋은것 선택"
      ],
      "metadata": {
        "id": "TDYPjx94BYfE"
      }
    },
    {
      "cell_type": "code",
      "execution_count": 30,
      "metadata": {
        "id": "PKTvaoVGQHh4",
        "colab": {
          "base_uri": "https://localhost:8080/"
        },
        "outputId": "45c56656-d59b-4da4-dde9-a4e6052800f8"
      },
      "outputs": [
        {
          "output_type": "stream",
          "name": "stdout",
          "text": [
            "HyperParameters: {'C': array([1.00000000e+00, 2.78255940e+00, 7.74263683e+00, 2.15443469e+01,\n",
            "       5.99484250e+01, 1.66810054e+02, 4.64158883e+02, 1.29154967e+03,\n",
            "       3.59381366e+03, 1.00000000e+04]), 'penalty': ['l1', 'l2']}\n",
            "\n",
            "\n",
            "\n",
            "가장 좋은 페널티: {'C': 7.742636826811269, 'class_weight': None, 'dual': False, 'fit_intercept': True, 'intercept_scaling': 1, 'l1_ratio': None, 'max_iter': 100, 'multi_class': 'auto', 'n_jobs': None, 'penalty': 'l2', 'random_state': None, 'solver': 'lbfgs', 'tol': 0.0001, 'verbose': 0, 'warm_start': False}\n",
            "가장 좋은 페널티: l2\n",
            "가장 좋은 C값: 7.742636826811269\n"
          ]
        }
      ],
      "source": [
        "print('HyperParameters:', hyperparameters)\n",
        "\n",
        "print('\\n\\n')\n",
        "print('가장 좋은 페널티:', best_model.best_estimator_.get_params())\n",
        "print('가장 좋은 페널티:', best_model.best_estimator_.get_params()['penalty'])\n",
        "print('가장 좋은 C값:', best_model.best_estimator_.get_params()['C'])"
      ]
    },
    {
      "cell_type": "code",
      "source": [
        "# 타깃 벡터 예측\n",
        "rt_best_model = best_model.predict(x)\n",
        "print(rt_best_model)\n",
        "print(iris.target_names)"
      ],
      "metadata": {
        "colab": {
          "base_uri": "https://localhost:8080/"
        },
        "id": "SxrMNKhzDUbk",
        "outputId": "94d3831b-1592-423a-c142-c4a0b31fa318"
      },
      "execution_count": 31,
      "outputs": [
        {
          "output_type": "stream",
          "name": "stdout",
          "text": [
            "[0 0 0 0 0 0 0 0 0 0 0 0 0 0 0 0 0 0 0 0 0 0 0 0 0 0 0 0 0 0 0 0 0 0 0 0 0\n",
            " 0 0 0 0 0 0 0 0 0 0 0 0 0 1 1 1 1 1 1 1 1 1 1 1 1 1 1 1 1 1 1 1 1 2 1 1 1\n",
            " 1 1 1 1 1 1 1 1 1 2 1 1 1 1 1 1 1 1 1 1 1 1 1 1 1 1 2 2 2 2 2 2 2 2 2 2 2\n",
            " 2 2 2 2 2 2 2 2 2 2 2 2 2 2 2 2 2 2 2 2 2 2 1 2 2 2 2 2 2 2 2 2 2 2 2 2 2\n",
            " 2 2]\n",
            "['setosa' 'versicolor' 'virginica']\n"
          ]
        }
      ]
    },
    {
      "cell_type": "code",
      "source": [
        "def renames(x) :\n",
        "    rt_name=''\n",
        "    if(x==0) :\n",
        "        rt_name='setosa'\n",
        "    elif (x==1) :\n",
        "        rt_name = 'versicolor'\n",
        "    else :\n",
        "        rt_name = 'virginica'\n",
        "    return rt_name\n",
        "\n",
        "fn_rename = np.vectorize(renames)\n",
        "fn_rename(rt_best_model[:20])"
      ],
      "metadata": {
        "colab": {
          "base_uri": "https://localhost:8080/"
        },
        "id": "IZwHsMVPE2rF",
        "outputId": "6efc45c1-17d1-4d13-c856-ba7bbb56f385"
      },
      "execution_count": 32,
      "outputs": [
        {
          "output_type": "execute_result",
          "data": {
            "text/plain": [
              "array(['setosa', 'setosa', 'setosa', 'setosa', 'setosa', 'setosa',\n",
              "       'setosa', 'setosa', 'setosa', 'setosa', 'setosa', 'setosa',\n",
              "       'setosa', 'setosa', 'setosa', 'setosa', 'setosa', 'setosa',\n",
              "       'setosa', 'setosa'], dtype='<U6')"
            ]
          },
          "metadata": {},
          "execution_count": 32
        }
      ]
    },
    {
      "cell_type": "markdown",
      "source": [
        "## 12.2 랜덤 탐색을 사용해 최선의 모델 선택하기"
      ],
      "metadata": {
        "id": "nbgKnl5FG16t"
      }
    },
    {
      "cell_type": "markdown",
      "source": [
        "과제 : 완전 탐색 (exhaustive search) 보다 최선의 모델을 선택하는 데 계산 비용이 적게 드는 방법을 원합니다.\n",
        "\n",
        "해결 : 사이킷런의 `RandomizedSearchCV`를 사용"
      ],
      "metadata": {
        "id": "cLSkcCm7G7M3"
      }
    },
    {
      "cell_type": "code",
      "source": [
        "from scipy.stats import uniform\n",
        "from sklearn.linear_model import LogisticRegression\n",
        "from sklearn import datasets\n",
        "from sklearn.model_selection import RandomizedSearchCV\n",
        "\n",
        "iris = datasets.load_iris()\n",
        "x = iris.data\n",
        "y = iris.target\n",
        "class_names = iris.target_names\n",
        "print('target names:', class_names)\n",
        "\n",
        "logit = LogisticRegression()\n",
        "penalty = ['l1', 'l2']\n",
        "\n",
        "# 규제 하이퍼파라미터 값의 후보를 위한 분포 생성\n",
        "# uniform : 균일분포 값을 생성, loc: 분포의 기댓값, scale: 표준편차 \n",
        "C = uniform(loc=0, scale=4)\n",
        "print('type:', type(C))\n",
        "# print('c shape:', C.shape)\n",
        "# print('C sample:', C[:5])\n",
        "\n",
        "hyperparameters = dict(C=C, penalty=penalty)\n",
        "\n",
        "\n",
        "randomizedsearch = RandomizedSearchCV(logit, hyperparameters, random_state=1,\n",
        "                                      n_iter=100, cv=5, verbose=0, n_jobs=-1)\n",
        "\n",
        "# 랜덤 탐색 수행\n",
        "best_model = randomizedsearch.fit(x, y)"
      ],
      "metadata": {
        "colab": {
          "base_uri": "https://localhost:8080/"
        },
        "id": "UVh8Gh7xHMt_",
        "outputId": "20ad1032-959b-49d4-b53e-aa59880799c1"
      },
      "execution_count": 33,
      "outputs": [
        {
          "output_type": "stream",
          "name": "stdout",
          "text": [
            "target names: ['setosa' 'versicolor' 'virginica']\n",
            "type: <class 'scipy.stats._distn_infrastructure.rv_frozen'>\n"
          ]
        }
      ]
    },
    {
      "cell_type": "code",
      "source": [
        "print(hyperparameters)\n",
        "\n",
        "# 0~4 사이의 균등분포를 정의하고 10개의 값을 샘플링\n",
        "C.rvs(10)"
      ],
      "metadata": {
        "colab": {
          "base_uri": "https://localhost:8080/"
        },
        "id": "-lQ6ZkK3JDMq",
        "outputId": "1ccf4c0d-b4c7-4886-dd64-29b81f0300ac"
      },
      "execution_count": 34,
      "outputs": [
        {
          "output_type": "stream",
          "name": "stdout",
          "text": [
            "{'C': <scipy.stats._distn_infrastructure.rv_frozen object at 0x7f8322e22ee0>, 'penalty': ['l1', 'l2']}\n"
          ]
        },
        {
          "output_type": "execute_result",
          "data": {
            "text/plain": [
              "array([1.042714  , 1.85147459, 2.80848857, 0.79081389, 3.56381637,\n",
              "       0.47054037, 1.24180098, 0.02887279, 3.40892514, 3.57784154])"
            ]
          },
          "metadata": {},
          "execution_count": 34
        }
      ]
    },
    {
      "cell_type": "code",
      "source": [
        "print('가장 좋은 페널티:', best_model.best_estimator_.get_params()['penalty'])\n",
        "print('가장 좋은 C 값:', best_model.best_estimator_.get_params()['C'])"
      ],
      "metadata": {
        "colab": {
          "base_uri": "https://localhost:8080/"
        },
        "id": "tN-zt7_9Jbok",
        "outputId": "94eb97d3-3283-45f7-84fb-48fbb2618505"
      },
      "execution_count": 35,
      "outputs": [
        {
          "output_type": "stream",
          "name": "stdout",
          "text": [
            "가장 좋은 페널티: l2\n",
            "가장 좋은 C 값: 3.730229437354635\n"
          ]
        }
      ]
    },
    {
      "cell_type": "code",
      "source": [
        "y_predict = best_model.predict(x)\n",
        "print('타깃 예측값:', y_predict[:10])\n",
        "print('class name:', class_names)"
      ],
      "metadata": {
        "colab": {
          "base_uri": "https://localhost:8080/"
        },
        "id": "67Wr--2AJsfQ",
        "outputId": "d7a7ae2f-4b39-4632-add8-1d324e8b8eea"
      },
      "execution_count": 36,
      "outputs": [
        {
          "output_type": "stream",
          "name": "stdout",
          "text": [
            "타깃 예측값: [0 0 0 0 0 0 0 0 0 0]\n",
            "class name: ['setosa' 'versicolor' 'virginica']\n"
          ]
        }
      ]
    },
    {
      "cell_type": "code",
      "source": [
        "def target_name(x) :\n",
        "    if (x==0) :\n",
        "        return 'setosa'\n",
        "    elif (x==1) :\n",
        "        return 'versicolor'\n",
        "    else :\n",
        "        return 'virginica'\n",
        "\n",
        "lambda_rename = np.vectorize(target_name)\n",
        "lambda_rename(y_predict[:10])\n"
      ],
      "metadata": {
        "colab": {
          "base_uri": "https://localhost:8080/"
        },
        "id": "cWqatyJfJ4ff",
        "outputId": "8dc21c57-7944-47c2-8090-6a2cc6b04e4f"
      },
      "execution_count": 37,
      "outputs": [
        {
          "output_type": "execute_result",
          "data": {
            "text/plain": [
              "array(['setosa', 'setosa', 'setosa', 'setosa', 'setosa', 'setosa',\n",
              "       'setosa', 'setosa', 'setosa', 'setosa'], dtype='<U6')"
            ]
          },
          "metadata": {},
          "execution_count": 37
        }
      ]
    },
    {
      "cell_type": "markdown",
      "source": [
        "## 12.3 여러 학습 알고리즘에서 최선의 모델 선택하기 "
      ],
      "metadata": {
        "id": "9NzsM-kGKgZO"
      }
    },
    {
      "cell_type": "markdown",
      "source": [
        "과제 : 다양한 학습 알고리즘과 각각의 하이퍼파라미터를 탐색하여 최선의 모델을 선택\n",
        "\n",
        "해결 : 후보 학습 알고리즘과 이에 해당하는 하이퍼파라미터의 딕셔너리 생성 "
      ],
      "metadata": {
        "id": "1OZvcyIgKjiI"
      }
    },
    {
      "cell_type": "code",
      "source": [
        "import numpy as np\n",
        "from sklearn.datasets import load_iris\n",
        "from sklearn.linear_model import LogisticRegression\n",
        "from sklearn.ensemble import RandomForestClassifier\n",
        "from sklearn.model_selection import GridSearchCV\n",
        "from sklearn.pipeline import Pipeline\n",
        "\n",
        "# random seed 설정\n",
        "np.random.seed(0)\n",
        "\n",
        "iris = load_iris()\n",
        "x = iris.data\n",
        "y = iris.target\n",
        "class_names = iris.target_names\n",
        "\n",
        "# 파이프라인 생성\n",
        "pipe = Pipeline([('classifier', RandomForestClassifier())])\n",
        "\n",
        "# 후보 학습 알고리즘과 하이퍼파라미터로 딕셔너리 생성\n",
        "search_space = [ {'classifier': [LogisticRegression()],\n",
        "                  'classifier__penalty' : ['l1', 'l2'],\n",
        "                  'classifier__C' : np.logspace(0, 4, 10)},\n",
        "                 {'classifier' : [RandomForestClassifier()],\n",
        "                  'classifier__n_estimators' : [10, 100, 1000],\n",
        "                  'classifier__max_features' : [1, 2, 3]\n",
        "                  } ]\n",
        "\n",
        "grid_search = GridSearchCV(pipe, search_space, cv=5, verbose=0)\n",
        "\n",
        "best_model = grid_search.fit(x, y)"
      ],
      "metadata": {
        "id": "U6zBGrrMKrmw"
      },
      "execution_count": 42,
      "outputs": []
    }
  ]
}