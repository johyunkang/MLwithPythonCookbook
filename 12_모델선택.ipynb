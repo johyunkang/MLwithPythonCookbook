{
  "nbformat": 4,
  "nbformat_minor": 0,
  "metadata": {
    "colab": {
      "provenance": [],
      "authorship_tag": "ABX9TyOeuru7SXMP8B6iiCdRREF7",
      "include_colab_link": true
    },
    "kernelspec": {
      "name": "python3",
      "display_name": "Python 3"
    },
    "language_info": {
      "name": "python"
    }
  },
  "cells": [
    {
      "cell_type": "markdown",
      "metadata": {
        "id": "view-in-github",
        "colab_type": "text"
      },
      "source": [
        "<a href=\"https://colab.research.google.com/github/johyunkang/MLwithPythonCookbook/blob/main/12_%EB%AA%A8%EB%8D%B8%EC%84%A0%ED%83%9D.ipynb\" target=\"_parent\"><img src=\"https://colab.research.google.com/assets/colab-badge.svg\" alt=\"Open In Colab\"/></a>"
      ]
    },
    {
      "cell_type": "markdown",
      "source": [
        "# Chapter 12 모델 선택"
      ],
      "metadata": {
        "id": "7hE-XdDbQLjQ"
      }
    },
    {
      "cell_type": "markdown",
      "source": [
        "## 12.0 소개"
      ],
      "metadata": {
        "id": "XDcaLviWQPcw"
      }
    },
    {
      "cell_type": "code",
      "execution_count": null,
      "metadata": {
        "id": "PKTvaoVGQHh4"
      },
      "outputs": [],
      "source": [
        "# p.317"
      ]
    }
  ]
}